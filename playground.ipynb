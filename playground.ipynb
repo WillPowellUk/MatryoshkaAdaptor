{
 "cells": [
  {
   "cell_type": "markdown",
   "metadata": {},
   "source": [
    "# Structure\n"
   ]
  },
  {
   "cell_type": "markdown",
   "metadata": {},
   "source": [
    "## Setup"
   ]
  },
  {
   "cell_type": "code",
   "execution_count": 1,
   "metadata": {},
   "outputs": [
    {
     "name": "stdout",
     "output_type": "stream",
     "text": [
      "Collecting sentence-transformers (from -r requirements.txt (line 1))\n",
      "  Downloading sentence_transformers-3.0.1-py3-none-any.whl.metadata (10 kB)\n",
      "Requirement already satisfied: transformers<5.0.0,>=4.34.0 in /home/fsociety/anaconda3/envs/ML_Dev/lib/python3.12/site-packages (from sentence-transformers->-r requirements.txt (line 1)) (4.40.1)\n",
      "Requirement already satisfied: tqdm in /home/fsociety/anaconda3/envs/ML_Dev/lib/python3.12/site-packages (from sentence-transformers->-r requirements.txt (line 1)) (4.66.4)\n",
      "Requirement already satisfied: torch>=1.11.0 in /home/fsociety/anaconda3/envs/ML_Dev/lib/python3.12/site-packages (from sentence-transformers->-r requirements.txt (line 1)) (2.3.0)\n",
      "Requirement already satisfied: numpy in /home/fsociety/anaconda3/envs/ML_Dev/lib/python3.12/site-packages (from sentence-transformers->-r requirements.txt (line 1)) (1.26.4)\n",
      "Requirement already satisfied: scikit-learn in /home/fsociety/anaconda3/envs/ML_Dev/lib/python3.12/site-packages (from sentence-transformers->-r requirements.txt (line 1)) (1.4.2)\n",
      "Requirement already satisfied: scipy in /home/fsociety/anaconda3/envs/ML_Dev/lib/python3.12/site-packages (from sentence-transformers->-r requirements.txt (line 1)) (1.13.1)\n",
      "Requirement already satisfied: huggingface-hub>=0.15.1 in /home/fsociety/anaconda3/envs/ML_Dev/lib/python3.12/site-packages (from sentence-transformers->-r requirements.txt (line 1)) (0.23.0)\n",
      "Requirement already satisfied: Pillow in /home/fsociety/anaconda3/envs/ML_Dev/lib/python3.12/site-packages (from sentence-transformers->-r requirements.txt (line 1)) (10.3.0)\n",
      "Requirement already satisfied: filelock in /home/fsociety/anaconda3/envs/ML_Dev/lib/python3.12/site-packages (from huggingface-hub>=0.15.1->sentence-transformers->-r requirements.txt (line 1)) (3.13.1)\n",
      "Requirement already satisfied: fsspec>=2023.5.0 in /home/fsociety/anaconda3/envs/ML_Dev/lib/python3.12/site-packages (from huggingface-hub>=0.15.1->sentence-transformers->-r requirements.txt (line 1)) (2024.3.1)\n",
      "Requirement already satisfied: packaging>=20.9 in /home/fsociety/anaconda3/envs/ML_Dev/lib/python3.12/site-packages (from huggingface-hub>=0.15.1->sentence-transformers->-r requirements.txt (line 1)) (24.0)\n",
      "Requirement already satisfied: pyyaml>=5.1 in /home/fsociety/anaconda3/envs/ML_Dev/lib/python3.12/site-packages (from huggingface-hub>=0.15.1->sentence-transformers->-r requirements.txt (line 1)) (6.0.1)\n",
      "Requirement already satisfied: requests in /home/fsociety/anaconda3/envs/ML_Dev/lib/python3.12/site-packages (from huggingface-hub>=0.15.1->sentence-transformers->-r requirements.txt (line 1)) (2.32.3)\n",
      "Requirement already satisfied: typing-extensions>=3.7.4.3 in /home/fsociety/anaconda3/envs/ML_Dev/lib/python3.12/site-packages (from huggingface-hub>=0.15.1->sentence-transformers->-r requirements.txt (line 1)) (4.9.0)\n",
      "Requirement already satisfied: sympy in /home/fsociety/anaconda3/envs/ML_Dev/lib/python3.12/site-packages (from torch>=1.11.0->sentence-transformers->-r requirements.txt (line 1)) (1.12)\n",
      "Requirement already satisfied: networkx in /home/fsociety/anaconda3/envs/ML_Dev/lib/python3.12/site-packages (from torch>=1.11.0->sentence-transformers->-r requirements.txt (line 1)) (3.1)\n",
      "Requirement already satisfied: jinja2 in /home/fsociety/anaconda3/envs/ML_Dev/lib/python3.12/site-packages (from torch>=1.11.0->sentence-transformers->-r requirements.txt (line 1)) (3.1.3)\n",
      "Requirement already satisfied: nvidia-cuda-nvrtc-cu12==12.1.105 in /home/fsociety/anaconda3/envs/ML_Dev/lib/python3.12/site-packages (from torch>=1.11.0->sentence-transformers->-r requirements.txt (line 1)) (12.1.105)\n",
      "Requirement already satisfied: nvidia-cuda-runtime-cu12==12.1.105 in /home/fsociety/anaconda3/envs/ML_Dev/lib/python3.12/site-packages (from torch>=1.11.0->sentence-transformers->-r requirements.txt (line 1)) (12.1.105)\n",
      "Requirement already satisfied: nvidia-cuda-cupti-cu12==12.1.105 in /home/fsociety/anaconda3/envs/ML_Dev/lib/python3.12/site-packages (from torch>=1.11.0->sentence-transformers->-r requirements.txt (line 1)) (12.1.105)\n",
      "Requirement already satisfied: nvidia-cudnn-cu12==8.9.2.26 in /home/fsociety/anaconda3/envs/ML_Dev/lib/python3.12/site-packages (from torch>=1.11.0->sentence-transformers->-r requirements.txt (line 1)) (8.9.2.26)\n",
      "Requirement already satisfied: nvidia-cublas-cu12==12.1.3.1 in /home/fsociety/anaconda3/envs/ML_Dev/lib/python3.12/site-packages (from torch>=1.11.0->sentence-transformers->-r requirements.txt (line 1)) (12.1.3.1)\n",
      "Requirement already satisfied: nvidia-cufft-cu12==11.0.2.54 in /home/fsociety/anaconda3/envs/ML_Dev/lib/python3.12/site-packages (from torch>=1.11.0->sentence-transformers->-r requirements.txt (line 1)) (11.0.2.54)\n",
      "Requirement already satisfied: nvidia-curand-cu12==10.3.2.106 in /home/fsociety/anaconda3/envs/ML_Dev/lib/python3.12/site-packages (from torch>=1.11.0->sentence-transformers->-r requirements.txt (line 1)) (10.3.2.106)\n",
      "Requirement already satisfied: nvidia-cusolver-cu12==11.4.5.107 in /home/fsociety/anaconda3/envs/ML_Dev/lib/python3.12/site-packages (from torch>=1.11.0->sentence-transformers->-r requirements.txt (line 1)) (11.4.5.107)\n",
      "Requirement already satisfied: nvidia-cusparse-cu12==12.1.0.106 in /home/fsociety/anaconda3/envs/ML_Dev/lib/python3.12/site-packages (from torch>=1.11.0->sentence-transformers->-r requirements.txt (line 1)) (12.1.0.106)\n",
      "Requirement already satisfied: nvidia-nccl-cu12==2.20.5 in /home/fsociety/anaconda3/envs/ML_Dev/lib/python3.12/site-packages (from torch>=1.11.0->sentence-transformers->-r requirements.txt (line 1)) (2.20.5)\n",
      "Requirement already satisfied: nvidia-nvtx-cu12==12.1.105 in /home/fsociety/anaconda3/envs/ML_Dev/lib/python3.12/site-packages (from torch>=1.11.0->sentence-transformers->-r requirements.txt (line 1)) (12.1.105)\n",
      "Requirement already satisfied: nvidia-nvjitlink-cu12 in /home/fsociety/anaconda3/envs/ML_Dev/lib/python3.12/site-packages (from nvidia-cusolver-cu12==11.4.5.107->torch>=1.11.0->sentence-transformers->-r requirements.txt (line 1)) (12.5.40)\n",
      "Requirement already satisfied: regex!=2019.12.17 in /home/fsociety/anaconda3/envs/ML_Dev/lib/python3.12/site-packages (from transformers<5.0.0,>=4.34.0->sentence-transformers->-r requirements.txt (line 1)) (2024.4.28)\n",
      "Requirement already satisfied: tokenizers<0.20,>=0.19 in /home/fsociety/anaconda3/envs/ML_Dev/lib/python3.12/site-packages (from transformers<5.0.0,>=4.34.0->sentence-transformers->-r requirements.txt (line 1)) (0.19.1)\n",
      "Requirement already satisfied: safetensors>=0.4.1 in /home/fsociety/anaconda3/envs/ML_Dev/lib/python3.12/site-packages (from transformers<5.0.0,>=4.34.0->sentence-transformers->-r requirements.txt (line 1)) (0.4.3)\n",
      "Requirement already satisfied: joblib>=1.2.0 in /home/fsociety/anaconda3/envs/ML_Dev/lib/python3.12/site-packages (from scikit-learn->sentence-transformers->-r requirements.txt (line 1)) (1.4.2)\n",
      "Requirement already satisfied: threadpoolctl>=2.0.0 in /home/fsociety/anaconda3/envs/ML_Dev/lib/python3.12/site-packages (from scikit-learn->sentence-transformers->-r requirements.txt (line 1)) (3.3.0)\n",
      "Requirement already satisfied: MarkupSafe>=2.0 in /home/fsociety/anaconda3/envs/ML_Dev/lib/python3.12/site-packages (from jinja2->torch>=1.11.0->sentence-transformers->-r requirements.txt (line 1)) (2.1.3)\n",
      "Requirement already satisfied: charset-normalizer<4,>=2 in /home/fsociety/anaconda3/envs/ML_Dev/lib/python3.12/site-packages (from requests->huggingface-hub>=0.15.1->sentence-transformers->-r requirements.txt (line 1)) (3.3.2)\n",
      "Requirement already satisfied: idna<4,>=2.5 in /home/fsociety/anaconda3/envs/ML_Dev/lib/python3.12/site-packages (from requests->huggingface-hub>=0.15.1->sentence-transformers->-r requirements.txt (line 1)) (3.7)\n",
      "Requirement already satisfied: urllib3<3,>=1.21.1 in /home/fsociety/anaconda3/envs/ML_Dev/lib/python3.12/site-packages (from requests->huggingface-hub>=0.15.1->sentence-transformers->-r requirements.txt (line 1)) (2.2.1)\n",
      "Requirement already satisfied: certifi>=2017.4.17 in /home/fsociety/anaconda3/envs/ML_Dev/lib/python3.12/site-packages (from requests->huggingface-hub>=0.15.1->sentence-transformers->-r requirements.txt (line 1)) (2024.6.2)\n",
      "Requirement already satisfied: mpmath>=0.19 in /home/fsociety/anaconda3/envs/ML_Dev/lib/python3.12/site-packages (from sympy->torch>=1.11.0->sentence-transformers->-r requirements.txt (line 1)) (1.3.0)\n",
      "Downloading sentence_transformers-3.0.1-py3-none-any.whl (227 kB)\n",
      "\u001b[2K   \u001b[90m━━━━━━━━━━━━━━━━━━━━━━━━━━━━━━━━━━━━━━━━\u001b[0m \u001b[32m227.1/227.1 kB\u001b[0m \u001b[31m3.8 MB/s\u001b[0m eta \u001b[36m0:00:00\u001b[0ma \u001b[36m0:00:01\u001b[0m\n",
      "\u001b[?25hInstalling collected packages: sentence-transformers\n",
      "Successfully installed sentence-transformers-3.0.1\n"
     ]
    }
   ],
   "source": [
    "!pip install -r requirements.txt"
   ]
  },
  {
   "cell_type": "markdown",
   "metadata": {},
   "source": [
    "## Test"
   ]
  },
  {
   "cell_type": "code",
   "execution_count": 2,
   "metadata": {},
   "outputs": [],
   "source": [
    "from sentence_transformers import SentenceTransformer\n",
    "sentences = [\"This is an example sentence\", \"Each sentence is converted\"]\n",
    "\n",
    "model = SentenceTransformer('sentence-transformers/all-MiniLM-L6-v2')\n",
    "embeddings = model.encode(sentences)\n",
    "print(embeddings)\n"
   ]
  },
  {
   "cell_type": "code",
   "execution_count": null,
   "metadata": {},
   "outputs": [],
   "source": [
    "from transformers import AutoTokenizer, AutoModel\n",
    "import torch\n",
    "import torch.nn.functional as F\n",
    "\n",
    "#Mean Pooling - Take attention mask into account for correct averaging\n",
    "def mean_pooling(model_output, attention_mask):\n",
    "    token_embeddings = model_output[0] #First element of model_output contains all token embeddings\n",
    "    input_mask_expanded = attention_mask.unsqueeze(-1).expand(token_embeddings.size()).float()\n",
    "    return torch.sum(token_embeddings * input_mask_expanded, 1) / torch.clamp(input_mask_expanded.sum(1), min=1e-9)\n",
    "\n",
    "\n",
    "# Sentences we want sentence embeddings for\n",
    "sentences = ['This is an example sentence', 'Each sentence is converted']\n",
    "\n",
    "# Load model from HuggingFace Hub\n",
    "tokenizer = AutoTokenizer.from_pretrained('sentence-transformers/all-MiniLM-L6-v2')\n",
    "model = AutoModel.from_pretrained('sentence-transformers/all-MiniLM-L6-v2')\n",
    "\n",
    "# Tokenize sentences\n",
    "encoded_input = tokenizer(sentences, padding=True, truncation=True, return_tensors='pt')\n",
    "\n",
    "# Compute token embeddings\n",
    "with torch.no_grad():\n",
    "    model_output = model(**encoded_input)\n",
    "\n",
    "# Perform pooling\n",
    "sentence_embeddings = mean_pooling(model_output, encoded_input['attention_mask'])\n",
    "\n",
    "# Normalize embeddings\n",
    "sentence_embeddings = F.normalize(sentence_embeddings, p=2, dim=1)\n",
    "\n",
    "print(\"Sentence embeddings:\")\n",
    "print(sentence_embeddings)\n"
   ]
  }
 ],
 "metadata": {
  "kernelspec": {
   "display_name": "base",
   "language": "python",
   "name": "python3"
  },
  "language_info": {
   "codemirror_mode": {
    "name": "ipython",
    "version": 3
   },
   "file_extension": ".py",
   "mimetype": "text/x-python",
   "name": "python",
   "nbconvert_exporter": "python",
   "pygments_lexer": "ipython3",
   "version": "3.12.4"
  }
 },
 "nbformat": 4,
 "nbformat_minor": 2
}
