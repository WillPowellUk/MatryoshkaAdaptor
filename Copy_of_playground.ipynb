{
  "cells": [
    {
      "cell_type": "markdown",
      "metadata": {
        "id": "pdg4efAmPQ32"
      },
      "source": [
        "# Structure\n"
      ]
    },
    {
      "cell_type": "markdown",
      "metadata": {
        "id": "aT1EJEfjPQ34"
      },
      "source": [
        "## Setup"
      ]
    },
    {
      "cell_type": "code",
      "execution_count": 4,
      "metadata": {
        "colab": {
          "base_uri": "https://localhost:8080/"
        },
        "id": "NNO5WkvKPQ35",
        "outputId": "decd2625-7e24-422e-e478-3f20bada4688"
      },
      "outputs": [
        {
          "name": "stdout",
          "output_type": "stream",
          "text": [
            "Requirement already satisfied: sentence-transformers in c:\\users\\willi\\miniconda3\\lib\\site-packages (3.0.1)\n",
            "Requirement already satisfied: transformers<5.0.0,>=4.34.0 in c:\\users\\willi\\miniconda3\\lib\\site-packages (from sentence-transformers) (4.44.1)\n",
            "Requirement already satisfied: tqdm in c:\\users\\willi\\miniconda3\\lib\\site-packages (from sentence-transformers) (4.66.5)\n",
            "Requirement already satisfied: torch>=1.11.0 in c:\\users\\willi\\miniconda3\\lib\\site-packages (from sentence-transformers) (2.4.0)\n",
            "Requirement already satisfied: numpy in c:\\users\\willi\\miniconda3\\lib\\site-packages (from sentence-transformers) (1.26.0)\n",
            "Requirement already satisfied: scikit-learn in c:\\users\\willi\\miniconda3\\lib\\site-packages (from sentence-transformers) (1.5.1)\n",
            "Requirement already satisfied: scipy in c:\\users\\willi\\miniconda3\\lib\\site-packages (from sentence-transformers) (1.14.0)\n",
            "Requirement already satisfied: huggingface-hub>=0.15.1 in c:\\users\\willi\\miniconda3\\lib\\site-packages (from sentence-transformers) (0.24.6)\n",
            "Requirement already satisfied: Pillow in c:\\users\\willi\\miniconda3\\lib\\site-packages (from sentence-transformers) (10.3.0)\n",
            "Requirement already satisfied: filelock in c:\\users\\willi\\miniconda3\\lib\\site-packages (from huggingface-hub>=0.15.1->sentence-transformers) (3.15.4)\n",
            "Requirement already satisfied: fsspec>=2023.5.0 in c:\\users\\willi\\miniconda3\\lib\\site-packages (from huggingface-hub>=0.15.1->sentence-transformers) (2024.6.1)\n",
            "Requirement already satisfied: packaging>=20.9 in c:\\users\\willi\\miniconda3\\lib\\site-packages (from huggingface-hub>=0.15.1->sentence-transformers) (23.2)\n",
            "Requirement already satisfied: pyyaml>=5.1 in c:\\users\\willi\\miniconda3\\lib\\site-packages (from huggingface-hub>=0.15.1->sentence-transformers) (6.0.2)\n",
            "Requirement already satisfied: requests in c:\\users\\willi\\miniconda3\\lib\\site-packages (from huggingface-hub>=0.15.1->sentence-transformers) (2.32.3)\n",
            "Requirement already satisfied: typing-extensions>=3.7.4.3 in c:\\users\\willi\\miniconda3\\lib\\site-packages (from huggingface-hub>=0.15.1->sentence-transformers) (4.12.2)\n",
            "Requirement already satisfied: sympy in c:\\users\\willi\\miniconda3\\lib\\site-packages (from torch>=1.11.0->sentence-transformers) (1.13.2)\n",
            "Requirement already satisfied: networkx in c:\\users\\willi\\miniconda3\\lib\\site-packages (from torch>=1.11.0->sentence-transformers) (3.3)\n",
            "Requirement already satisfied: jinja2 in c:\\users\\willi\\miniconda3\\lib\\site-packages (from torch>=1.11.0->sentence-transformers) (3.1.4)\n",
            "Requirement already satisfied: setuptools in c:\\users\\willi\\miniconda3\\lib\\site-packages (from torch>=1.11.0->sentence-transformers) (69.5.1)\n",
            "Requirement already satisfied: colorama in c:\\users\\willi\\miniconda3\\lib\\site-packages (from tqdm->sentence-transformers) (0.4.6)\n",
            "Requirement already satisfied: regex!=2019.12.17 in c:\\users\\willi\\miniconda3\\lib\\site-packages (from transformers<5.0.0,>=4.34.0->sentence-transformers) (2024.7.24)\n",
            "Requirement already satisfied: safetensors>=0.4.1 in c:\\users\\willi\\miniconda3\\lib\\site-packages (from transformers<5.0.0,>=4.34.0->sentence-transformers) (0.4.4)\n",
            "Requirement already satisfied: tokenizers<0.20,>=0.19 in c:\\users\\willi\\miniconda3\\lib\\site-packages (from transformers<5.0.0,>=4.34.0->sentence-transformers) (0.19.1)\n",
            "Requirement already satisfied: joblib>=1.2.0 in c:\\users\\willi\\miniconda3\\lib\\site-packages (from scikit-learn->sentence-transformers) (1.4.2)\n",
            "Requirement already satisfied: threadpoolctl>=3.1.0 in c:\\users\\willi\\miniconda3\\lib\\site-packages (from scikit-learn->sentence-transformers) (3.5.0)\n",
            "Requirement already satisfied: MarkupSafe>=2.0 in c:\\users\\willi\\miniconda3\\lib\\site-packages (from jinja2->torch>=1.11.0->sentence-transformers) (2.1.5)\n",
            "Requirement already satisfied: charset-normalizer<4,>=2 in c:\\users\\willi\\miniconda3\\lib\\site-packages (from requests->huggingface-hub>=0.15.1->sentence-transformers) (2.0.4)\n",
            "Requirement already satisfied: idna<4,>=2.5 in c:\\users\\willi\\miniconda3\\lib\\site-packages (from requests->huggingface-hub>=0.15.1->sentence-transformers) (3.7)\n",
            "Requirement already satisfied: urllib3<3,>=1.21.1 in c:\\users\\willi\\miniconda3\\lib\\site-packages (from requests->huggingface-hub>=0.15.1->sentence-transformers) (2.1.0)\n",
            "Requirement already satisfied: certifi>=2017.4.17 in c:\\users\\willi\\miniconda3\\lib\\site-packages (from requests->huggingface-hub>=0.15.1->sentence-transformers) (2024.7.4)\n",
            "Requirement already satisfied: mpmath<1.4,>=1.1.0 in c:\\users\\willi\\miniconda3\\lib\\site-packages (from sympy->torch>=1.11.0->sentence-transformers) (1.3.0)\n",
            "Requirement already satisfied: mteb in c:\\users\\willi\\miniconda3\\lib\\site-packages (1.14.9)\n",
            "Requirement already satisfied: datasets>=2.19.0 in c:\\users\\willi\\miniconda3\\lib\\site-packages (from mteb) (2.21.0)\n",
            "Requirement already satisfied: numpy<2.0.0,>=1.0.0 in c:\\users\\willi\\miniconda3\\lib\\site-packages (from mteb) (1.26.0)\n",
            "Requirement already satisfied: requests>=2.26.0 in c:\\users\\willi\\miniconda3\\lib\\site-packages (from mteb) (2.32.3)\n",
            "Requirement already satisfied: scikit-learn>=1.0.2 in c:\\users\\willi\\miniconda3\\lib\\site-packages (from mteb) (1.5.1)\n",
            "Requirement already satisfied: scipy>=0.0.0 in c:\\users\\willi\\miniconda3\\lib\\site-packages (from mteb) (1.14.0)\n",
            "Requirement already satisfied: sentence-transformers>=3.0.0 in c:\\users\\willi\\miniconda3\\lib\\site-packages (from mteb) (3.0.1)\n",
            "Requirement already satisfied: typing-extensions>=4.5.0 in c:\\users\\willi\\miniconda3\\lib\\site-packages (from mteb) (4.12.2)\n",
            "Requirement already satisfied: torch>1.0.0 in c:\\users\\willi\\miniconda3\\lib\\site-packages (from mteb) (2.4.0)\n",
            "Requirement already satisfied: tqdm>1.0.0 in c:\\users\\willi\\miniconda3\\lib\\site-packages (from mteb) (4.66.5)\n",
            "Requirement already satisfied: rich>=0.0.0 in c:\\users\\willi\\miniconda3\\lib\\site-packages (from mteb) (13.7.1)\n",
            "Requirement already satisfied: pytrec-eval-terrier>=0.5.6 in c:\\users\\willi\\miniconda3\\lib\\site-packages (from mteb) (0.5.6)\n",
            "Requirement already satisfied: pydantic>=2.0.0 in c:\\users\\willi\\miniconda3\\lib\\site-packages (from mteb) (2.8.2)\n",
            "Requirement already satisfied: eval-type-backport>=0.0.0 in c:\\users\\willi\\miniconda3\\lib\\site-packages (from mteb) (0.2.0)\n",
            "Requirement already satisfied: polars>=0.20.22 in c:\\users\\willi\\miniconda3\\lib\\site-packages (from mteb) (1.5.0)\n",
            "Requirement already satisfied: filelock in c:\\users\\willi\\miniconda3\\lib\\site-packages (from datasets>=2.19.0->mteb) (3.15.4)\n",
            "Requirement already satisfied: pyarrow>=15.0.0 in c:\\users\\willi\\miniconda3\\lib\\site-packages (from datasets>=2.19.0->mteb) (17.0.0)\n",
            "Requirement already satisfied: dill<0.3.9,>=0.3.0 in c:\\users\\willi\\miniconda3\\lib\\site-packages (from datasets>=2.19.0->mteb) (0.3.8)\n",
            "Requirement already satisfied: pandas in c:\\users\\willi\\miniconda3\\lib\\site-packages (from datasets>=2.19.0->mteb) (2.2.2)\n",
            "Requirement already satisfied: xxhash in c:\\users\\willi\\miniconda3\\lib\\site-packages (from datasets>=2.19.0->mteb) (3.5.0)\n",
            "Requirement already satisfied: multiprocess in c:\\users\\willi\\miniconda3\\lib\\site-packages (from datasets>=2.19.0->mteb) (0.70.16)\n",
            "Requirement already satisfied: fsspec<=2024.6.1,>=2023.1.0 in c:\\users\\willi\\miniconda3\\lib\\site-packages (from fsspec[http]<=2024.6.1,>=2023.1.0->datasets>=2.19.0->mteb) (2024.6.1)\n",
            "Requirement already satisfied: aiohttp in c:\\users\\willi\\miniconda3\\lib\\site-packages (from datasets>=2.19.0->mteb) (3.10.3)\n",
            "Requirement already satisfied: huggingface-hub>=0.21.2 in c:\\users\\willi\\miniconda3\\lib\\site-packages (from datasets>=2.19.0->mteb) (0.24.6)\n",
            "Requirement already satisfied: packaging in c:\\users\\willi\\miniconda3\\lib\\site-packages (from datasets>=2.19.0->mteb) (23.2)\n",
            "Requirement already satisfied: pyyaml>=5.1 in c:\\users\\willi\\miniconda3\\lib\\site-packages (from datasets>=2.19.0->mteb) (6.0.2)\n",
            "Requirement already satisfied: annotated-types>=0.4.0 in c:\\users\\willi\\miniconda3\\lib\\site-packages (from pydantic>=2.0.0->mteb) (0.7.0)\n",
            "Requirement already satisfied: pydantic-core==2.20.1 in c:\\users\\willi\\miniconda3\\lib\\site-packages (from pydantic>=2.0.0->mteb) (2.20.1)\n",
            "Requirement already satisfied: charset-normalizer<4,>=2 in c:\\users\\willi\\miniconda3\\lib\\site-packages (from requests>=2.26.0->mteb) (2.0.4)\n",
            "Requirement already satisfied: idna<4,>=2.5 in c:\\users\\willi\\miniconda3\\lib\\site-packages (from requests>=2.26.0->mteb) (3.7)\n",
            "Requirement already satisfied: urllib3<3,>=1.21.1 in c:\\users\\willi\\miniconda3\\lib\\site-packages (from requests>=2.26.0->mteb) (2.1.0)\n",
            "Requirement already satisfied: certifi>=2017.4.17 in c:\\users\\willi\\miniconda3\\lib\\site-packages (from requests>=2.26.0->mteb) (2024.7.4)\n",
            "Requirement already satisfied: markdown-it-py>=2.2.0 in c:\\users\\willi\\miniconda3\\lib\\site-packages (from rich>=0.0.0->mteb) (3.0.0)\n",
            "Requirement already satisfied: pygments<3.0.0,>=2.13.0 in c:\\users\\willi\\miniconda3\\lib\\site-packages (from rich>=0.0.0->mteb) (2.18.0)\n",
            "Requirement already satisfied: joblib>=1.2.0 in c:\\users\\willi\\miniconda3\\lib\\site-packages (from scikit-learn>=1.0.2->mteb) (1.4.2)\n",
            "Requirement already satisfied: threadpoolctl>=3.1.0 in c:\\users\\willi\\miniconda3\\lib\\site-packages (from scikit-learn>=1.0.2->mteb) (3.5.0)\n",
            "Requirement already satisfied: transformers<5.0.0,>=4.34.0 in c:\\users\\willi\\miniconda3\\lib\\site-packages (from sentence-transformers>=3.0.0->mteb) (4.44.1)\n",
            "Requirement already satisfied: Pillow in c:\\users\\willi\\miniconda3\\lib\\site-packages (from sentence-transformers>=3.0.0->mteb) (10.3.0)\n",
            "Requirement already satisfied: sympy in c:\\users\\willi\\miniconda3\\lib\\site-packages (from torch>1.0.0->mteb) (1.13.2)\n",
            "Requirement already satisfied: networkx in c:\\users\\willi\\miniconda3\\lib\\site-packages (from torch>1.0.0->mteb) (3.3)\n",
            "Requirement already satisfied: jinja2 in c:\\users\\willi\\miniconda3\\lib\\site-packages (from torch>1.0.0->mteb) (3.1.4)\n",
            "Requirement already satisfied: setuptools in c:\\users\\willi\\miniconda3\\lib\\site-packages (from torch>1.0.0->mteb) (69.5.1)\n",
            "Requirement already satisfied: colorama in c:\\users\\willi\\miniconda3\\lib\\site-packages (from tqdm>1.0.0->mteb) (0.4.6)\n",
            "Requirement already satisfied: aiohappyeyeballs>=2.3.0 in c:\\users\\willi\\miniconda3\\lib\\site-packages (from aiohttp->datasets>=2.19.0->mteb) (2.3.5)\n",
            "Requirement already satisfied: aiosignal>=1.1.2 in c:\\users\\willi\\miniconda3\\lib\\site-packages (from aiohttp->datasets>=2.19.0->mteb) (1.3.1)\n",
            "Requirement already satisfied: attrs>=17.3.0 in c:\\users\\willi\\miniconda3\\lib\\site-packages (from aiohttp->datasets>=2.19.0->mteb) (24.2.0)\n",
            "Requirement already satisfied: frozenlist>=1.1.1 in c:\\users\\willi\\miniconda3\\lib\\site-packages (from aiohttp->datasets>=2.19.0->mteb) (1.4.1)\n",
            "Requirement already satisfied: multidict<7.0,>=4.5 in c:\\users\\willi\\miniconda3\\lib\\site-packages (from aiohttp->datasets>=2.19.0->mteb) (6.0.5)\n",
            "Requirement already satisfied: yarl<2.0,>=1.0 in c:\\users\\willi\\miniconda3\\lib\\site-packages (from aiohttp->datasets>=2.19.0->mteb) (1.9.4)\n",
            "Requirement already satisfied: mdurl~=0.1 in c:\\users\\willi\\miniconda3\\lib\\site-packages (from markdown-it-py>=2.2.0->rich>=0.0.0->mteb) (0.1.2)\n",
            "Requirement already satisfied: regex!=2019.12.17 in c:\\users\\willi\\miniconda3\\lib\\site-packages (from transformers<5.0.0,>=4.34.0->sentence-transformers>=3.0.0->mteb) (2024.7.24)\n",
            "Requirement already satisfied: safetensors>=0.4.1 in c:\\users\\willi\\miniconda3\\lib\\site-packages (from transformers<5.0.0,>=4.34.0->sentence-transformers>=3.0.0->mteb) (0.4.4)\n",
            "Requirement already satisfied: tokenizers<0.20,>=0.19 in c:\\users\\willi\\miniconda3\\lib\\site-packages (from transformers<5.0.0,>=4.34.0->sentence-transformers>=3.0.0->mteb) (0.19.1)\n",
            "Requirement already satisfied: MarkupSafe>=2.0 in c:\\users\\willi\\miniconda3\\lib\\site-packages (from jinja2->torch>1.0.0->mteb) (2.1.5)\n",
            "Requirement already satisfied: python-dateutil>=2.8.2 in c:\\users\\willi\\miniconda3\\lib\\site-packages (from pandas->datasets>=2.19.0->mteb) (2.9.0)\n",
            "Requirement already satisfied: pytz>=2020.1 in c:\\users\\willi\\miniconda3\\lib\\site-packages (from pandas->datasets>=2.19.0->mteb) (2024.1)\n",
            "Requirement already satisfied: tzdata>=2022.7 in c:\\users\\willi\\miniconda3\\lib\\site-packages (from pandas->datasets>=2.19.0->mteb) (2024.1)\n",
            "Requirement already satisfied: mpmath<1.4,>=1.1.0 in c:\\users\\willi\\miniconda3\\lib\\site-packages (from sympy->torch>1.0.0->mteb) (1.3.0)\n",
            "Requirement already satisfied: six>=1.5 in c:\\users\\willi\\miniconda3\\lib\\site-packages (from python-dateutil>=2.8.2->pandas->datasets>=2.19.0->mteb) (1.16.0)\n",
            "Collecting beir\n",
            "  Using cached beir-2.0.0-py3-none-any.whl\n",
            "Requirement already satisfied: sentence-transformers in c:\\users\\willi\\miniconda3\\lib\\site-packages (from beir) (3.0.1)\n",
            "Collecting pytrec-eval (from beir)\n",
            "  Using cached pytrec_eval-0.5.tar.gz (15 kB)\n",
            "  Preparing metadata (setup.py): started\n",
            "  Preparing metadata (setup.py): finished with status 'done'\n",
            "Collecting faiss-cpu (from beir)\n",
            "  Using cached faiss_cpu-1.8.0.post1-cp312-cp312-win_amd64.whl.metadata (3.8 kB)\n",
            "Collecting elasticsearch==7.9.1 (from beir)\n",
            "  Using cached elasticsearch-7.9.1-py2.py3-none-any.whl.metadata (8.0 kB)\n",
            "Requirement already satisfied: datasets in c:\\users\\willi\\miniconda3\\lib\\site-packages (from beir) (2.21.0)\n",
            "Requirement already satisfied: urllib3>=1.21.1 in c:\\users\\willi\\miniconda3\\lib\\site-packages (from elasticsearch==7.9.1->beir) (2.1.0)\n",
            "Requirement already satisfied: certifi in c:\\users\\willi\\miniconda3\\lib\\site-packages (from elasticsearch==7.9.1->beir) (2024.7.4)\n",
            "Requirement already satisfied: filelock in c:\\users\\willi\\miniconda3\\lib\\site-packages (from datasets->beir) (3.15.4)\n",
            "Requirement already satisfied: numpy>=1.17 in c:\\users\\willi\\miniconda3\\lib\\site-packages (from datasets->beir) (1.26.0)\n",
            "Requirement already satisfied: pyarrow>=15.0.0 in c:\\users\\willi\\miniconda3\\lib\\site-packages (from datasets->beir) (17.0.0)\n",
            "Requirement already satisfied: dill<0.3.9,>=0.3.0 in c:\\users\\willi\\miniconda3\\lib\\site-packages (from datasets->beir) (0.3.8)\n",
            "Requirement already satisfied: pandas in c:\\users\\willi\\miniconda3\\lib\\site-packages (from datasets->beir) (2.2.2)\n",
            "Requirement already satisfied: requests>=2.32.2 in c:\\users\\willi\\miniconda3\\lib\\site-packages (from datasets->beir) (2.32.3)\n",
            "Requirement already satisfied: tqdm>=4.66.3 in c:\\users\\willi\\miniconda3\\lib\\site-packages (from datasets->beir) (4.66.5)\n",
            "Requirement already satisfied: xxhash in c:\\users\\willi\\miniconda3\\lib\\site-packages (from datasets->beir) (3.5.0)\n",
            "Requirement already satisfied: multiprocess in c:\\users\\willi\\miniconda3\\lib\\site-packages (from datasets->beir) (0.70.16)\n",
            "Requirement already satisfied: fsspec<=2024.6.1,>=2023.1.0 in c:\\users\\willi\\miniconda3\\lib\\site-packages (from fsspec[http]<=2024.6.1,>=2023.1.0->datasets->beir) (2024.6.1)\n",
            "Requirement already satisfied: aiohttp in c:\\users\\willi\\miniconda3\\lib\\site-packages (from datasets->beir) (3.10.3)\n",
            "Requirement already satisfied: huggingface-hub>=0.21.2 in c:\\users\\willi\\miniconda3\\lib\\site-packages (from datasets->beir) (0.24.6)\n",
            "Requirement already satisfied: packaging in c:\\users\\willi\\miniconda3\\lib\\site-packages (from datasets->beir) (23.2)\n",
            "Requirement already satisfied: pyyaml>=5.1 in c:\\users\\willi\\miniconda3\\lib\\site-packages (from datasets->beir) (6.0.2)\n",
            "Requirement already satisfied: transformers<5.0.0,>=4.34.0 in c:\\users\\willi\\miniconda3\\lib\\site-packages (from sentence-transformers->beir) (4.44.1)\n",
            "Requirement already satisfied: torch>=1.11.0 in c:\\users\\willi\\miniconda3\\lib\\site-packages (from sentence-transformers->beir) (2.4.0)\n",
            "Requirement already satisfied: scikit-learn in c:\\users\\willi\\miniconda3\\lib\\site-packages (from sentence-transformers->beir) (1.5.1)\n",
            "Requirement already satisfied: scipy in c:\\users\\willi\\miniconda3\\lib\\site-packages (from sentence-transformers->beir) (1.14.0)\n",
            "Requirement already satisfied: Pillow in c:\\users\\willi\\miniconda3\\lib\\site-packages (from sentence-transformers->beir) (10.3.0)\n",
            "Requirement already satisfied: aiohappyeyeballs>=2.3.0 in c:\\users\\willi\\miniconda3\\lib\\site-packages (from aiohttp->datasets->beir) (2.3.5)\n",
            "Requirement already satisfied: aiosignal>=1.1.2 in c:\\users\\willi\\miniconda3\\lib\\site-packages (from aiohttp->datasets->beir) (1.3.1)\n",
            "Requirement already satisfied: attrs>=17.3.0 in c:\\users\\willi\\miniconda3\\lib\\site-packages (from aiohttp->datasets->beir) (24.2.0)\n",
            "Requirement already satisfied: frozenlist>=1.1.1 in c:\\users\\willi\\miniconda3\\lib\\site-packages (from aiohttp->datasets->beir) (1.4.1)\n",
            "Requirement already satisfied: multidict<7.0,>=4.5 in c:\\users\\willi\\miniconda3\\lib\\site-packages (from aiohttp->datasets->beir) (6.0.5)\n",
            "Requirement already satisfied: yarl<2.0,>=1.0 in c:\\users\\willi\\miniconda3\\lib\\site-packages (from aiohttp->datasets->beir) (1.9.4)\n",
            "Requirement already satisfied: typing-extensions>=3.7.4.3 in c:\\users\\willi\\miniconda3\\lib\\site-packages (from huggingface-hub>=0.21.2->datasets->beir) (4.12.2)\n",
            "Requirement already satisfied: charset-normalizer<4,>=2 in c:\\users\\willi\\miniconda3\\lib\\site-packages (from requests>=2.32.2->datasets->beir) (2.0.4)\n",
            "Requirement already satisfied: idna<4,>=2.5 in c:\\users\\willi\\miniconda3\\lib\\site-packages (from requests>=2.32.2->datasets->beir) (3.7)\n",
            "Requirement already satisfied: sympy in c:\\users\\willi\\miniconda3\\lib\\site-packages (from torch>=1.11.0->sentence-transformers->beir) (1.13.2)\n",
            "Requirement already satisfied: networkx in c:\\users\\willi\\miniconda3\\lib\\site-packages (from torch>=1.11.0->sentence-transformers->beir) (3.3)\n",
            "Requirement already satisfied: jinja2 in c:\\users\\willi\\miniconda3\\lib\\site-packages (from torch>=1.11.0->sentence-transformers->beir) (3.1.4)\n",
            "Requirement already satisfied: setuptools in c:\\users\\willi\\miniconda3\\lib\\site-packages (from torch>=1.11.0->sentence-transformers->beir) (69.5.1)\n",
            "Requirement already satisfied: colorama in c:\\users\\willi\\miniconda3\\lib\\site-packages (from tqdm>=4.66.3->datasets->beir) (0.4.6)\n",
            "Requirement already satisfied: regex!=2019.12.17 in c:\\users\\willi\\miniconda3\\lib\\site-packages (from transformers<5.0.0,>=4.34.0->sentence-transformers->beir) (2024.7.24)\n",
            "Requirement already satisfied: safetensors>=0.4.1 in c:\\users\\willi\\miniconda3\\lib\\site-packages (from transformers<5.0.0,>=4.34.0->sentence-transformers->beir) (0.4.4)\n",
            "Requirement already satisfied: tokenizers<0.20,>=0.19 in c:\\users\\willi\\miniconda3\\lib\\site-packages (from transformers<5.0.0,>=4.34.0->sentence-transformers->beir) (0.19.1)\n",
            "Requirement already satisfied: python-dateutil>=2.8.2 in c:\\users\\willi\\miniconda3\\lib\\site-packages (from pandas->datasets->beir) (2.9.0)\n",
            "Requirement already satisfied: pytz>=2020.1 in c:\\users\\willi\\miniconda3\\lib\\site-packages (from pandas->datasets->beir) (2024.1)\n",
            "Requirement already satisfied: tzdata>=2022.7 in c:\\users\\willi\\miniconda3\\lib\\site-packages (from pandas->datasets->beir) (2024.1)\n",
            "Requirement already satisfied: joblib>=1.2.0 in c:\\users\\willi\\miniconda3\\lib\\site-packages (from scikit-learn->sentence-transformers->beir) (1.4.2)\n",
            "Requirement already satisfied: threadpoolctl>=3.1.0 in c:\\users\\willi\\miniconda3\\lib\\site-packages (from scikit-learn->sentence-transformers->beir) (3.5.0)\n",
            "Requirement already satisfied: six>=1.5 in c:\\users\\willi\\miniconda3\\lib\\site-packages (from python-dateutil>=2.8.2->pandas->datasets->beir) (1.16.0)\n",
            "Requirement already satisfied: MarkupSafe>=2.0 in c:\\users\\willi\\miniconda3\\lib\\site-packages (from jinja2->torch>=1.11.0->sentence-transformers->beir) (2.1.5)\n",
            "Requirement already satisfied: mpmath<1.4,>=1.1.0 in c:\\users\\willi\\miniconda3\\lib\\site-packages (from sympy->torch>=1.11.0->sentence-transformers->beir) (1.3.0)\n",
            "Using cached elasticsearch-7.9.1-py2.py3-none-any.whl (219 kB)\n",
            "Using cached faiss_cpu-1.8.0.post1-cp312-cp312-win_amd64.whl (14.6 MB)\n",
            "Building wheels for collected packages: pytrec-eval\n",
            "  Building wheel for pytrec-eval (setup.py): started\n",
            "  Building wheel for pytrec-eval (setup.py): finished with status 'error'\n",
            "  Running setup.py clean for pytrec-eval\n",
            "Failed to build pytrec-eval\n"
          ]
        },
        {
          "name": "stderr",
          "output_type": "stream",
          "text": [
            "  error: subprocess-exited-with-error\n",
            "  \n",
            "  × python setup.py bdist_wheel did not run successfully.\n",
            "  │ exit code: 1\n",
            "  ╰─> [26 lines of output]\n",
            "      Fetching trec_eval from https://github.com/usnistgov/trec_eval/archive/v9.0.8.tar.gz.\n",
            "      C:\\Users\\Willi\\miniconda3\\Lib\\site-packages\\setuptools\\dist.py:476: SetuptoolsDeprecationWarning: Invalid dash-separated options\n",
            "      !!\n",
            "      \n",
            "              ********************************************************************************\n",
            "              Usage of dash-separated 'description-file' will not be supported in future\n",
            "              versions. Please use the underscore name 'description_file' instead.\n",
            "      \n",
            "              By 2024-Sep-26, you need to update your project and remove deprecated calls\n",
            "              or your builds will no longer be supported.\n",
            "      \n",
            "              See https://setuptools.pypa.io/en/latest/userguide/declarative_config.html for details.\n",
            "              ********************************************************************************\n",
            "      \n",
            "      !!\n",
            "        opt = self.warn_dash_deprecation(opt, section)\n",
            "      running bdist_wheel\n",
            "      running build\n",
            "      running build_py\n",
            "      creating build\n",
            "      creating build\\lib.win-amd64-cpython-312\n",
            "      creating build\\lib.win-amd64-cpython-312\\pytrec_eval\n",
            "      copying py\\__init__.py -> build\\lib.win-amd64-cpython-312\\pytrec_eval\n",
            "      running build_ext\n",
            "      building 'pytrec_eval_ext' extension\n",
            "      error: Microsoft Visual C++ 14.0 or greater is required. Get it with \"Microsoft C++ Build Tools\": https://visualstudio.microsoft.com/visual-cpp-build-tools/\n",
            "      [end of output]\n",
            "  \n",
            "  note: This error originates from a subprocess, and is likely not a problem with pip.\n",
            "  ERROR: Failed building wheel for pytrec-eval\n",
            "ERROR: Could not build wheels for pytrec-eval, which is required to install pyproject.toml-based projects\n"
          ]
        },
        {
          "name": "stdout",
          "output_type": "stream",
          "text": [
            "Requirement already satisfied: datasets in c:\\users\\willi\\miniconda3\\lib\\site-packages (2.21.0)\n",
            "Requirement already satisfied: filelock in c:\\users\\willi\\miniconda3\\lib\\site-packages (from datasets) (3.15.4)\n",
            "Requirement already satisfied: numpy>=1.17 in c:\\users\\willi\\miniconda3\\lib\\site-packages (from datasets) (1.26.0)\n",
            "Requirement already satisfied: pyarrow>=15.0.0 in c:\\users\\willi\\miniconda3\\lib\\site-packages (from datasets) (17.0.0)\n",
            "Requirement already satisfied: dill<0.3.9,>=0.3.0 in c:\\users\\willi\\miniconda3\\lib\\site-packages (from datasets) (0.3.8)\n",
            "Requirement already satisfied: pandas in c:\\users\\willi\\miniconda3\\lib\\site-packages (from datasets) (2.2.2)\n",
            "Requirement already satisfied: requests>=2.32.2 in c:\\users\\willi\\miniconda3\\lib\\site-packages (from datasets) (2.32.3)\n",
            "Requirement already satisfied: tqdm>=4.66.3 in c:\\users\\willi\\miniconda3\\lib\\site-packages (from datasets) (4.66.5)\n",
            "Requirement already satisfied: xxhash in c:\\users\\willi\\miniconda3\\lib\\site-packages (from datasets) (3.5.0)\n",
            "Requirement already satisfied: multiprocess in c:\\users\\willi\\miniconda3\\lib\\site-packages (from datasets) (0.70.16)\n",
            "Requirement already satisfied: fsspec<=2024.6.1,>=2023.1.0 in c:\\users\\willi\\miniconda3\\lib\\site-packages (from fsspec[http]<=2024.6.1,>=2023.1.0->datasets) (2024.6.1)\n",
            "Requirement already satisfied: aiohttp in c:\\users\\willi\\miniconda3\\lib\\site-packages (from datasets) (3.10.3)\n",
            "Requirement already satisfied: huggingface-hub>=0.21.2 in c:\\users\\willi\\miniconda3\\lib\\site-packages (from datasets) (0.24.6)\n",
            "Requirement already satisfied: packaging in c:\\users\\willi\\miniconda3\\lib\\site-packages (from datasets) (23.2)\n",
            "Requirement already satisfied: pyyaml>=5.1 in c:\\users\\willi\\miniconda3\\lib\\site-packages (from datasets) (6.0.2)\n",
            "Requirement already satisfied: aiohappyeyeballs>=2.3.0 in c:\\users\\willi\\miniconda3\\lib\\site-packages (from aiohttp->datasets) (2.3.5)\n",
            "Requirement already satisfied: aiosignal>=1.1.2 in c:\\users\\willi\\miniconda3\\lib\\site-packages (from aiohttp->datasets) (1.3.1)\n",
            "Requirement already satisfied: attrs>=17.3.0 in c:\\users\\willi\\miniconda3\\lib\\site-packages (from aiohttp->datasets) (24.2.0)\n",
            "Requirement already satisfied: frozenlist>=1.1.1 in c:\\users\\willi\\miniconda3\\lib\\site-packages (from aiohttp->datasets) (1.4.1)\n",
            "Requirement already satisfied: multidict<7.0,>=4.5 in c:\\users\\willi\\miniconda3\\lib\\site-packages (from aiohttp->datasets) (6.0.5)\n",
            "Requirement already satisfied: yarl<2.0,>=1.0 in c:\\users\\willi\\miniconda3\\lib\\site-packages (from aiohttp->datasets) (1.9.4)\n",
            "Requirement already satisfied: typing-extensions>=3.7.4.3 in c:\\users\\willi\\miniconda3\\lib\\site-packages (from huggingface-hub>=0.21.2->datasets) (4.12.2)\n",
            "Requirement already satisfied: charset-normalizer<4,>=2 in c:\\users\\willi\\miniconda3\\lib\\site-packages (from requests>=2.32.2->datasets) (2.0.4)\n",
            "Requirement already satisfied: idna<4,>=2.5 in c:\\users\\willi\\miniconda3\\lib\\site-packages (from requests>=2.32.2->datasets) (3.7)\n",
            "Requirement already satisfied: urllib3<3,>=1.21.1 in c:\\users\\willi\\miniconda3\\lib\\site-packages (from requests>=2.32.2->datasets) (2.1.0)\n",
            "Requirement already satisfied: certifi>=2017.4.17 in c:\\users\\willi\\miniconda3\\lib\\site-packages (from requests>=2.32.2->datasets) (2024.7.4)\n",
            "Requirement already satisfied: colorama in c:\\users\\willi\\miniconda3\\lib\\site-packages (from tqdm>=4.66.3->datasets) (0.4.6)\n",
            "Requirement already satisfied: python-dateutil>=2.8.2 in c:\\users\\willi\\miniconda3\\lib\\site-packages (from pandas->datasets) (2.9.0)\n",
            "Requirement already satisfied: pytz>=2020.1 in c:\\users\\willi\\miniconda3\\lib\\site-packages (from pandas->datasets) (2024.1)\n",
            "Requirement already satisfied: tzdata>=2022.7 in c:\\users\\willi\\miniconda3\\lib\\site-packages (from pandas->datasets) (2024.1)\n",
            "Requirement already satisfied: six>=1.5 in c:\\users\\willi\\miniconda3\\lib\\site-packages (from python-dateutil>=2.8.2->pandas->datasets) (1.16.0)\n"
          ]
        }
      ],
      "source": [
        "# !pip install -r requirements.txt\n",
        "!pip install sentence-transformers\n",
        "!pip install mteb\n",
        "!pip install beir\n",
        "!pip install datasets"
      ]
    },
    {
      "cell_type": "markdown",
      "metadata": {
        "id": "cEwnKu7oPQ36"
      },
      "source": [
        "## Matryoshka-Adaptor Implementation"
      ]
    },
    {
      "cell_type": "markdown",
      "metadata": {
        "id": "IuuAdgX7sD00"
      },
      "source": [
        "### Architecture"
      ]
    },
    {
      "cell_type": "code",
      "execution_count": 2,
      "metadata": {
        "id": "rpi5vvq4sH80"
      },
      "outputs": [
        {
          "ename": "OSError",
          "evalue": "[WinError 126] The specified module could not be found. Error loading \"c:\\Users\\Willi\\miniconda3\\Lib\\site-packages\\torch\\lib\\fbgemm.dll\" or one of its dependencies.",
          "output_type": "error",
          "traceback": [
            "\u001b[1;31m---------------------------------------------------------------------------\u001b[0m",
            "\u001b[1;31mOSError\u001b[0m                                   Traceback (most recent call last)",
            "Cell \u001b[1;32mIn[2], line 1\u001b[0m\n\u001b[1;32m----> 1\u001b[0m \u001b[38;5;28;01mimport\u001b[39;00m \u001b[38;5;21;01mtorch\u001b[39;00m\n\u001b[0;32m      2\u001b[0m \u001b[38;5;28;01mimport\u001b[39;00m \u001b[38;5;21;01mtorch\u001b[39;00m\u001b[38;5;21;01m.\u001b[39;00m\u001b[38;5;21;01mnn\u001b[39;00m\u001b[38;5;21;01m.\u001b[39;00m\u001b[38;5;21;01mfunctional\u001b[39;00m \u001b[38;5;28;01mas\u001b[39;00m \u001b[38;5;21;01mF\u001b[39;00m\n\u001b[0;32m      4\u001b[0m \u001b[38;5;66;03m# Define MatryoshkaAdaptor module - a simple MLP\u001b[39;00m\n",
            "File \u001b[1;32mc:\\Users\\Willi\\miniconda3\\Lib\\site-packages\\torch\\__init__.py:148\u001b[0m\n\u001b[0;32m    146\u001b[0m                 err \u001b[38;5;241m=\u001b[39m ctypes\u001b[38;5;241m.\u001b[39mWinError(ctypes\u001b[38;5;241m.\u001b[39mget_last_error())\n\u001b[0;32m    147\u001b[0m                 err\u001b[38;5;241m.\u001b[39mstrerror \u001b[38;5;241m+\u001b[39m\u001b[38;5;241m=\u001b[39m \u001b[38;5;124mf\u001b[39m\u001b[38;5;124m'\u001b[39m\u001b[38;5;124m Error loading \u001b[39m\u001b[38;5;124m\"\u001b[39m\u001b[38;5;132;01m{\u001b[39;00mdll\u001b[38;5;132;01m}\u001b[39;00m\u001b[38;5;124m\"\u001b[39m\u001b[38;5;124m or one of its dependencies.\u001b[39m\u001b[38;5;124m'\u001b[39m\n\u001b[1;32m--> 148\u001b[0m                 \u001b[38;5;28;01mraise\u001b[39;00m err\n\u001b[0;32m    150\u001b[0m     kernel32\u001b[38;5;241m.\u001b[39mSetErrorMode(prev_error_mode)\n\u001b[0;32m    153\u001b[0m \u001b[38;5;28;01mdef\u001b[39;00m \u001b[38;5;21m_preload_cuda_deps\u001b[39m(lib_folder, lib_name):\n",
            "\u001b[1;31mOSError\u001b[0m: [WinError 126] The specified module could not be found. Error loading \"c:\\Users\\Willi\\miniconda3\\Lib\\site-packages\\torch\\lib\\fbgemm.dll\" or one of its dependencies."
          ]
        }
      ],
      "source": [
        "import torch\n",
        "import torch.nn.functional as F\n",
        "\n",
        "# Define MatryoshkaAdaptor module - a simple MLP\n",
        "class MatryoshkaAdaptor(torch.nn.Module):\n",
        "    \"\"\"\n",
        "    A PyTorch neural network module that adapts the output of an embedding model\n",
        "    into a desired output dimension using two linear transformations with a ReLU activation in between.\n",
        "\n",
        "    \"\"\"\n",
        "    def __init__(self, input_dim, hidden_dim, output_dim):\n",
        "        super(MatryoshkaAdaptor, self).__init__()\n",
        "        # First linear layer to transform the input dimension to a hidden dimension\n",
        "        self.linear1 = torch.nn.Linear(input_dim, hidden_dim)\n",
        "        # Second linear layer to transform the hidden dimension to the output dimension\n",
        "        self.linear2 = torch.nn.Linear(hidden_dim, output_dim)\n",
        "        # Activation function to introduce non-linearity\n",
        "        self.activation = torch.nn.ReLU()\n",
        "\n",
        "    def forward(self, embedding):\n",
        "        # Apply the first linear transformation followed by the activation function\n",
        "        hidden_embedding = self.activation(self.linear1(embedding))\n",
        "        \n",
        "        # Apply the second linear transformation to get the final adapted embedding\n",
        "        adapted_embedding = self.linear2(hidden_embedding)\n",
        "\n",
        "        return adapted_embedding"
      ]
    },
    {
      "cell_type": "markdown",
      "metadata": {
        "id": "0i3hyw53tnoz"
      },
      "source": [
        "### Loss Functions"
      ]
    },
    {
      "cell_type": "code",
      "execution_count": 3,
      "metadata": {
        "id": "X_inssTutsBl"
      },
      "outputs": [],
      "source": [
        "# Equation 1 in paper\n",
        "def pairwise_similarity_loss(original_embeddings, matryoshka_embeddings):\n",
        "    \"\"\"\n",
        "    Computes the pairwise similarity loss between original embeddings and matryoshka embeddings.\n",
        "    \n",
        "    Args:\n",
        "        original_embeddings: A tensor of shape (batch_size, embedding_dim) representing the original embeddings.\n",
        "        matryoshka_embeddings: A tensor of shape (batch_size, embedding_dim) representing the matryoshka embeddings.\n",
        "        \n",
        "    Returns:\n",
        "        loss: A scalar tensor representing the mean pairwise similarity loss.\n",
        "    \"\"\"\n",
        "    \n",
        "    # Normalize the embeddings along the embedding dimension to get the cosine similarity\n",
        "    normalized_original_embeddings = F.normalize(original_embeddings, p=2, dim=1)\n",
        "    normalized_matryoshka_embeddings = F.normalize(matryoshka_embeddings, p=2, dim=1)\n",
        "    \n",
        "    # Compute the cosine similarity matrices\n",
        "    original_similarity_matrix = torch.matmul(normalized_original_embeddings, normalized_original_embeddings.T)\n",
        "    matryoshka_similarity_matrix = torch.matmul(normalized_matryoshka_embeddings, normalized_matryoshka_embeddings.T)\n",
        "    \n",
        "    # Get the indices of the upper triangle of the matrices, excluding the diagonal\n",
        "    batch_size = original_embeddings.size(0)\n",
        "    i, j = torch.triu_indices(batch_size, batch_size, offset=1)\n",
        "    \n",
        "    # Compute the pairwise cosine similarities\n",
        "    original_pairwise_similarities = original_similarity_matrix[i, j]\n",
        "    matryoshka_pairwise_similarities = matryoshka_similarity_matrix[i, j]\n",
        "    \n",
        "    # Compute the absolute difference between corresponding pairwise similarities\n",
        "    similarity_differences = torch.abs(original_pairwise_similarities - matryoshka_pairwise_similarities)\n",
        "    \n",
        "    # Sum up all the absolute differences to produce the final loss\n",
        "    loss = torch.sum(similarity_differences)\n",
        "    \n",
        "    return loss\n",
        "\n",
        "# Equation 2 in paper\n",
        "def topk_similarity_loss(original_embeddings, matryoshka_embeddings, k=5):\n",
        "    \"\"\"\n",
        "    Computes the top-k similarity loss between original embeddings and matryoshka embeddings.\n",
        "    \n",
        "    Args:\n",
        "        original_embeddings: A tensor of shape (batch_size, embedding_dim) representing the original embeddings.\n",
        "        matryoshka_embeddings: A tensor of shape (batch_size, embedding_dim) representing the matryoshka embeddings.\n",
        "        k: The number of top similarities to consider (default is 5).\n",
        "        \n",
        "    Returns:\n",
        "        loss: A scalar tensor representing the top-k similarity loss.\n",
        "    \"\"\"\n",
        "    \n",
        "    # Normalize the embeddings along the embedding dimension to get the cosine similarity\n",
        "    normalized_original_embeddings = F.normalize(original_embeddings, p=2, dim=1)\n",
        "    normalized_matryoshka_embeddings = F.normalize(matryoshka_embeddings, p=2, dim=1)\n",
        "    \n",
        "    # Compute the cosine similarity matrices\n",
        "    original_similarity_matrix = torch.matmul(normalized_original_embeddings, normalized_original_embeddings.T)\n",
        "    matryoshka_similarity_matrix = torch.matmul(normalized_matryoshka_embeddings, normalized_matryoshka_embeddings.T)\n",
        "    \n",
        "    # Exclude self-similarity by setting the diagonal to a very low value\n",
        "    batch_size = original_embeddings.size(0)\n",
        "    original_similarity_matrix.fill_diagonal_(-float('inf'))\n",
        "    matryoshka_similarity_matrix.fill_diagonal_(-float('inf'))\n",
        "    \n",
        "    # For each embedding, get the top-k similarities and their corresponding indices\n",
        "    original_topk_values, _ = torch.topk(original_similarity_matrix, k, dim=1)\n",
        "    matryoshka_topk_values, _ = torch.topk(matryoshka_similarity_matrix, k, dim=1)\n",
        "    \n",
        "    # Compute the absolute difference between the top-k similarities\n",
        "    similarity_differences = torch.abs(original_topk_values - matryoshka_topk_values)\n",
        "    \n",
        "    # Sum up all the absolute differences to produce the final loss\n",
        "    loss = torch.sum(similarity_differences)\n",
        "    \n",
        "    return loss\n",
        "\n",
        "\n",
        "# Equation 3 in paper\n",
        "def regularization_loss(original_embeddings, matryoshka_embeddings, alpha=1.0):\n",
        "    \"\"\"\n",
        "    Computes the regularization loss to ensure the matryoshka embeddings do not deviate\n",
        "    significantly from the original embeddings.\n",
        "    \n",
        "    Args:\n",
        "        original_embeddings: A tensor of shape (batch_size, embedding_dim) representing the original embeddings.\n",
        "        matryoshka_embeddings: A tensor of shape (batch_size, mat_embedding_dim) representing the matryoshka embeddings.\n",
        "        alpha: A regularization coefficient that controls the weight of the regularization term.\n",
        "        \n",
        "    Returns:\n",
        "        loss: A scalar tensor representing the regularization loss.\n",
        "    \"\"\"\n",
        "    # Compute the difference between original and matryoshka embeddings\n",
        "    diff = original_embeddings - matryoshka_embeddings\n",
        "    \n",
        "    # Compute the L2 norm of the difference\n",
        "    loss = torch.norm(diff, p=2, dim=1)\n",
        "    \n",
        "    # Return the mean loss over the batch, scaled by alpha\n",
        "    return alpha * loss.mean()\n",
        "\n",
        "\n",
        "# Equation 4 in paper\n",
        "def unsupervised_objective_fn_loss(original_embeddings, matryoshka_embeddings, \n",
        "                                   k=5, alpha=1.0, beta=1.0):\n",
        "    \"\"\"\n",
        "    Computes the overall unsupervised objective function loss as a combination of top-k similarity loss,\n",
        "    alpha-scaled pairwise similarity loss, and beta-scaled regularization loss.\n",
        "    \n",
        "    Args:\n",
        "        original_embeddings: A tensor of shape (batch_size, embedding_dim) representing the original embeddings.\n",
        "        matryoshka_embeddings: A tensor of shape (batch_size, mat_embedding_dim) representing the matryoshka embeddings.\n",
        "        k: The number of top similar embeddings to consider for the top-k similarity loss.\n",
        "        alpha: A scaling factor for the pairwise similarity loss.\n",
        "        beta: A scaling factor for the regularization loss.\n",
        "        \n",
        "    Returns:\n",
        "        total_loss: A scalar tensor representing the combined unsupervised objective function loss.\n",
        "    \"\"\"\n",
        "    # Compute the individual loss components\n",
        "    topk_loss = topk_similarity_loss(original_embeddings, matryoshka_embeddings, k)\n",
        "    pairwise_loss = pairwise_similarity_loss(original_embeddings, matryoshka_embeddings)\n",
        "    reg_loss = regularization_loss(original_embeddings, matryoshka_embeddings, beta)\n",
        "    \n",
        "    # Combine the losses with the given scaling factors\n",
        "    total_loss = topk_loss + alpha * pairwise_loss + beta * reg_loss\n",
        "    \n",
        "    return total_loss"
      ]
    },
    {
      "cell_type": "markdown",
      "metadata": {
        "id": "_q9GK1c80AGX"
      },
      "source": [
        "## Training of Adaptor"
      ]
    },
    {
      "cell_type": "markdown",
      "metadata": {
        "id": "Qsb8bFydrejN"
      },
      "source": [
        "### Unsupervised Implementation"
      ]
    },
    {
      "cell_type": "markdown",
      "metadata": {
        "id": "4wfOS9tZEgZ0"
      },
      "source": [
        "#### Prepare datasets\n",
        "\n",
        "We will use BEIR's NFCorpus and stick to the same train-test split pairs as in the paper"
      ]
    },
    {
      "cell_type": "code",
      "execution_count": 26,
      "metadata": {
        "id": "Tf7kTmMfsrUM"
      },
      "outputs": [
        {
          "name": "stdout",
          "output_type": "stream",
          "text": [
            "{'_id': ['MED-4563', 'MED-5341', 'MED-3108', 'MED-844', 'MED-5134', 'MED-869', 'MED-1524', 'MED-1309', 'MED-5357', 'MED-1317', 'MED-666', 'MED-1179', 'MED-1950', 'MED-1587', 'MED-4913', 'MED-3044'], 'title': ['Nasal saline irrigations for the symptoms of chronic rhinosinusitis.', 'Effects of a low-fat, high-fiber diet and exercise program on breast cancer risk factors in vivo and tumor cell growth and apoptosis in vitro.', 'Epithelial barrier biology: good fences make good neighbours', 'Antifungal agents vs. boric acid for treating chronic mycotic vulvovaginitis.', 'Complementary feeding: a commentary by the ESPGHAN Committee on Nutrition.', 'Yerba Mate (Ilex paraguariensis) consumption is associated with higher bone mineral density in postmenopausal women.', 'Can Ambient Scent Enhance the Nightlife Experience?', 'Oat prevents obesity and abdominal fat distribution, and improves liver function in humans.', 'Can rye intake decrease risk of human breast cancer?', 'Avenanthramides inhibit proliferation of human colon cancer cell lines in vitro.', 'Is there a role for surgery in the treatment of mastalgia?', 'Organic foods: health and environmental advantages and disadvantages.', 'Intakes of Garlic and Dried Fruits Are Associated with Lower Risk of Spontaneous Preterm Delivery', 'Mechanisms of twinning: VII. Effect of diet and heredity on the human twinning rate.', 'Probabilistic modelling of exposure doses and implications for health risk characterization: glycoalkaloids from potatoes.', 'Cue-induced cocaine craving: neuroanatomical specificity for drug users and drug stimuli.'], 'text': [\"BACKGROUND: The use of nasal irrigation for the treatment of nose and sinus complaints has its foundations in yogic and homeopathic traditions. There has been increasing use of saline irrigation, douches, sprays and rinsing as an adjunct to the medical management of chronic rhinosinusitis. Treatment strategies often include the use of topical saline from once to more than four times a day. Considerable patient effort is often involved. Any additional benefit has been difficult to discern from other treatments. OBJECTIVES: To evaluate the effectiveness and safety of topical saline in the management of chronic rhinosinusitis. SEARCH STRATEGY: Our search included the Cochrane Ear, Nose and Throat Disorders Group Trials Register, the Cochrane Central Register of Controlled Trials (CENTRAL, The Cochrane Library, Issue 4 2006), MEDLINE (1950 to 2006) and EMBASE (1974 to 2006). The date of the last search was November 2006. SELECTION CRITERIA: Randomised controlled trials in which saline was evaluated in comparison with either no treatment, a placebo, as an adjunct to other treatments or against treatments. The comparison of hypertonic versus isotonic solutions was also compared. DATA COLLECTION AND ANALYSIS: Trials were graded for methodological quality using the Cochrane approach (modification of Chalmers 1990). Only symptom scores from saline versus no treatment and symptom and radiological scores from the hypertonic versus isotonic group could be pooled for statistical analysis. A narrative overview of the remaining results is presented. MAIN RESULTS: Eight trials were identified that satisfied the inclusion criteria. Three studies compared topical saline against no treatment, one against placebo, one as an adjunct to and one against an intranasal steroid spray. Two studies compared different hypertonic solutions against isotonic saline. There is evidence that saline is beneficial in the treatment of the symptoms of chronic rhinosinusitis when used as the sole modality of treatment. Evidence also exists in favour of saline as a treatment adjunct. No superiority was seen when saline was compared against a reflexology 'placebo'. Saline is not as effective as an intranasal steroid. Some evidence suggests that hypertonic solutions improve objective measures but the impact on symptoms is less clear. AUTHORS' CONCLUSIONS: Saline irrigations are well tolerated. Although minor side effects are common, the beneficial effect of saline appears to outweigh these drawbacks for the majority of patients. The use of topical saline could be included as a treatment adjunct for the symptoms of chronic rhinosinusitis.\", \"The present study investigated the effects of a diet and exercise intervention on known breast cancer (BCa) risk factors, including estrogen, obesity, insulin, and insulin-like growth factor-I (IGF-I), in overweight/obese, postmenopausal women. In addition, using the subjects' pre- and postintervention serum in vitro, serum-stimulated growth and apoptosis of three estrogen receptor-positive BCa cell lines were studied. The women where placed on a low-fat (10-15% kcal), high-fiber (30-40 g per 1,000 kcal/day) diet and attended daily exercise classes for 2 wk. Serum estradiol was reduced in the women on hormone treatment (HT; n = 28) as well as those not on HT (n = 10). Serum insulin and IGF-I were significantly reduced in all women, whereas IGF binding protein-1 was increased significantly. In vitro growth of the BCa cell lines was reduced by 6.6% for the MCF-7 cells, 9.9% for the ZR-75-1 cells, and 18.5% for the T-47D cells. Apoptosis was increased by 20% in the ZR-75-1 cells, 23% in the MCF-7 cells, and 30% in the T-47D cells (n = 12). These results show that a very-low-fat, high-fiber diet combined with daily exercise results in major reductions in risk factors for BCa while subjects remained overweight/obese. These in vivo serum changes slowed the growth and induced apoptosis in serum-stimulated BCa cell lines in vitro.\", 'The external surfaces of the body, such as the skin and the gastrointestinal mucosal membrane, are an important line of defence preventing the invasion of microorganisms and their products. Mucosal immune cells, especially intraepithelial lymphocytes, are involved in maintaining the integrity of these epithelial barriers. They contribute towards the tolerance to commensal organisms, which occupy these same sites, and to the immune responses against harmful organisms and their products. The composition of the microbiota is influenced by immune cells as well as external environmental factors, especially the use of antibiotics and diet. There is an increasing appreciation that the microbiota affects systemic immune responses in addition to local immunity. Failure to control the occupancy by microorganisms may result in the disruption of the delicate homeostasis between beneficial and harmful microorganisms and contribute to inflammatory pathologies. This review will discuss some of our current understanding of the impact of immune cells and diet on the microbiota.', 'Ninety-two women with chronic mycotic vaginal infections were followed with microscopic examination of the vaginal discharge during prolonged therapy with antifungal agents and boric acid. A microscopic picture unique to chronic mycotic vaginitis was observed, representing the cytologic reaction of the mucous membrane to chronic yeast infection. This diagnostic tool proved extremely effective in detecting both symptomatic and residual, subclinical mycotic infection and provided a highly predictive measure of the probability of relapse. The ineffectiveness of conventional antifungal agents appeared to be the main reason for chronic mycotic infections. In contrast, boric acid was effective in curing 98% of the patients who had previously failed to respond to the most commonly used antifungal agents and was clearly indicated as the treatment of choice for prophylaxis.', \"This position paper on complementary feeding summarizes evidence for health effects of complementary foods. It focuses on healthy infants in Europe. After reviewing current knowledge and practices, we have formulated these conclusions: Exclusive or full breast-feeding for about 6 months is a desirable goal. Complementary feeding (ie, solid foods and liquids other than breast milk or infant formula and follow-on formula) should not be introduced before 17 weeks and not later than 26 weeks. There is no convincing scientific evidence that avoidance or delayed introduction of potentially allergenic foods, such as fish and eggs, reduces allergies, either in infants considered at increased risk for the development of allergy or in those not considered to be at increased risk. During the complementary feeding period, >90% of the iron requirements of a breast-fed infant must be met by complementary foods, which should provide sufficient bioavailable iron. Cow's milk is a poor source of iron and should not be used as the main drink before 12 months, although small volumes may be added to complementary foods. It is prudent to avoid both early (<4 months) and late (>or=7 months) introduction of gluten, and to introduce gluten gradually while the infant is still breast-fed, inasmuch as this may reduce the risk of celiac disease, type 1 diabetes mellitus, and wheat allergy. Infants and young children receiving a vegetarian diet should receive a sufficient amount ( approximately 500 mL) of breast milk or formula and dairy products. Infants and young children should not be fed a vegan diet.\", 'Yerba Mate (Ilex paraguariensis) tea consumption is higher in Argentina and other South American countries than those of coffee or tea (Camellia sinensis). The effects of Yerba Mate on bone health have not previously been explored. From a program for osteoporosis prevention and treatment, postmenopausal women who drank at least 1 L of Yerba Mate tea daily during 4 or more years (n=146) were identified, and matched by age and time since menopause with an equal number of women who did not drink Yerba Mate tea. Their bone mineral density (BMD) was measured by dual-energy X-ray absorptiometry (DXA) at the lumbar spine and femoral neck. Yerba Mate drinkers had a 9.7% higher lumbar spine BMD (0.952 g/cm(2) versus 0.858 g/cm(2): p<0.0001) and a 6.2% higher femoral neck BMD (0.817 g/cm(2) versus 0.776 g/cm(2); p=0.0002). In multiple regression analysis, Yerba Mate drinking was the only factor, other than body mass index, which showed a positive correlation with BMD at both the lumbar spine (p<0.0001) and the femoral neck (p=0.0028). Results suggest a protective effect of chronic Yerba Mate consumption on bone. Copyright © 2011 Elsevier Inc. All rights reserved.', 'Ever since smoking was prohibited in restaurants, bars, and clubs, undesirable smells that were previously masked by cigarette smoke became noticeable. This opens up opportunities to improve the dance club environment by introducing pleasant ambient scents that mask the unwanted odors and to allow competing clubs to differentiate themselves. A field study was conducted at three dance clubs using a 3\\u2009×\\u20093 Latin square design with pre- and post-measurements of no-scent control conditions. The three scents tested were orange, seawater, and peppermint. These scents were shown to enhance dancing activity and to improve the evaluation of the evening, the evaluation of the music, and the mood of the visitors over no added scent. However, no significant differences were found between the three scents.', 'Obesity is associated with a great diversity of diseases including non-alcoholic fatty liver disease. Our recent report suggested that oat, rich in beta-glucan, had a metabolic-regulating and liver-protecting effect in an animal model. In this study, we performed a clinical trial to further confirm the effect of oat. Subjects with BMI ≥27 and aged 18-65, were randomly divided into a control (n=18) and an oat-treated (n=16) group, taking a placebo or beta glucan-containing oat cereal, respectively, for 12 weeks. Our data showed that consumption of oat reduced body weight, BMI, body fat and the waist-to-hip ratio. Profiles of hepatic function, including AST, but especially ALT, were useful resources to help in the evaluation of the liver, since both showed decrements in patients with oat consumption. Nevertheless, anatomic changes were still not observed by ultrasonic image analysis. Ingestion of oat was well tolerated and there was no adverse effect during the trial. In conclusion, consumption of oat reduced obesity, abdominal fat, and improved lipid profiles and liver functions. Taken as a daily supplement, oat could act as an adjuvant therapy for metabolic disorders.', 'Background Rye contains more fibre and bioactive compounds than other cereals used for bread production. The fibre and compounds of the fibre complex could provide protection against breast cancer (BC). Objective To review the evidence and theoretical background for a role of rye and some of its components in the prevention of BC. Design A short review based to a great extent on the work by scientists in the Nordic countries. Results Some of the possible mechanisms by which the fibre complex could reduce BC risk are presented. The fibre through its effect on fermentation increases esterification of bile acids reducing toxicity of the free bile acids and is involved in the production of butyrate with potential anticancer effects including BC. The fibre reduces the enterohepatic circulation of the oestrogens leading to lower plasma oestrogen concentrations. The fibre complex contains bioactive compounds such as lignans and alkylresorcinols that are antioxidative and potentially anticarcinogenic. In addition, vitamins, minerals, and phytic acid in rye may provide protection against BC. Conclusion Rye products made from wholegrain rye flour are likely to contribute to reduced BC risk.', 'A high intake of whole grain foods is associated with reduced risk of colon cancer, but the mechanism underlying this protection has yet to be elucidated. Chronic inflammation and associated cyclooxygenase-2 (COX-2) expression in the colon epithelium are causally related to epithelial carcinogenesis, proliferation, and tumor growth. We examined the effect of avenanthramides (Avns), unique polyphenols from oats with anti-inflammatory properties, on COX-2 expression in macrophages, colon cancer cell lines, and on proliferation of human colon cancer cell lines. We found that Avns-enriched extract of oats (AvExO) had no effect on COX-2 expression, but it did inhibit COX enzyme activity and prostaglandin E(2) (PGE(2)) production in lipopolysaccharide-stimulated mouse peritoneal macrophages. Avns (AvExO, Avn-C, and the methylated form of Avn-C (CH3-Avn-C)) significantly inhibited cell proliferation of both COX-2-positive HT29, Caco-2, and LS174T, and COX-2-negative HCT116 human colon cancer cell lines, CH3-Avn-C being the most potent. However, Avns had no effect on COX-2 expression and PGE(2) production in Caco-2 and HT29 colon cancer cells. These results indicate that the inhibitory effect of Avns on colon cancer cell proliferation may be independent of COX-2 expression and PGE(2) production. Thus, Avns might reduce colon cancer risk through inhibition of macrophage PGE(2) production and non-COX-related antiproliferative effects in colon cancer cells. Interestingly, Avns had no effect on cell viability of confluence-induced differentiated Caco-2 cells, which display the characteristics of normal colonic epithelial cells. Our results suggest that the consumption of oats and oat bran may reduce the risk of colon cancer not only because of their high fiber content but also due to Avns, which attenuate proliferation of colonic cancer cells.', 'Breast pain is a common condition affecting most women at some stage in their reproductive life. Mastalgia is resistant to treatment in 6% of cyclical and 26% non-cyclical patients. Surgery is not widely used to treat this condition and only considered in patients with severe mastalgia resistant to medication. The aims of this study were to audit the efficacy of surgery in severe treatment resistant mastalgia and to assess patient satisfaction following surgery. This is a retrospective review of the medical records of all patients seen in mastalgia clinic in the University Hospital of Wales, Cardiff since 1973. A postal questionnaire was distributed to all patients who had undergone surgery. Results showed that of the 1054 patients seen in mastalgia clinic, 12 (1.2%) had undergone surgery. Surgery included 8 subcutaneous mastectomies with implants (3 bilateral, 5 unilateral), 1 bilateral simple mastectomy and 3 quadrantectomies (1 having a further simple mastectomy). The median duration of symptoms was 6.5 years (range 2-16 years). Five patients (50%) were pain free following surgery, 3 developed capsular contractures and 2 wound infections with dehiscence. Pain persisted in both patients undergoing quadrantectomy. We conclude that surgery for mastalgia should only be considered in a minority of patients. Patients should be informed of possible complications inherent of reconstructive surgery and warned that in 50% cases their pain will not be improved.', 'The US market for organic foods has grown from $3.5 billion in 1996 to $28.6 billion in 2010, according to the Organic Trade Association. Organic products are now sold in specialty stores and conventional supermarkets. Organic products contain numerous marketing claims and terms, only some of which are standardized and regulated. In terms of health advantages, organic diets have been convincingly demonstrated to expose consumers to fewer pesticides associated with human disease. Organic farming has been demonstrated to have less environmental impact than conventional approaches. However, current evidence does not support any meaningful nutritional benefits or deficits from eating organic compared with conventionally grown foods, and there are no well-powered human studies that directly demonstrate health benefits or disease protection as a result of consuming an organic diet. Studies also have not demonstrated any detrimental or disease-promoting effects from an organic diet. Although organic foods regularly command a significant price premium, well-designed farming studies demonstrate that costs can be competitive and yields comparable to those of conventional farming techniques. Pediatricians should incorporate this evidence when discussing the health and environmental impact of organic foods and organic farming while continuing to encourage all patients and their families to attain optimal nutrition and dietary variety consistent with the US Department of Agriculture\\'s MyPlate recommendations. This clinical report reviews the health and environmental issues related to organic food production and consumption. It defines the term \"organic,\" reviews organic food-labeling standards, describes organic and conventional farming practices, and explores the cost and environmental implications of organic production techniques. It examines the evidence available on nutritional quality and production contaminants in conventionally produced and organic foods. Finally, this report provides guidance for pediatricians to assist them in advising their patients regarding organic and conventionally produced food choices.', 'Several studies have found associations between microbial infections during pregnancy and preterm delivery (PTD). We investigated the influence of food with antimicrobial and prebiotic components on the risk of spontaneous PTD. A literature search identified microbes associated with spontaneous PTD. Subsequently, 2 main food types (alliums and dried fruits) were identified to contain antimicrobial components that affect the microbes associated with spontaneous PTD; they also contained dietary fibers recognized as prebiotics. We investigated intake in 18,888 women in the Norwegian Mother and Child Cohort (MoBa), of whom 950 (5%) underwent spontaneous PTD (<37 gestational weeks). Alliums (garlic, onion, leek, and spring onion) [OR: 0.82 (95% CI: 0.72, 0.94), P = 0.005] and dried fruits (raisins, apricots, prunes, figs, and dates) [OR: 0.82 (95% CI: 0.72, 0.94); P = 0.005] were associated with a decreased risk of spontaneous PTD. Intake of alliums was related to a more pronounced risk reduction in early spontaneous PTD (gestational weeks 28–31) [OR: 0.39 (95% CI: 0.19, 0.80)]. The strongest association in this group was with garlic [OR: 0.47 (95% CI: 0.25–0.89)], followed by cooked onions. Intake of dried fruits showed an association with preterm prelabor rupture of membranes (PPROM) [OR: 0.74 (95% CI: 0.65, 0.95)]; the strongest association in this group was with raisins [OR: 0.71 (95% CI: 0.56, 0.92)]. The strongest association with PPROM in the allium group was with garlic [OR: 0.74 (95% CI: 0.56, 0.97)]. In conclusion, intake of food with antimicrobial and prebiotic compounds may be of importance to reduce the risk of spontaneous PTD. In particular, garlic was associated with overall lower risk of spontaneous PTD. Dried fruits, especially raisins, were associated with reduced risk of PPROM.', 'OBJECTIVE: To evaluate the possible biochemical effect of diet and heredity on the rates of monozygotic and dizygotic twinning. STUDY DESIGN: In that insulin-like growth factor (IGF) has been found to be elevated in cows selected for their demonstrated increased twinning rate, the effect of agents that influence the level of IGF in women was examined. This was correlated with their prior history of singleton versus twin birthing. In particular, the effect of diets consisting of or excluding animal products that have elevated IGF content (e.g., milk) was considered. RESULTS: Vegan women, who exclude dairy products from their diets, have a twinning rate which is one-fifth that of vegetarians and omnivores. CONCLUSION: The results reported here support the proposed IGF model of dizygotic twinning. Genotypes favoring elevated IGF and diets including dairy products, especially in areas where growth hormone is given to cattle, appear to enhance the chances of multiple pregnancies due to ovarian stimulation.', 'Potatoes are a source of glycoalkaloids (GAs) represented primarily by alpha-solanine and alpha-chaconine (about 95%). Content of GAs in tubers is usually 10-100 mg/kg and maximum levels do not exceed 200 mg/kg. GAs can be hazardous for human health. Poisoning involve gastrointestinal ailments and neurological symptoms. A single intake of >1-3 mg/kg b.w. is considered a critical effect dose (CED). Probabilistic modelling of acute and chronic (usual) exposure to GAs was performed in the Czech Republic, Sweden and The Netherlands. National databases on individual consumption of foods, data on concentration of GAs in tubers (439 Czech and Swedish results) and processing factors were used for modelling. Results concluded that potatoes currently available at the European market may lead to acute intakes >1 mg GAs/kg b.w./day for upper tail of the intake distribution (0.01% of population) in all three countries. 50 mg GAs/kg raw unpeeled tubers ensures that at least 99.99% of the population does not exceed the CED. Estimated chronic (usual) intake in participating countries was 0.25, 0.29 and 0.56 mg/kg b.w./day (97.5% upper confidence limit). It remains unclear if the incidence of GAs poisoning is underreported or if assumptions are the worst case for extremely sensitive persons.', 'OBJECTIVE: Cocaine-related cues have been hypothesized to perpetuate drug abuse by inducing a craving response that prompts drug-seeking behavior. However, the mechanisms, underlying neuroanatomy, and specificity of this neuroanatomy are not yet fully understood. METHOD: To address these issues, experienced cocaine users (N=17) and comparison subjects (N=14) underwent functional magnetic resonance imaging while viewing three separate films that portrayed 1 ) individuals smoking crack cocaine, 2) outdoor nature scenes, and 3) explicit sexual content. Candidate craving sites were identified as those that showed significant activation in the cocaine users when viewing the cocaine film. These sites were then required to show significantly greater activation when contrasted with comparison subjects viewing the cocaine film (population specificity) and cocaine users viewing the nature film (content specificity). RESULTS: Brain regions that satisfied these criteria were largely left lateralized and included the frontal lobe (medial and middle frontal gyri, bilateral inferior frontal gyrus), parietal lobe (bilateral inferior parietal lobule), insula, and limbic lobe (anterior and posterior cingulate gyrus). Of the 13 regions identified as putative craving sites, just three (anterior cingulate, right inferior parietal lobule, and the caudate/lateral dorsal nucleus) showed significantly greater activation during the cocaine film than during the sex film in the cocaine users, which suggests that cocaine cues activated similar neuroanatomical substrates as naturally evocative stimuli in the cocaine users. Finally, contrary to the effects of the cocaine film, cocaine users showed a smaller response than the comparison subjects to the sex film. CONCLUSIONS: These data suggest that cocaine craving is not associated with a dedicated and unique neuroanatomical circuitry; instead, unique to the cocaine user is the ability of learned, drug-related cues to produce brain activation comparable to that seen with nondrug evocative stimuli in healthy comparison subjects.']}\n",
            "{'_id': ['MED-4415', 'MED-5253', 'MED-1842', 'MED-998', 'MED-1341', 'MED-4545', 'MED-4157', 'MED-1721', 'MED-4257', 'MED-4755', 'MED-4792', 'MED-1030', 'MED-4450', 'MED-4564', 'MED-1217', 'MED-2713'], 'title': ['Cinnamon and health.', 'Tea consumption didn’t modify the risk of fracture: a dose–response meta-analysis of observational studies', 'The effect of sour tea (Hibiscus sabdariffa) on essential hypertension.', 'Polybrominated Diphenyl Ethers (PBDEs) in Breast Milk and Neuropsychological Development in Infants', 'Skeletal health in adult patients with classic galactosemia.', 'Açai Palm Fruit (Euterpe oleracea Mart.) Pulp Improves Survival of Flies on a High Fat Diet', 'Compounded bioidentical menopausal hormone therapy.', 'Cancer incidence and mortality in relation to body mass index in the Million Women Study: cohort study', 'A Systematic Review of Body Fat Distribution and Mortality in Older People', 'Soybean isoflavone exposure does not have feminizing effects on men: a critical examination of the clinical evidence.', 'Evaluation of the Possible Transmission of BSE and Scrapie to Gilthead Sea Bream (Sparus aurata)', 'Transient changes in cerebral vascular resistance during the Valsalva maneuver in man.', 'Post-diagnosis dietary factors and survival after invasive breast cancer', 'Acute rhinosinusitis in adults.', 'Clostridium difficile: its potential as a source of foodborne disease.', 'Effect of sweet orange aroma on experimental anxiety in humans.'], 'text': ['Cinnamon has been used as a spice and as traditional herbal medicine for centuries. The available in vitro and animal in vivo evidence suggests that cinnamon has anti-inflammatory, antimicrobial, antioxidant, antitumor, cardiovascular, cholesterol-lowering, and immunomodulatory effects. In vitro studies have demonstrated that cinnamon may act as an insulin mimetic, to potentiate insulin activity or to stimulate cellular glucose metabolism. Furthermore, animal studies have demonstrated strong hypoglycemic properties. However, there are only very few well-controlled clinical studies, a fact that limits the conclusions that can be made about the potential health benefits of cinnamon for free-living humans. The use of cinnamon as an adjunct to the treatment of type 2 diabetes mellitus is the most promising area, but further research is needed before definitive recommendations can be made.', 'Background Fractures are important causes of healthy damage and economic loss nowadays. The conclusions of observational studies on tea consumption and fracture risk are still inconsistent. The objective of this meta-analysis is to determine the effect of tea drinking on the risk of fractures. Methods A comprehensive literature search was conducted in PubMed, Embase and reference lists of the relevant articles. Observational studies that reported an estimate of the association between tea drinking and incidence of fractures were included. A meta-analysis was conducted by the STATA software. Results A total of 9 studies involving 147,950 individuals that examined the association between tea consumption and risk of fractures were included in this meta-analysis. The odds risks (ORs) with 95% confidence intervals (CIs) were pooled using a random-effects model. The pooled OR of 9 observational studies for the tea consumption on risk of fracture was 0.89 (95% CI, 0.78-1.04). In the subgroup analyses, no significant association was detected in neither cohort studies (n\\u2009=\\u20093; OR, 0.97; 95% CI, 0.89-1.06) nor case–control studies (n\\u2009=\\u20096; OR, 0.91; 95% CI, 0.70-1.19), respectively. No significant association was detected in the dose–response meta-analysis. Conclusions Tea consumption might not be associated with the risk of fractures. The following large-sample and well-designed studies are required to confirm the existing conclusions. Virtual slides The virtual slide(s) for this article can be found here: http://www.diagnosticpathology.diagnomx.eu/vs/5309904231178427.', 'Considering the high prevalence of hypertension, its debilitating end organ damage, and the side effects of chemical drugs used for its treatment, we conducted this experimental study to evaluate the effect of sour tea (Hibiscus sabdariffa) on essential hypertension. For this purpose, 31 and 23 patients with moderate essential hypertension were randomly assigned to an experimental and control group, respectively. Patients with secondary hypertension or those consuming more than two drugs were excluded from the study. Systolic and diastolic blood pressures were measured before and 15 days after the intervention. In the experimental group, 45% of the patients were male and 55% were female, and the mean age was 52.6 +/- 7.9 years. In the control group, 30% of the patients were male, 70% were female, and the mean age of the patients was 51.5 +/- 10.1 years. Statistical findings showed an 11.2% lowering of the systolic blood pressure and a 10.7% decrease of diastolic pressure in the experimental group 12 days after beginning the treatment, as compared with the first day. The difference between the systolic blood pressures of the two groups was significant, as was the difference of the diastolic pressures of the two groups. Three days after stopping the treatment, systolic blood pressure was elevated by 7.9%, and diastolic pressure was elevated by 5.6% in the experimental and control groups. This difference between the two groups was also significant. This study proves the public belief and the results of in vitro studies concerning the effects of sour tea on lowering high blood pressure. More extensive studies on this subject are needed.', 'Background: There is increasing interest in the potential effects of polybrominated diphenyl ethers (PBDEs) on children’s neuropsychological development, but only a few small studies have evaluated such effects. Objectives: Our goal was to examine the association between PBDE concentrations in colostrum and infant neuropsychological development and to assess the influence of other persistent organic pollutants (POPs) on such association. Methods: We measured concentrations of PBDEs and other POPs in colostrum samples of 290 women recruited in a Spanish birth cohort. We tested children for mental and psychomotor development with the Bayley Scales of Infant Development at 12–18 months of age. We analyzed the sum of the seven most common PBDE congeners (BDEs 47, 99, 100, 153, 154, 183, 209) and each congener separately. Results: Increasing Σ7PBDEs concentrations showed an association of borderline statistical significance with decreasing mental development scores (β per log ng/g lipid = –2.25; 95% CI: –4.75, 0.26). BDE-209, the congener present in highest concentrations, appeared to be the main congener responsible for this association (β = –2.40, 95% CI: –4.79, –0.01). There was little evidence for an association with psychomotor development. After adjustment for other POPs, the BDE-209 association with mental development score became slightly weaker (β = –2.10, 95% CI: –4.66, 0.46). Conclusions: Our findings suggest an association between increasing PBDE concentrations in colostrum and a worse infant mental development, particularly for BDE-209, but require confirmation in larger studies. The association, if causal, may be due to unmeasured BDE-209 metabolites, including OH-PBDEs (hydroxylated PBDEs), which are more toxic, more stable, and more likely to cross the placenta and to easily reach the brain than BDE-209.', 'SUMMARY: This study evaluated bone health in adults with galactosemia. Associations between bone mineral density (BMD) and nutritional and biochemical variables were explored. Calcium level predicted hip and spine BMD, and gonadotropin levels were inversely associated with spinal BMD in women. These results afford insights into management strategies for these patients. INTRODUCTION: Bone loss is a complication of galactosemia. Dietary restriction, primary ovarian insufficiency in women, and disease-related alterations of bone metabolism may contribute. This study examined relationships between clinical factors and BMD in patients with galactosemia. METHODS: This cross-sectional sample included 33 adults (16 women) with classic galactosemia, mean age 32.0\\u2009±\\u200911.8 years. BMD was measured by dual-energy X-ray absorptiometry, and was correlated with age, height, weight, fractures, nutritional factors, hormonal status, and bone biomarkers. RESULTS: There was a significant difference in hip BMD between women and men (0.799 vs. 0.896 g/cm(2), p\\u2009=\\u20090.014). The percentage of subjects with BMD-Z <-2.0 was also greater for women than men [33 vs. 18 % (spine), 27 vs. 6 % (hip)], and more women reported sustaining fractures. Bivariate analyses yielded correlations between BMI and BMD-Z [at the hip in women (r\\u2009=\\u20090.58, p\\u2009<\\u20090.05) and spine in men (r\\u2009=\\u20090.53, p\\u2009<\\u20090.05)]. In women, weight was also correlated with BMD-Z (r\\u2009=\\u20090.57, p\\u2009<\\u20090.05 at hip), and C-telopeptides (r\\u2009=\\u2009-0.59 at spine and -0.63 hip, p\\u2009<\\u20090.05) and osteocalcin (r\\u2009=\\u2009-0.71 at spine and -0.72 hip, p\\u2009<\\u20090.05) were inversely correlated with BMD-Z. In final regression models, higher gonadotropin levels were associated with lower spinal BMD in women (p\\u2009=\\u20090.017); serum calcium was a significant predictor of hip (p\\u2009=\\u20090.014) and spine (p\\u2009=\\u20090.013) BMD in both sexes. CONCLUSIONS: Bone density in adults with galactosemia is low, indicating the potential for increased fracture risk, the etiology of which appears to be multifactorial.', 'Reducing oxidative damage is thought to be an effective aging intervention. Açai, a fruit indigenous to the Amazon, is rich in phytochemicals that possesses high anti-oxidant activities, and has anti-inflammatory, anti-cancer and anti-cardiovascular disease properties. However, little is known about its potential anti-aging properties especially at the organismal level. Here we evaluated the effect of açai pulp on modulating lifespan in Drosophila melanogaster. We found that açai supplementation at 2% in the food increased the lifespan of female flies fed a high fat diet compared to the non-supplemented control. We measured transcript changes induced by açai for age-related genes. Although transcript levels of most genes tested were not altered, açai increased the transcript level of l(2)efl, a small heat-shock-related protein, and two detoxification genes, gstD1 and mtnA, while decreasing the transcript level of phosphoenolpyruvate carboxykinase (Pepck), a key gene involved in gluconeogenesis. Furthermore, açai increased the lifespan of oxidative stressed females caused by sod1 RNAi. This suggests that açai improves survival of flies fed a high fat diet through activation of stress response pathways and suppression of Pepck expression. Açai has the potential to antagonize the detrimental effect of fat in the diet and alleviate oxidative stress in aging.', \"Although improvement in long-term health is no longer an indication for menopausal hormone therapy, evidence supporting fewer adverse events in younger women, combined with its high overall effectiveness, has reinforced its usefulness for short-term treatment of menopausal symptoms. Menopausal therapy has been provided not only by commercially available products but also by compounding, or creation of an individualized preparation in response to a health care provider's prescription to create a medication tailored to the specialized needs of an individual patient. The Women's Health Initiative findings, coupled with an increase in the direct-to-consumer marketing and media promotion of compounded bioidentical hormonal preparations as safe and effective alternatives to conventional menopausal hormone therapy, have led to a recent increase in the popularity of compounded bioidentical hormones as well as an increase in questions about the use of these preparations. Not only is evidence lacking to support superiority claims of compounded bioidentical hormones over conventional menopausal hormone therapy, but these claims also pose the additional risks of variable purity and potency and lack efficacy and safety data. The Committee on Gynecologic Practice of the American College of Obstetricians and Gynecologists and the Practice Committee of the American Society for Reproductive Medicine provide an overview of the major issues of concern surrounding compounded bioidentical menopausal hormone therapy and provide recommendations for patient counseling. Copyright © 2012 American Society for Reproductive Medicine. Published by Elsevier Inc. All rights reserved.\", \"Objective To examine the relation between body mass index (kg/m2) and cancer incidence and mortality. Design Prospective cohort study. Participants 1.2 million UK women recruited into the Million Women Study, aged 50-64 during 1996-2001, and followed up, on average, for 5.4 years for cancer incidence and 7.0 years for cancer mortality. Main outcome measures Relative risks of incidence and mortality for all cancers, and for 17 specific types of cancer, according to body mass index, adjusted for age, geographical region, socioeconomic status, age at first birth, parity, smoking status, alcohol intake, physical activity, years since menopause, and use of hormone replacement therapy. Results 45\\u2009037 incident cancers and 17\\u2009203 deaths from cancer occurred over the follow-up period. Increasing body mass index was associated with an increased incidence of endometrial cancer (trend in relative risk per 10 units=2.89, 95% confidence interval 2.62 to 3.18), adenocarcinoma of the oesophagus (2.38, 1.59 to 3.56), kidney cancer (1.53, 1.27 to 1.84), leukaemia (1.50, 1.23 to 1.83), multiple myeloma (1.31, 1.04 to 1.65), pancreatic cancer (1.24, 1.03 to 1.48), non-Hodgkin's lymphoma (1.17, 1.03 to 1.34), ovarian cancer (1.14, 1.03 to 1.27), all cancers combined (1.12, 1.09 to 1.14), breast cancer in postmenopausal women (1.40, 1.31 to 1.49) and colorectal cancer in premenopausal women (1.61, 1.05 to 2.48). In general, the relation between body mass index and mortality was similar to that for incidence. For colorectal cancer, malignant melanoma, breast cancer, and endometrial cancer, the effect of body mass index on risk differed significantly according to menopausal status. Conclusions Increasing body mass index is associated with a significant increase in the risk of cancer for 10 out of 17 specific types examined. Among postmenopausal women in the UK, 5% of all cancers (about 6000 annually) are attributable to being overweight or obese. For endometrial cancer and adenocarcinoma of the oesophagus, body mass index represents a major modifiable risk factor; about half of all cases in postmenopausal women are attributable to overweight or obesity.\", 'We conducted a systematic review investigating body fat distribution in older adults and its association with morbidity and mortality. Our search yielded 2,702 citations. Following three levels of screening, 25 studies were selected to evaluate the association between body fat distribution and comorbidity, and 17 studies were used in the mortality analysis. Most of the selected studies in our analyses used anthropometric measures, e.g., body mass index (BMI), waist circumference, and waist-hip ratio; relatively few studies used direct measures, such as body fat/lean mass, and percentage body fat. Studies reported inconsistent findings regarding the strongest predictor(s) of morbidity and mortality. However, the majority of studies suggested that BMI per se was not the most appropriate predictor of morbidity and mortality in the elderly because of its inability to discern or detect age-related body fat redistribution. In addition, studies using BMI found that the optimal BMI range for the lowest mortality in the elderly was overweight (25 kg/m2 ≤ BMI < 30 kg/m2) or mildly obese (30 kg/m2 ≤ BMI < 35 kg/m2). Our findings suggest that the current clinical guidelines, recommending that overweight and obesity are major risk factors for increased morbidity and mortality are not applicable to this population. Therefore, the central message of this review is to admonish the government to establish new guidelines specifically for this population, using a combination of body fat distribution measurements, and to certify that these guidelines will not be applied to inappropriate populations.', 'OBJECTIVE: To critically evaluate the clinical evidence, and when not available, the animal data, most relevant to concerns that isoflavone exposure in the form of supplements or soy foods has feminizing effects on men. DESIGN: Medline literature review and cross-reference of published data. RESULT(S): In contrast to the results of some rodent studies, findings from a recently published metaanalysis and subsequently published studies show that neither isoflavone supplements nor isoflavone-rich soy affect total or free testosterone (T) levels. Similarly, there is essentially no evidence from the nine identified clinical studies that isoflavone exposure affects circulating estrogen levels in men. Clinical evidence also indicates that isoflavones have no effect on sperm or semen parameters, although only three intervention studies were identified and none were longer than 3 months in duration. Finally, findings from animal studies suggesting that isoflavones increase the risk of erectile dysfunction are not applicable to men, because of differences in isoflavone metabolism between rodents and humans and the excessively high amount of isoflavones to which the animals were exposed. CONCLUSION(S): The intervention data indicate that isoflavones do not exert feminizing effects on men at intake levels equal to and even considerably higher than are typical for Asian males. Copyright 2010. Published by Elsevier Inc.', 'In transmissible spongiform encephalopathies (TSEs), a group of fatal neurodegenerative disorders affecting many species, the key event in disease pathogenesis is the accumulation of an abnormal conformational isoform (PrPSc) of the host-encoded cellular prion protein (PrPC). While the precise mechanism of the PrPC to PrPSc conversion is not understood, it is clear that host PrPC expression is a prerequisite for effective infectious prion propagation. Although there have been many studies on TSEs in mammalian species, little is known about TSE pathogenesis in fish. Here we show that while gilthead sea bream (Sparus aurata) orally challenged with brain homogenates prepared either from a BSE infected cow or from scrapie infected sheep developed no clinical prion disease, the brains of TSE-fed fish sampled two years after challenge did show signs of neurodegeneration and accumulation of deposits that reacted positively with antibodies raised against sea bream PrP. The control groups, fed with brains from uninfected animals, showed no such signs. Remarkably, the deposits developed much more rapidly and extensively in fish inoculated with BSE-infected material than in the ones challenged with the scrapie-infected brain homogenate, with numerous deposits being proteinase K-resistant. These plaque-like aggregates exhibited congophilia and birefringence in polarized light, consistent with an amyloid-like component. The neurodegeneration and abnormal deposition in the brains of fish challenged with prion, especially BSE, raises concerns about the potential risk to public health. As fish aquaculture is an economically important industry providing high protein nutrition for humans and other mammalian species, the prospect of farmed fish being contaminated with infectious mammalian PrPSc, or of a prion disease developing in farmed fish is alarming and requires further evaluation.', 'Measurements of cerebral spinal fluid pressure, arterial pressure, and internal carotid artery blood flow were obtained in a series of patients during a Valsalva maneuver. During straining (phase II), an 11% reduction in mean arterial pressure was associated with a 21% decrease in internal carotid flow from control values; and following release (phase IV), the 19% increase in mean arterial pressure produced a 22% increase in internal carotid artery flow. Perfusion pressure computed as the mean arterial pressure minus cerebral spinal fluid pressure and internal carotid artery blood flow were used to calculate an index of cerebral vascular resistance. The data indicate that a modest but significant decrease in vascular resistance occurred during phases II and III followed by return to control levels during phase IV. These changes in vascular resistance were not rapid enough or of sufficient magnitude to maintain constant cerebral perfusion during the Valsalva maneuver.', 'Little is known about the effects of diet after breast cancer diagnosis on survival. We prospectively examined the relation between post-diagnosis dietary factors and breast cancer and all-cause survival in women with a history of invasive breast cancer diagnosed between 1987 and 1999 (at ages 20–79 years). Diet after breast cancer diagnosis was measured using a 126-item food frequency questionnaire. Among 4,441 women without a history of breast cancer recurrence prior to completing the questionnaire, 137 subsequently died from breast cancer within 7 years of enrollment. Hazard ratios (HR) and 95% confidence intervals (CI) were estimated for intake of macronutrients as well as selected micronutrients and food groups from Cox proportional hazards regression models. After adjustment for factors at diagnosis (age, state of residence, menopausal status, smoking, breast cancer stage, alcohol, history of hormone replacement therapy), interval between diagnosis and diet assessment, and at follow-up (energy intake, breast cancer treatment, body mass index, and physical activity), women in the highest compared to lowest quintile of intake of saturated fat and trans fat had a significantly higher risk of dying from any cause (HR = 1.41, 95% CI = 1.06 to 1.87, P-trend = 0.03) for saturated fat; (HR = 1.78, 95% CI = 1.35 to 2.32, P-trend = 0.01) for trans fat intake. Associations were similar, though did not achieve statistical significance, for breast cancer survival. This study suggests that lower intake of saturated and trans fat in the post-diagnosis diet is associated with improved survival after breast cancer diagnosis.', 'Rhinosinusitis is one of the most common conditions for which patients seek medical care. Subtypes of rhinosinusitis include acute, subacute, recurrent acute, and chronic. Acute rhinosinusitis is further specified as bacterial or viral. Most cases of acute rhinosinusitis are caused by viral infections associated with the common cold. Symptomatic treatment with analgesics, decongestants, and saline nasal irrigation is appropriate in patients who present with nonsevere symptoms (e.g., mild pain, temperature less than 101°F [38.3°C]). Narrow-spectrum antibiotics, such as amoxicillin or trimethoprim/sulfamethoxazole, are recommended in patients with symptoms or signs of acute rhinosinusitis that do not improve after seven days, or that worsen at any time. Limited evidence supports the use of intranasal corticosteroids in patients with acute rhinosinusitis. Radiographic imaging is not recommended in the evaluation of uncomplicated acute rhinosinusitis. Computed tomography of the sinuses should not be used for routine evaluation, although it may be used to define anatomic abnormalities and evaluate patients with suspected complications of acute bacterial rhinosinusitis. Rare complications of acute bacterial rhinosinusitis include orbital, intracranial, and bony involvement. If symptoms persist or progress after maximal medical therapy, and if computed tomography shows evidence of sinus disease, referral to an otolaryngologist is warranted.', 'Clostridium difficile has been recognized as an important human pathogen for several decades, but its importance as an agent of animal disease was established only recently. The number of reports on C. difficile in food is rising, but the findings vary among studies. In North America, the prevalence of contamination in retail meat and meat products ranges from 4.6% to 50%. In European countries, the percentage of C. difficile positive samples is much lower (0-3%). This chapter summarizes current data on association of C. difficile with different foods and the difficulties associated with isolation of the organism, and discusses the potential of C. difficile as a food-transmitted pathogen. Copyright © 2010 Elsevier Inc. All rights reserved.', 'OBJECTIVES: The objective of this study was to evaluate the potential anxiolytic effect of sweet orange (Citrus sinensis) aroma in healthy volunteers submitted to an anxiogenic situation. DESIGN: Forty (40) male volunteers were allocated to five different groups for the inhalation of sweet orange essential oil (test aroma: 2.5, 5, or 10 drops), tea tree essential oil (control aroma: 2.5 drops), or water (nonaromatic control: 2.5 drops). Immediately after inhalation, each volunteer was submitted to a model of anxiety, the video-monitored version of the Stroop Color-Word Test (SCWT). OUTCOME MEASURES: Psychologic parameters (state-anxiety, subjective tension, tranquilization, and sedation) and physiologic parameters (heart rate and gastrocnemius electromyogram) were evaluated before the inhalation period and before, during, and after the SCWT. RESULTS: Unlike the control groups, the individuals exposed to the test aroma (2.5 and 10 drops) presented a lack of significant alterations (p>0.05) in state-anxiety, subjective tension and tranquillity levels throughout the anxiogenic situation, revealing an anxiolytic activity of sweet orange essential oil. Physiologic alterations along the test were not prevented in any treatment group, as has previously been observed for diazepam. CONCLUSIONS: Although more studies are needed to find out the clinical relevance of aromatherapy for anxiety disorders, the present results indicate an acute anxiolytic activity of sweet orange aroma, giving some scientific support to its use as a tranquilizer by aromatherapists.']}\n"
          ]
        }
      ],
      "source": [
        "from datasets import load_dataset\n",
        "from torch.utils.data import DataLoader, random_split\n",
        "import torch\n",
        "\n",
        "# Load the dataset\n",
        "corpus_ds = load_dataset(\"BeIR/nfcorpus\", \"corpus\")\n",
        "\n",
        "# Access the 'corpus' dataset\n",
        "dataset = corpus_ds['corpus']\n",
        "\n",
        "# Define the split sizes\n",
        "train_size = int(0.7 * len(dataset))\n",
        "test_size = len(dataset) - train_size\n",
        "\n",
        "# Split the dataset\n",
        "train_dataset, test_dataset = random_split(dataset, [train_size, test_size])\n",
        "\n",
        "# Define batch size\n",
        "batch_size = 32  # Adjust this as needed\n",
        "\n",
        "# Create DataLoader for train and test datasets\n",
        "train_dataloader = DataLoader(train_dataset, batch_size=batch_size, shuffle=True)\n",
        "test_dataloader = DataLoader(test_dataset, batch_size=batch_size, shuffle=False)\n",
        "\n",
        "# Example of iterating through the dataloaders\n",
        "for batch in train_dataloader:\n",
        "    print(batch)\n",
        "    break  # Just for demonstration, remove this in actual training\n",
        "\n",
        "for batch in test_dataloader:\n",
        "    print(batch)\n",
        "    break  # Just for demonstration, remove this in actual testing"
      ]
    },
    {
      "cell_type": "code",
      "execution_count": 24,
      "metadata": {
        "id": "6olFyQ-0r5fO"
      },
      "outputs": [],
      "source": [
        "import torch\n",
        "from torch.utils.data import Dataset\n",
        "\n",
        "# Custom PyTorch dataset class that can handle pairs of embeddings\n",
        "class PairDataset(Dataset):\n",
        "    def __init__(self, dataset, pairs):\n",
        "        self.dataset = dataset\n",
        "        self.pairs = pairs\n",
        "\n",
        "    def __len__(self):\n",
        "        return len(self.pairs)\n",
        "\n",
        "    def __getitem__(self, idx):\n",
        "        idx1, idx2 = self.pairs[idx]\n",
        "        text1 = self.dataset[idx1]['text']\n",
        "        text2 = self.dataset[idx2]['text']\n",
        "        return text1, text2\n"
      ]
    },
    {
      "cell_type": "code",
      "execution_count": null,
      "metadata": {
        "id": "sWU9R-C9E_S1"
      },
      "outputs": [],
      "source": [
        "from torch.utils.data import DataLoader\n",
        "\n",
        "# Create train and test datasets\n",
        "train_dataset = PairDataset(dataset, train_pairs)\n",
        "test_dataset = PairDataset(dataset, test_pairs)\n",
        "\n",
        "# Create DataLoaders\n",
        "train_loader = DataLoader(train_dataset, batch_size=32, shuffle=True)\n",
        "test_loader = DataLoader(test_dataset, batch_size=32, shuffle=False)\n"
      ]
    },
    {
      "cell_type": "markdown",
      "metadata": {},
      "source": [
        "#### Prepare Embedding Model and Matryoshka-Adaptor"
      ]
    },
    {
      "cell_type": "code",
      "execution_count": 13,
      "metadata": {
        "colab": {
          "base_uri": "https://localhost:8080/",
          "height": 216
        },
        "id": "ccU_oZwyPQ37",
        "outputId": "8da10a58-7ccc-49bb-ef60-c1ff58a6a939"
      },
      "outputs": [],
      "source": [
        "from sentence_transformers import SentenceTransformer\n",
        "\n",
        "# Embedding Model\n",
        "model = SentenceTransformer('sentence-transformers/all-MiniLM-L6-v2')\n",
        "\n",
        "# Matryoshka-Adaptor\n",
        "input_dim = 384 # Embedding dimension is 384 for embedding model (d in paper)\n",
        "hidden_dim = input_dim # Let hidden layer dimensino equal input dimension\n",
        "output_dim = 128 # Desired embedding dimension for final output (m in paper)\n",
        "mat_adaptor = MatryoshkaAdaptor(input_dim, hidden_dim, output_dim)"
      ]
    },
    {
      "cell_type": "markdown",
      "metadata": {},
      "source": [
        "#### Train Matryoshka-Adaptor"
      ]
    },
    {
      "cell_type": "code",
      "execution_count": 15,
      "metadata": {},
      "outputs": [],
      "source": [
        "import torch\n",
        "from torch.optim import Adam\n",
        "\n",
        "def train(model, mat_adaptor, train_loader, loss_fn, epochs=10, lr=1e-3):\n",
        "    # Define an optimizer for the MatryoshkaAdaptor parameters\n",
        "    optimizer = Adam(mat_adaptor.parameters(), lr=lr)\n",
        "    \n",
        "    # Set MatryoshkaAdaptor to training mode\n",
        "    mat_adaptor.train()\n",
        "\n",
        "    for epoch in range(epochs):\n",
        "        total_loss = 0\n",
        "        for batch in train_loader:\n",
        "            text1, text2 = batch  # Unpack the batch\n",
        "\n",
        "            # Generate embeddings for both texts\n",
        "            ce_i = model.encode(text1, convert_to_tensor=True)  # model embedding i\n",
        "            ce_j = model.encode(text2, convert_to_tensor=True)  # model embedding j\n",
        "\n",
        "            # Forward pass through the MatryoshkaAdaptor\n",
        "            che_i = mat_adaptor(ce_i)\n",
        "            che_j = mat_adaptor(ce_j)\n",
        "\n",
        "            # Compute loss\n",
        "            loss = loss_fn((ce_i, ce_j), (che_i, che_j))\n",
        "\n",
        "            # Backpropagation\n",
        "            optimizer.zero_grad()  # Clear previous gradients\n",
        "            loss.backward()        # Compute gradients\n",
        "            optimizer.step()        # Update weights\n",
        "\n",
        "            total_loss += loss.item()\n",
        "            \n",
        "            break\n",
        "\n",
        "        # Print average loss for the epoch\n",
        "        avg_loss = total_loss / len(train_loader)\n",
        "        print(f\"Epoch {epoch + 1}/{epochs}, Loss: {avg_loss:.4f}\")"
      ]
    },
    {
      "cell_type": "code",
      "execution_count": 16,
      "metadata": {},
      "outputs": [
        {
          "ename": "NameError",
          "evalue": "name 'unsupervised_objective_fn_loss' is not defined",
          "output_type": "error",
          "traceback": [
            "\u001b[0;31m---------------------------------------------------------------------------\u001b[0m",
            "\u001b[0;31mNameError\u001b[0m                                 Traceback (most recent call last)",
            "Cell \u001b[0;32mIn[16], line 1\u001b[0m\n\u001b[0;32m----> 1\u001b[0m train(model, mat_adaptor, train_loader, \u001b[43munsupervised_objective_fn_loss\u001b[49m, epochs\u001b[38;5;241m=\u001b[39m\u001b[38;5;241m1\u001b[39m, lr\u001b[38;5;241m=\u001b[39m\u001b[38;5;241m1e-3\u001b[39m)\n",
            "\u001b[0;31mNameError\u001b[0m: name 'unsupervised_objective_fn_loss' is not defined"
          ]
        }
      ],
      "source": [
        "train(model, mat_adaptor, train_loader, unsupervised_objective_fn_loss, epochs=1, lr=1e-3)"
      ]
    },
    {
      "cell_type": "code",
      "execution_count": null,
      "metadata": {
        "colab": {
          "base_uri": "https://localhost:8080/"
        },
        "id": "gPOTm9ZEPz5O",
        "outputId": "0887eace-9229-4fa0-ed68-6d048bf3ef1d"
      },
      "outputs": [],
      "source": [
        "from transformers import AutoTokenizer, AutoModel\n",
        "import torch\n",
        "import torch.nn.functional as F\n",
        "\n",
        "#Mean Pooling - Take attention mask into account for correct averaging\n",
        "def mean_pooling(model_output, attention_mask):\n",
        "    token_embeddings = model_output[0] #First element of model_output contains all token embeddings\n",
        "    input_mask_expanded = attention_mask.unsqueeze(-1).expand(token_embeddings.size()).float()\n",
        "    return torch.sum(token_embeddings * input_mask_expanded, 1) / torch.clamp(input_mask_expanded.sum(1), min=1e-9)\n",
        "\n",
        "\n",
        "# Sentences we want sentence embeddings for\n",
        "sentences = ['This is an example sentence', 'Each sentence is converted']\n",
        "\n",
        "# Load model from HuggingFace Hub\n",
        "tokenizer = AutoTokenizer.from_pretrained('sentence-transformers/all-MiniLM-L6-v2')\n",
        "model = AutoModel.from_pretrained('sentence-transformers/all-MiniLM-L6-v2')\n",
        "\n",
        "# Tokenize sentences\n",
        "encoded_input = tokenizer(sentences, padding=True, truncation=True, return_tensors='pt')\n",
        "\n",
        "# Compute token embeddings\n",
        "with torch.no_grad():\n",
        "    model_output = model(**encoded_input)\n",
        "\n",
        "# Perform pooling\n",
        "sentence_embeddings = mean_pooling(model_output, encoded_input['attention_mask'])\n",
        "\n",
        "# Normalize embeddings\n",
        "sentence_embeddings = F.normalize(sentence_embeddings, p=2, dim=1)\n",
        "\n",
        "print(\"Sentence embeddings:\")\n",
        "print(sentence_embeddings)"
      ]
    },
    {
      "cell_type": "markdown",
      "metadata": {
        "id": "vhFgceqlt8xx"
      },
      "source": [
        "## BEIR Evaluation"
      ]
    },
    {
      "cell_type": "markdown",
      "metadata": {
        "id": "84bFC2eMSAQW"
      },
      "source": [
        "### Unmodified Model Performance for all-MiniLM-L6-v2\n",
        "\n",
        "> Add blockquote\n",
        "\n"
      ]
    },
    {
      "cell_type": "code",
      "execution_count": null,
      "metadata": {
        "colab": {
          "base_uri": "https://localhost:8080/",
          "height": 275
        },
        "id": "LlrIjQBAs7b2",
        "outputId": "d7589094-fb96-42d5-b90a-59ca05231210"
      },
      "outputs": [],
      "source": [
        "import mteb\n",
        "from sentence_transformers import SentenceTransformer\n",
        "\n",
        "model = SentenceTransformer('sentence-transformers/all-MiniLM-L6-v2')\n",
        "model_name = 'all-MiniLM-L6-v2_BASE'\n",
        "\n",
        "# Define the BEIR tasks you want to evaluate on\n",
        "tasks = mteb.get_tasks(tasks=[\"NFCorpus\"])\n",
        "\n",
        "# Evaluate the model on the benchmark\n",
        "evaluation = mteb.MTEB(tasks=tasks)\n",
        "results = evaluation.run(model, output_folder=f\"results/{model_name}\")\n"
      ]
    }
  ],
  "metadata": {
    "accelerator": "GPU",
    "colab": {
      "gpuType": "T4",
      "provenance": [],
      "toc_visible": true
    },
    "kernelspec": {
      "display_name": "Python 3",
      "name": "python3"
    },
    "language_info": {
      "codemirror_mode": {
        "name": "ipython",
        "version": 3
      },
      "file_extension": ".py",
      "mimetype": "text/x-python",
      "name": "python",
      "nbconvert_exporter": "python",
      "pygments_lexer": "ipython3",
      "version": "3.12.3"
    }
  },
  "nbformat": 4,
  "nbformat_minor": 0
}
