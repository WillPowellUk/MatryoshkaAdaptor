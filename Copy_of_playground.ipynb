{
  "cells": [
    {
      "cell_type": "markdown",
      "metadata": {
        "id": "pdg4efAmPQ32"
      },
      "source": [
        "# Structure\n"
      ]
    },
    {
      "cell_type": "markdown",
      "metadata": {
        "id": "aT1EJEfjPQ34"
      },
      "source": [
        "## Setup"
      ]
    },
    {
      "cell_type": "code",
      "execution_count": 4,
      "metadata": {
        "colab": {
          "base_uri": "https://localhost:8080/"
        },
        "id": "NNO5WkvKPQ35",
        "outputId": "decd2625-7e24-422e-e478-3f20bada4688"
      },
      "outputs": [
        {
          "name": "stdout",
          "output_type": "stream",
          "text": [
            "Requirement already satisfied: sentence-transformers in c:\\users\\willi\\miniconda3\\lib\\site-packages (3.0.1)\n",
            "Requirement already satisfied: transformers<5.0.0,>=4.34.0 in c:\\users\\willi\\miniconda3\\lib\\site-packages (from sentence-transformers) (4.44.1)\n",
            "Requirement already satisfied: tqdm in c:\\users\\willi\\miniconda3\\lib\\site-packages (from sentence-transformers) (4.66.5)\n",
            "Requirement already satisfied: torch>=1.11.0 in c:\\users\\willi\\miniconda3\\lib\\site-packages (from sentence-transformers) (2.4.0)\n",
            "Requirement already satisfied: numpy in c:\\users\\willi\\miniconda3\\lib\\site-packages (from sentence-transformers) (1.26.0)\n",
            "Requirement already satisfied: scikit-learn in c:\\users\\willi\\miniconda3\\lib\\site-packages (from sentence-transformers) (1.5.1)\n",
            "Requirement already satisfied: scipy in c:\\users\\willi\\miniconda3\\lib\\site-packages (from sentence-transformers) (1.14.0)\n",
            "Requirement already satisfied: huggingface-hub>=0.15.1 in c:\\users\\willi\\miniconda3\\lib\\site-packages (from sentence-transformers) (0.24.6)\n",
            "Requirement already satisfied: Pillow in c:\\users\\willi\\miniconda3\\lib\\site-packages (from sentence-transformers) (10.3.0)\n",
            "Requirement already satisfied: filelock in c:\\users\\willi\\miniconda3\\lib\\site-packages (from huggingface-hub>=0.15.1->sentence-transformers) (3.15.4)\n",
            "Requirement already satisfied: fsspec>=2023.5.0 in c:\\users\\willi\\miniconda3\\lib\\site-packages (from huggingface-hub>=0.15.1->sentence-transformers) (2024.6.1)\n",
            "Requirement already satisfied: packaging>=20.9 in c:\\users\\willi\\miniconda3\\lib\\site-packages (from huggingface-hub>=0.15.1->sentence-transformers) (23.2)\n",
            "Requirement already satisfied: pyyaml>=5.1 in c:\\users\\willi\\miniconda3\\lib\\site-packages (from huggingface-hub>=0.15.1->sentence-transformers) (6.0.2)\n",
            "Requirement already satisfied: requests in c:\\users\\willi\\miniconda3\\lib\\site-packages (from huggingface-hub>=0.15.1->sentence-transformers) (2.32.3)\n",
            "Requirement already satisfied: typing-extensions>=3.7.4.3 in c:\\users\\willi\\miniconda3\\lib\\site-packages (from huggingface-hub>=0.15.1->sentence-transformers) (4.12.2)\n",
            "Requirement already satisfied: sympy in c:\\users\\willi\\miniconda3\\lib\\site-packages (from torch>=1.11.0->sentence-transformers) (1.13.2)\n",
            "Requirement already satisfied: networkx in c:\\users\\willi\\miniconda3\\lib\\site-packages (from torch>=1.11.0->sentence-transformers) (3.3)\n",
            "Requirement already satisfied: jinja2 in c:\\users\\willi\\miniconda3\\lib\\site-packages (from torch>=1.11.0->sentence-transformers) (3.1.4)\n",
            "Requirement already satisfied: setuptools in c:\\users\\willi\\miniconda3\\lib\\site-packages (from torch>=1.11.0->sentence-transformers) (69.5.1)\n",
            "Requirement already satisfied: colorama in c:\\users\\willi\\miniconda3\\lib\\site-packages (from tqdm->sentence-transformers) (0.4.6)\n",
            "Requirement already satisfied: regex!=2019.12.17 in c:\\users\\willi\\miniconda3\\lib\\site-packages (from transformers<5.0.0,>=4.34.0->sentence-transformers) (2024.7.24)\n",
            "Requirement already satisfied: safetensors>=0.4.1 in c:\\users\\willi\\miniconda3\\lib\\site-packages (from transformers<5.0.0,>=4.34.0->sentence-transformers) (0.4.4)\n",
            "Requirement already satisfied: tokenizers<0.20,>=0.19 in c:\\users\\willi\\miniconda3\\lib\\site-packages (from transformers<5.0.0,>=4.34.0->sentence-transformers) (0.19.1)\n",
            "Requirement already satisfied: joblib>=1.2.0 in c:\\users\\willi\\miniconda3\\lib\\site-packages (from scikit-learn->sentence-transformers) (1.4.2)\n",
            "Requirement already satisfied: threadpoolctl>=3.1.0 in c:\\users\\willi\\miniconda3\\lib\\site-packages (from scikit-learn->sentence-transformers) (3.5.0)\n",
            "Requirement already satisfied: MarkupSafe>=2.0 in c:\\users\\willi\\miniconda3\\lib\\site-packages (from jinja2->torch>=1.11.0->sentence-transformers) (2.1.5)\n",
            "Requirement already satisfied: charset-normalizer<4,>=2 in c:\\users\\willi\\miniconda3\\lib\\site-packages (from requests->huggingface-hub>=0.15.1->sentence-transformers) (2.0.4)\n",
            "Requirement already satisfied: idna<4,>=2.5 in c:\\users\\willi\\miniconda3\\lib\\site-packages (from requests->huggingface-hub>=0.15.1->sentence-transformers) (3.7)\n",
            "Requirement already satisfied: urllib3<3,>=1.21.1 in c:\\users\\willi\\miniconda3\\lib\\site-packages (from requests->huggingface-hub>=0.15.1->sentence-transformers) (2.1.0)\n",
            "Requirement already satisfied: certifi>=2017.4.17 in c:\\users\\willi\\miniconda3\\lib\\site-packages (from requests->huggingface-hub>=0.15.1->sentence-transformers) (2024.7.4)\n",
            "Requirement already satisfied: mpmath<1.4,>=1.1.0 in c:\\users\\willi\\miniconda3\\lib\\site-packages (from sympy->torch>=1.11.0->sentence-transformers) (1.3.0)\n",
            "Requirement already satisfied: mteb in c:\\users\\willi\\miniconda3\\lib\\site-packages (1.14.9)\n",
            "Requirement already satisfied: datasets>=2.19.0 in c:\\users\\willi\\miniconda3\\lib\\site-packages (from mteb) (2.21.0)\n",
            "Requirement already satisfied: numpy<2.0.0,>=1.0.0 in c:\\users\\willi\\miniconda3\\lib\\site-packages (from mteb) (1.26.0)\n",
            "Requirement already satisfied: requests>=2.26.0 in c:\\users\\willi\\miniconda3\\lib\\site-packages (from mteb) (2.32.3)\n",
            "Requirement already satisfied: scikit-learn>=1.0.2 in c:\\users\\willi\\miniconda3\\lib\\site-packages (from mteb) (1.5.1)\n",
            "Requirement already satisfied: scipy>=0.0.0 in c:\\users\\willi\\miniconda3\\lib\\site-packages (from mteb) (1.14.0)\n",
            "Requirement already satisfied: sentence-transformers>=3.0.0 in c:\\users\\willi\\miniconda3\\lib\\site-packages (from mteb) (3.0.1)\n",
            "Requirement already satisfied: typing-extensions>=4.5.0 in c:\\users\\willi\\miniconda3\\lib\\site-packages (from mteb) (4.12.2)\n",
            "Requirement already satisfied: torch>1.0.0 in c:\\users\\willi\\miniconda3\\lib\\site-packages (from mteb) (2.4.0)\n",
            "Requirement already satisfied: tqdm>1.0.0 in c:\\users\\willi\\miniconda3\\lib\\site-packages (from mteb) (4.66.5)\n",
            "Requirement already satisfied: rich>=0.0.0 in c:\\users\\willi\\miniconda3\\lib\\site-packages (from mteb) (13.7.1)\n",
            "Requirement already satisfied: pytrec-eval-terrier>=0.5.6 in c:\\users\\willi\\miniconda3\\lib\\site-packages (from mteb) (0.5.6)\n",
            "Requirement already satisfied: pydantic>=2.0.0 in c:\\users\\willi\\miniconda3\\lib\\site-packages (from mteb) (2.8.2)\n",
            "Requirement already satisfied: eval-type-backport>=0.0.0 in c:\\users\\willi\\miniconda3\\lib\\site-packages (from mteb) (0.2.0)\n",
            "Requirement already satisfied: polars>=0.20.22 in c:\\users\\willi\\miniconda3\\lib\\site-packages (from mteb) (1.5.0)\n",
            "Requirement already satisfied: filelock in c:\\users\\willi\\miniconda3\\lib\\site-packages (from datasets>=2.19.0->mteb) (3.15.4)\n",
            "Requirement already satisfied: pyarrow>=15.0.0 in c:\\users\\willi\\miniconda3\\lib\\site-packages (from datasets>=2.19.0->mteb) (17.0.0)\n",
            "Requirement already satisfied: dill<0.3.9,>=0.3.0 in c:\\users\\willi\\miniconda3\\lib\\site-packages (from datasets>=2.19.0->mteb) (0.3.8)\n",
            "Requirement already satisfied: pandas in c:\\users\\willi\\miniconda3\\lib\\site-packages (from datasets>=2.19.0->mteb) (2.2.2)\n",
            "Requirement already satisfied: xxhash in c:\\users\\willi\\miniconda3\\lib\\site-packages (from datasets>=2.19.0->mteb) (3.5.0)\n",
            "Requirement already satisfied: multiprocess in c:\\users\\willi\\miniconda3\\lib\\site-packages (from datasets>=2.19.0->mteb) (0.70.16)\n",
            "Requirement already satisfied: fsspec<=2024.6.1,>=2023.1.0 in c:\\users\\willi\\miniconda3\\lib\\site-packages (from fsspec[http]<=2024.6.1,>=2023.1.0->datasets>=2.19.0->mteb) (2024.6.1)\n",
            "Requirement already satisfied: aiohttp in c:\\users\\willi\\miniconda3\\lib\\site-packages (from datasets>=2.19.0->mteb) (3.10.3)\n",
            "Requirement already satisfied: huggingface-hub>=0.21.2 in c:\\users\\willi\\miniconda3\\lib\\site-packages (from datasets>=2.19.0->mteb) (0.24.6)\n",
            "Requirement already satisfied: packaging in c:\\users\\willi\\miniconda3\\lib\\site-packages (from datasets>=2.19.0->mteb) (23.2)\n",
            "Requirement already satisfied: pyyaml>=5.1 in c:\\users\\willi\\miniconda3\\lib\\site-packages (from datasets>=2.19.0->mteb) (6.0.2)\n",
            "Requirement already satisfied: annotated-types>=0.4.0 in c:\\users\\willi\\miniconda3\\lib\\site-packages (from pydantic>=2.0.0->mteb) (0.7.0)\n",
            "Requirement already satisfied: pydantic-core==2.20.1 in c:\\users\\willi\\miniconda3\\lib\\site-packages (from pydantic>=2.0.0->mteb) (2.20.1)\n",
            "Requirement already satisfied: charset-normalizer<4,>=2 in c:\\users\\willi\\miniconda3\\lib\\site-packages (from requests>=2.26.0->mteb) (2.0.4)\n",
            "Requirement already satisfied: idna<4,>=2.5 in c:\\users\\willi\\miniconda3\\lib\\site-packages (from requests>=2.26.0->mteb) (3.7)\n",
            "Requirement already satisfied: urllib3<3,>=1.21.1 in c:\\users\\willi\\miniconda3\\lib\\site-packages (from requests>=2.26.0->mteb) (2.1.0)\n",
            "Requirement already satisfied: certifi>=2017.4.17 in c:\\users\\willi\\miniconda3\\lib\\site-packages (from requests>=2.26.0->mteb) (2024.7.4)\n",
            "Requirement already satisfied: markdown-it-py>=2.2.0 in c:\\users\\willi\\miniconda3\\lib\\site-packages (from rich>=0.0.0->mteb) (3.0.0)\n",
            "Requirement already satisfied: pygments<3.0.0,>=2.13.0 in c:\\users\\willi\\miniconda3\\lib\\site-packages (from rich>=0.0.0->mteb) (2.18.0)\n",
            "Requirement already satisfied: joblib>=1.2.0 in c:\\users\\willi\\miniconda3\\lib\\site-packages (from scikit-learn>=1.0.2->mteb) (1.4.2)\n",
            "Requirement already satisfied: threadpoolctl>=3.1.0 in c:\\users\\willi\\miniconda3\\lib\\site-packages (from scikit-learn>=1.0.2->mteb) (3.5.0)\n",
            "Requirement already satisfied: transformers<5.0.0,>=4.34.0 in c:\\users\\willi\\miniconda3\\lib\\site-packages (from sentence-transformers>=3.0.0->mteb) (4.44.1)\n",
            "Requirement already satisfied: Pillow in c:\\users\\willi\\miniconda3\\lib\\site-packages (from sentence-transformers>=3.0.0->mteb) (10.3.0)\n",
            "Requirement already satisfied: sympy in c:\\users\\willi\\miniconda3\\lib\\site-packages (from torch>1.0.0->mteb) (1.13.2)\n",
            "Requirement already satisfied: networkx in c:\\users\\willi\\miniconda3\\lib\\site-packages (from torch>1.0.0->mteb) (3.3)\n",
            "Requirement already satisfied: jinja2 in c:\\users\\willi\\miniconda3\\lib\\site-packages (from torch>1.0.0->mteb) (3.1.4)\n",
            "Requirement already satisfied: setuptools in c:\\users\\willi\\miniconda3\\lib\\site-packages (from torch>1.0.0->mteb) (69.5.1)\n",
            "Requirement already satisfied: colorama in c:\\users\\willi\\miniconda3\\lib\\site-packages (from tqdm>1.0.0->mteb) (0.4.6)\n",
            "Requirement already satisfied: aiohappyeyeballs>=2.3.0 in c:\\users\\willi\\miniconda3\\lib\\site-packages (from aiohttp->datasets>=2.19.0->mteb) (2.3.5)\n",
            "Requirement already satisfied: aiosignal>=1.1.2 in c:\\users\\willi\\miniconda3\\lib\\site-packages (from aiohttp->datasets>=2.19.0->mteb) (1.3.1)\n",
            "Requirement already satisfied: attrs>=17.3.0 in c:\\users\\willi\\miniconda3\\lib\\site-packages (from aiohttp->datasets>=2.19.0->mteb) (24.2.0)\n",
            "Requirement already satisfied: frozenlist>=1.1.1 in c:\\users\\willi\\miniconda3\\lib\\site-packages (from aiohttp->datasets>=2.19.0->mteb) (1.4.1)\n",
            "Requirement already satisfied: multidict<7.0,>=4.5 in c:\\users\\willi\\miniconda3\\lib\\site-packages (from aiohttp->datasets>=2.19.0->mteb) (6.0.5)\n",
            "Requirement already satisfied: yarl<2.0,>=1.0 in c:\\users\\willi\\miniconda3\\lib\\site-packages (from aiohttp->datasets>=2.19.0->mteb) (1.9.4)\n",
            "Requirement already satisfied: mdurl~=0.1 in c:\\users\\willi\\miniconda3\\lib\\site-packages (from markdown-it-py>=2.2.0->rich>=0.0.0->mteb) (0.1.2)\n",
            "Requirement already satisfied: regex!=2019.12.17 in c:\\users\\willi\\miniconda3\\lib\\site-packages (from transformers<5.0.0,>=4.34.0->sentence-transformers>=3.0.0->mteb) (2024.7.24)\n",
            "Requirement already satisfied: safetensors>=0.4.1 in c:\\users\\willi\\miniconda3\\lib\\site-packages (from transformers<5.0.0,>=4.34.0->sentence-transformers>=3.0.0->mteb) (0.4.4)\n",
            "Requirement already satisfied: tokenizers<0.20,>=0.19 in c:\\users\\willi\\miniconda3\\lib\\site-packages (from transformers<5.0.0,>=4.34.0->sentence-transformers>=3.0.0->mteb) (0.19.1)\n",
            "Requirement already satisfied: MarkupSafe>=2.0 in c:\\users\\willi\\miniconda3\\lib\\site-packages (from jinja2->torch>1.0.0->mteb) (2.1.5)\n",
            "Requirement already satisfied: python-dateutil>=2.8.2 in c:\\users\\willi\\miniconda3\\lib\\site-packages (from pandas->datasets>=2.19.0->mteb) (2.9.0)\n",
            "Requirement already satisfied: pytz>=2020.1 in c:\\users\\willi\\miniconda3\\lib\\site-packages (from pandas->datasets>=2.19.0->mteb) (2024.1)\n",
            "Requirement already satisfied: tzdata>=2022.7 in c:\\users\\willi\\miniconda3\\lib\\site-packages (from pandas->datasets>=2.19.0->mteb) (2024.1)\n",
            "Requirement already satisfied: mpmath<1.4,>=1.1.0 in c:\\users\\willi\\miniconda3\\lib\\site-packages (from sympy->torch>1.0.0->mteb) (1.3.0)\n",
            "Requirement already satisfied: six>=1.5 in c:\\users\\willi\\miniconda3\\lib\\site-packages (from python-dateutil>=2.8.2->pandas->datasets>=2.19.0->mteb) (1.16.0)\n",
            "Collecting beir\n",
            "  Using cached beir-2.0.0-py3-none-any.whl\n",
            "Requirement already satisfied: sentence-transformers in c:\\users\\willi\\miniconda3\\lib\\site-packages (from beir) (3.0.1)\n",
            "Collecting pytrec-eval (from beir)\n",
            "  Using cached pytrec_eval-0.5.tar.gz (15 kB)\n",
            "  Preparing metadata (setup.py): started\n",
            "  Preparing metadata (setup.py): finished with status 'done'\n",
            "Collecting faiss-cpu (from beir)\n",
            "  Using cached faiss_cpu-1.8.0.post1-cp312-cp312-win_amd64.whl.metadata (3.8 kB)\n",
            "Collecting elasticsearch==7.9.1 (from beir)\n",
            "  Using cached elasticsearch-7.9.1-py2.py3-none-any.whl.metadata (8.0 kB)\n",
            "Requirement already satisfied: datasets in c:\\users\\willi\\miniconda3\\lib\\site-packages (from beir) (2.21.0)\n",
            "Requirement already satisfied: urllib3>=1.21.1 in c:\\users\\willi\\miniconda3\\lib\\site-packages (from elasticsearch==7.9.1->beir) (2.1.0)\n",
            "Requirement already satisfied: certifi in c:\\users\\willi\\miniconda3\\lib\\site-packages (from elasticsearch==7.9.1->beir) (2024.7.4)\n",
            "Requirement already satisfied: filelock in c:\\users\\willi\\miniconda3\\lib\\site-packages (from datasets->beir) (3.15.4)\n",
            "Requirement already satisfied: numpy>=1.17 in c:\\users\\willi\\miniconda3\\lib\\site-packages (from datasets->beir) (1.26.0)\n",
            "Requirement already satisfied: pyarrow>=15.0.0 in c:\\users\\willi\\miniconda3\\lib\\site-packages (from datasets->beir) (17.0.0)\n",
            "Requirement already satisfied: dill<0.3.9,>=0.3.0 in c:\\users\\willi\\miniconda3\\lib\\site-packages (from datasets->beir) (0.3.8)\n",
            "Requirement already satisfied: pandas in c:\\users\\willi\\miniconda3\\lib\\site-packages (from datasets->beir) (2.2.2)\n",
            "Requirement already satisfied: requests>=2.32.2 in c:\\users\\willi\\miniconda3\\lib\\site-packages (from datasets->beir) (2.32.3)\n",
            "Requirement already satisfied: tqdm>=4.66.3 in c:\\users\\willi\\miniconda3\\lib\\site-packages (from datasets->beir) (4.66.5)\n",
            "Requirement already satisfied: xxhash in c:\\users\\willi\\miniconda3\\lib\\site-packages (from datasets->beir) (3.5.0)\n",
            "Requirement already satisfied: multiprocess in c:\\users\\willi\\miniconda3\\lib\\site-packages (from datasets->beir) (0.70.16)\n",
            "Requirement already satisfied: fsspec<=2024.6.1,>=2023.1.0 in c:\\users\\willi\\miniconda3\\lib\\site-packages (from fsspec[http]<=2024.6.1,>=2023.1.0->datasets->beir) (2024.6.1)\n",
            "Requirement already satisfied: aiohttp in c:\\users\\willi\\miniconda3\\lib\\site-packages (from datasets->beir) (3.10.3)\n",
            "Requirement already satisfied: huggingface-hub>=0.21.2 in c:\\users\\willi\\miniconda3\\lib\\site-packages (from datasets->beir) (0.24.6)\n",
            "Requirement already satisfied: packaging in c:\\users\\willi\\miniconda3\\lib\\site-packages (from datasets->beir) (23.2)\n",
            "Requirement already satisfied: pyyaml>=5.1 in c:\\users\\willi\\miniconda3\\lib\\site-packages (from datasets->beir) (6.0.2)\n",
            "Requirement already satisfied: transformers<5.0.0,>=4.34.0 in c:\\users\\willi\\miniconda3\\lib\\site-packages (from sentence-transformers->beir) (4.44.1)\n",
            "Requirement already satisfied: torch>=1.11.0 in c:\\users\\willi\\miniconda3\\lib\\site-packages (from sentence-transformers->beir) (2.4.0)\n",
            "Requirement already satisfied: scikit-learn in c:\\users\\willi\\miniconda3\\lib\\site-packages (from sentence-transformers->beir) (1.5.1)\n",
            "Requirement already satisfied: scipy in c:\\users\\willi\\miniconda3\\lib\\site-packages (from sentence-transformers->beir) (1.14.0)\n",
            "Requirement already satisfied: Pillow in c:\\users\\willi\\miniconda3\\lib\\site-packages (from sentence-transformers->beir) (10.3.0)\n",
            "Requirement already satisfied: aiohappyeyeballs>=2.3.0 in c:\\users\\willi\\miniconda3\\lib\\site-packages (from aiohttp->datasets->beir) (2.3.5)\n",
            "Requirement already satisfied: aiosignal>=1.1.2 in c:\\users\\willi\\miniconda3\\lib\\site-packages (from aiohttp->datasets->beir) (1.3.1)\n",
            "Requirement already satisfied: attrs>=17.3.0 in c:\\users\\willi\\miniconda3\\lib\\site-packages (from aiohttp->datasets->beir) (24.2.0)\n",
            "Requirement already satisfied: frozenlist>=1.1.1 in c:\\users\\willi\\miniconda3\\lib\\site-packages (from aiohttp->datasets->beir) (1.4.1)\n",
            "Requirement already satisfied: multidict<7.0,>=4.5 in c:\\users\\willi\\miniconda3\\lib\\site-packages (from aiohttp->datasets->beir) (6.0.5)\n",
            "Requirement already satisfied: yarl<2.0,>=1.0 in c:\\users\\willi\\miniconda3\\lib\\site-packages (from aiohttp->datasets->beir) (1.9.4)\n",
            "Requirement already satisfied: typing-extensions>=3.7.4.3 in c:\\users\\willi\\miniconda3\\lib\\site-packages (from huggingface-hub>=0.21.2->datasets->beir) (4.12.2)\n",
            "Requirement already satisfied: charset-normalizer<4,>=2 in c:\\users\\willi\\miniconda3\\lib\\site-packages (from requests>=2.32.2->datasets->beir) (2.0.4)\n",
            "Requirement already satisfied: idna<4,>=2.5 in c:\\users\\willi\\miniconda3\\lib\\site-packages (from requests>=2.32.2->datasets->beir) (3.7)\n",
            "Requirement already satisfied: sympy in c:\\users\\willi\\miniconda3\\lib\\site-packages (from torch>=1.11.0->sentence-transformers->beir) (1.13.2)\n",
            "Requirement already satisfied: networkx in c:\\users\\willi\\miniconda3\\lib\\site-packages (from torch>=1.11.0->sentence-transformers->beir) (3.3)\n",
            "Requirement already satisfied: jinja2 in c:\\users\\willi\\miniconda3\\lib\\site-packages (from torch>=1.11.0->sentence-transformers->beir) (3.1.4)\n",
            "Requirement already satisfied: setuptools in c:\\users\\willi\\miniconda3\\lib\\site-packages (from torch>=1.11.0->sentence-transformers->beir) (69.5.1)\n",
            "Requirement already satisfied: colorama in c:\\users\\willi\\miniconda3\\lib\\site-packages (from tqdm>=4.66.3->datasets->beir) (0.4.6)\n",
            "Requirement already satisfied: regex!=2019.12.17 in c:\\users\\willi\\miniconda3\\lib\\site-packages (from transformers<5.0.0,>=4.34.0->sentence-transformers->beir) (2024.7.24)\n",
            "Requirement already satisfied: safetensors>=0.4.1 in c:\\users\\willi\\miniconda3\\lib\\site-packages (from transformers<5.0.0,>=4.34.0->sentence-transformers->beir) (0.4.4)\n",
            "Requirement already satisfied: tokenizers<0.20,>=0.19 in c:\\users\\willi\\miniconda3\\lib\\site-packages (from transformers<5.0.0,>=4.34.0->sentence-transformers->beir) (0.19.1)\n",
            "Requirement already satisfied: python-dateutil>=2.8.2 in c:\\users\\willi\\miniconda3\\lib\\site-packages (from pandas->datasets->beir) (2.9.0)\n",
            "Requirement already satisfied: pytz>=2020.1 in c:\\users\\willi\\miniconda3\\lib\\site-packages (from pandas->datasets->beir) (2024.1)\n",
            "Requirement already satisfied: tzdata>=2022.7 in c:\\users\\willi\\miniconda3\\lib\\site-packages (from pandas->datasets->beir) (2024.1)\n",
            "Requirement already satisfied: joblib>=1.2.0 in c:\\users\\willi\\miniconda3\\lib\\site-packages (from scikit-learn->sentence-transformers->beir) (1.4.2)\n",
            "Requirement already satisfied: threadpoolctl>=3.1.0 in c:\\users\\willi\\miniconda3\\lib\\site-packages (from scikit-learn->sentence-transformers->beir) (3.5.0)\n",
            "Requirement already satisfied: six>=1.5 in c:\\users\\willi\\miniconda3\\lib\\site-packages (from python-dateutil>=2.8.2->pandas->datasets->beir) (1.16.0)\n",
            "Requirement already satisfied: MarkupSafe>=2.0 in c:\\users\\willi\\miniconda3\\lib\\site-packages (from jinja2->torch>=1.11.0->sentence-transformers->beir) (2.1.5)\n",
            "Requirement already satisfied: mpmath<1.4,>=1.1.0 in c:\\users\\willi\\miniconda3\\lib\\site-packages (from sympy->torch>=1.11.0->sentence-transformers->beir) (1.3.0)\n",
            "Using cached elasticsearch-7.9.1-py2.py3-none-any.whl (219 kB)\n",
            "Using cached faiss_cpu-1.8.0.post1-cp312-cp312-win_amd64.whl (14.6 MB)\n",
            "Building wheels for collected packages: pytrec-eval\n",
            "  Building wheel for pytrec-eval (setup.py): started\n",
            "  Building wheel for pytrec-eval (setup.py): finished with status 'error'\n",
            "  Running setup.py clean for pytrec-eval\n",
            "Failed to build pytrec-eval\n"
          ]
        },
        {
          "name": "stderr",
          "output_type": "stream",
          "text": [
            "  error: subprocess-exited-with-error\n",
            "  \n",
            "  × python setup.py bdist_wheel did not run successfully.\n",
            "  │ exit code: 1\n",
            "  ╰─> [26 lines of output]\n",
            "      Fetching trec_eval from https://github.com/usnistgov/trec_eval/archive/v9.0.8.tar.gz.\n",
            "      C:\\Users\\Willi\\miniconda3\\Lib\\site-packages\\setuptools\\dist.py:476: SetuptoolsDeprecationWarning: Invalid dash-separated options\n",
            "      !!\n",
            "      \n",
            "              ********************************************************************************\n",
            "              Usage of dash-separated 'description-file' will not be supported in future\n",
            "              versions. Please use the underscore name 'description_file' instead.\n",
            "      \n",
            "              By 2024-Sep-26, you need to update your project and remove deprecated calls\n",
            "              or your builds will no longer be supported.\n",
            "      \n",
            "              See https://setuptools.pypa.io/en/latest/userguide/declarative_config.html for details.\n",
            "              ********************************************************************************\n",
            "      \n",
            "      !!\n",
            "        opt = self.warn_dash_deprecation(opt, section)\n",
            "      running bdist_wheel\n",
            "      running build\n",
            "      running build_py\n",
            "      creating build\n",
            "      creating build\\lib.win-amd64-cpython-312\n",
            "      creating build\\lib.win-amd64-cpython-312\\pytrec_eval\n",
            "      copying py\\__init__.py -> build\\lib.win-amd64-cpython-312\\pytrec_eval\n",
            "      running build_ext\n",
            "      building 'pytrec_eval_ext' extension\n",
            "      error: Microsoft Visual C++ 14.0 or greater is required. Get it with \"Microsoft C++ Build Tools\": https://visualstudio.microsoft.com/visual-cpp-build-tools/\n",
            "      [end of output]\n",
            "  \n",
            "  note: This error originates from a subprocess, and is likely not a problem with pip.\n",
            "  ERROR: Failed building wheel for pytrec-eval\n",
            "ERROR: Could not build wheels for pytrec-eval, which is required to install pyproject.toml-based projects\n"
          ]
        },
        {
          "name": "stdout",
          "output_type": "stream",
          "text": [
            "Requirement already satisfied: datasets in c:\\users\\willi\\miniconda3\\lib\\site-packages (2.21.0)\n",
            "Requirement already satisfied: filelock in c:\\users\\willi\\miniconda3\\lib\\site-packages (from datasets) (3.15.4)\n",
            "Requirement already satisfied: numpy>=1.17 in c:\\users\\willi\\miniconda3\\lib\\site-packages (from datasets) (1.26.0)\n",
            "Requirement already satisfied: pyarrow>=15.0.0 in c:\\users\\willi\\miniconda3\\lib\\site-packages (from datasets) (17.0.0)\n",
            "Requirement already satisfied: dill<0.3.9,>=0.3.0 in c:\\users\\willi\\miniconda3\\lib\\site-packages (from datasets) (0.3.8)\n",
            "Requirement already satisfied: pandas in c:\\users\\willi\\miniconda3\\lib\\site-packages (from datasets) (2.2.2)\n",
            "Requirement already satisfied: requests>=2.32.2 in c:\\users\\willi\\miniconda3\\lib\\site-packages (from datasets) (2.32.3)\n",
            "Requirement already satisfied: tqdm>=4.66.3 in c:\\users\\willi\\miniconda3\\lib\\site-packages (from datasets) (4.66.5)\n",
            "Requirement already satisfied: xxhash in c:\\users\\willi\\miniconda3\\lib\\site-packages (from datasets) (3.5.0)\n",
            "Requirement already satisfied: multiprocess in c:\\users\\willi\\miniconda3\\lib\\site-packages (from datasets) (0.70.16)\n",
            "Requirement already satisfied: fsspec<=2024.6.1,>=2023.1.0 in c:\\users\\willi\\miniconda3\\lib\\site-packages (from fsspec[http]<=2024.6.1,>=2023.1.0->datasets) (2024.6.1)\n",
            "Requirement already satisfied: aiohttp in c:\\users\\willi\\miniconda3\\lib\\site-packages (from datasets) (3.10.3)\n",
            "Requirement already satisfied: huggingface-hub>=0.21.2 in c:\\users\\willi\\miniconda3\\lib\\site-packages (from datasets) (0.24.6)\n",
            "Requirement already satisfied: packaging in c:\\users\\willi\\miniconda3\\lib\\site-packages (from datasets) (23.2)\n",
            "Requirement already satisfied: pyyaml>=5.1 in c:\\users\\willi\\miniconda3\\lib\\site-packages (from datasets) (6.0.2)\n",
            "Requirement already satisfied: aiohappyeyeballs>=2.3.0 in c:\\users\\willi\\miniconda3\\lib\\site-packages (from aiohttp->datasets) (2.3.5)\n",
            "Requirement already satisfied: aiosignal>=1.1.2 in c:\\users\\willi\\miniconda3\\lib\\site-packages (from aiohttp->datasets) (1.3.1)\n",
            "Requirement already satisfied: attrs>=17.3.0 in c:\\users\\willi\\miniconda3\\lib\\site-packages (from aiohttp->datasets) (24.2.0)\n",
            "Requirement already satisfied: frozenlist>=1.1.1 in c:\\users\\willi\\miniconda3\\lib\\site-packages (from aiohttp->datasets) (1.4.1)\n",
            "Requirement already satisfied: multidict<7.0,>=4.5 in c:\\users\\willi\\miniconda3\\lib\\site-packages (from aiohttp->datasets) (6.0.5)\n",
            "Requirement already satisfied: yarl<2.0,>=1.0 in c:\\users\\willi\\miniconda3\\lib\\site-packages (from aiohttp->datasets) (1.9.4)\n",
            "Requirement already satisfied: typing-extensions>=3.7.4.3 in c:\\users\\willi\\miniconda3\\lib\\site-packages (from huggingface-hub>=0.21.2->datasets) (4.12.2)\n",
            "Requirement already satisfied: charset-normalizer<4,>=2 in c:\\users\\willi\\miniconda3\\lib\\site-packages (from requests>=2.32.2->datasets) (2.0.4)\n",
            "Requirement already satisfied: idna<4,>=2.5 in c:\\users\\willi\\miniconda3\\lib\\site-packages (from requests>=2.32.2->datasets) (3.7)\n",
            "Requirement already satisfied: urllib3<3,>=1.21.1 in c:\\users\\willi\\miniconda3\\lib\\site-packages (from requests>=2.32.2->datasets) (2.1.0)\n",
            "Requirement already satisfied: certifi>=2017.4.17 in c:\\users\\willi\\miniconda3\\lib\\site-packages (from requests>=2.32.2->datasets) (2024.7.4)\n",
            "Requirement already satisfied: colorama in c:\\users\\willi\\miniconda3\\lib\\site-packages (from tqdm>=4.66.3->datasets) (0.4.6)\n",
            "Requirement already satisfied: python-dateutil>=2.8.2 in c:\\users\\willi\\miniconda3\\lib\\site-packages (from pandas->datasets) (2.9.0)\n",
            "Requirement already satisfied: pytz>=2020.1 in c:\\users\\willi\\miniconda3\\lib\\site-packages (from pandas->datasets) (2024.1)\n",
            "Requirement already satisfied: tzdata>=2022.7 in c:\\users\\willi\\miniconda3\\lib\\site-packages (from pandas->datasets) (2024.1)\n",
            "Requirement already satisfied: six>=1.5 in c:\\users\\willi\\miniconda3\\lib\\site-packages (from python-dateutil>=2.8.2->pandas->datasets) (1.16.0)\n"
          ]
        }
      ],
      "source": [
        "# !pip install -r requirements.txt\n",
        "!pip install sentence-transformers\n",
        "!pip install mteb\n",
        "!pip install beir\n",
        "!pip install datasets"
      ]
    },
    {
      "cell_type": "markdown",
      "metadata": {
        "id": "cEwnKu7oPQ36"
      },
      "source": [
        "## Matryoshka-Adaptor Implementation"
      ]
    },
    {
      "cell_type": "markdown",
      "metadata": {
        "id": "IuuAdgX7sD00"
      },
      "source": [
        "### Architecture"
      ]
    },
    {
      "cell_type": "code",
      "execution_count": 13,
      "metadata": {
        "id": "rpi5vvq4sH80"
      },
      "outputs": [],
      "source": [
        "import torch\n",
        "import torch.nn.functional as F\n",
        "\n",
        "# Define MatryoshkaAdaptor module - a simple MLP with skip connection\n",
        "class MatryoshkaAdaptor(torch.nn.Module):\n",
        "    \"\"\"\n",
        "    A PyTorch neural network module that adapts the output of an embedding model\n",
        "    into a desired output dimension using two linear transformations with a ReLU activation in between.\n",
        "    Includes a skip connection from input to output.\n",
        "    \"\"\"\n",
        "    def __init__(self, input_output_dim, hidden_dim):\n",
        "        \"\"\"\n",
        "        Initializes the MatryoshkaAdaptor module.\n",
        "        \n",
        "        Args:\n",
        "            input_output_dim: An integer representing the input and output dimension of the module which are equal.\n",
        "            hidden_dim: An integer representing the hidden dimension of the module.\n",
        "            \n",
        "        Returns:\n",
        "            None\n",
        "        \"\"\"\n",
        "        super(MatryoshkaAdaptor, self).__init__()\n",
        "        # First linear layer to transform the input dimension to a hidden dimension\n",
        "        self.linear1 = torch.nn.Linear(input_output_dim, hidden_dim)\n",
        "        # Second linear layer to transform the hidden dimension to the output dimension which is same as input dimension\n",
        "        self.linear2 = torch.nn.Linear(hidden_dim, input_output_dim)\n",
        "        # Activation function to introduce non-linearity\n",
        "        self.activation = torch.nn.ReLU()\n",
        "\n",
        "    def forward(self, embedding):\n",
        "        \"\"\"\n",
        "        Forward pass of the MatryoshkaAdaptor module.\n",
        "\n",
        "        Args:\n",
        "            embedding: A torch.Tensor of shape (batch_size, input_output_dim) representing the input embeddings.\n",
        "\n",
        "        Returns:\n",
        "            output: A torch.Tensor of shape (batch_size, input_output_dim) representing the matryoshka embeddings.\n",
        "        \"\"\"\n",
        "        # Apply the first linear transformation followed by the activation function\n",
        "        hidden_embedding = self.activation(self.linear1(embedding))\n",
        "        \n",
        "        # Apply the second linear transformation to get the final adapted embedding\n",
        "        adapted_embedding = self.linear2(hidden_embedding)\n",
        "        \n",
        "        # Add the skip connection by adding the original embedding to the adapted embedding\n",
        "        mat_embedding = adapted_embedding + embedding\n",
        "\n",
        "        return mat_embedding"
      ]
    },
    {
      "cell_type": "markdown",
      "metadata": {
        "id": "0i3hyw53tnoz"
      },
      "source": [
        "### Loss Functions"
      ]
    },
    {
      "cell_type": "code",
      "execution_count": 14,
      "metadata": {
        "id": "X_inssTutsBl"
      },
      "outputs": [],
      "source": [
        "# Equation 1 in paper\n",
        "def pairwise_similarity_loss(original_embeddings, matryoshka_embeddings):\n",
        "    \"\"\"\n",
        "    Computes the pairwise similarity loss between original embeddings and matryoshka embeddings.\n",
        "    \n",
        "    Args:\n",
        "        original_embeddings: A tensor of shape (batch_size, embedding_dim) representing the original embeddings.\n",
        "        matryoshka_embeddings: A tensor of shape (batch_size, mat_embedding_dim) representing the matryoshka embeddings.\n",
        "        \n",
        "    Returns:\n",
        "        loss: A scalar tensor representing the mean pairwise similarity loss.\n",
        "    \"\"\"\n",
        "    \n",
        "    # Normalize the embeddings along the embedding dimension to get the cosine similarity\n",
        "    normalized_original_embeddings = F.normalize(original_embeddings, p=2, dim=1)\n",
        "    normalized_matryoshka_embeddings = F.normalize(matryoshka_embeddings, p=2, dim=1)\n",
        "    \n",
        "    # Compute the cosine similarity matrices\n",
        "    original_similarity_matrix = torch.matmul(normalized_original_embeddings, normalized_original_embeddings.T)\n",
        "    matryoshka_similarity_matrix = torch.matmul(normalized_matryoshka_embeddings, normalized_matryoshka_embeddings.T)\n",
        "    \n",
        "    # Get the indices of the upper triangle of the matrices, excluding the diagonal\n",
        "    batch_size = original_embeddings.size(0)\n",
        "    i, j = torch.triu_indices(batch_size, batch_size, offset=1)\n",
        "    \n",
        "    # Compute the pairwise cosine similarities\n",
        "    original_pairwise_similarities = original_similarity_matrix[i, j]\n",
        "    matryoshka_pairwise_similarities = matryoshka_similarity_matrix[i, j]\n",
        "    \n",
        "    # Compute the absolute difference between corresponding pairwise similarities\n",
        "    similarity_differences = torch.abs(original_pairwise_similarities - matryoshka_pairwise_similarities)\n",
        "    \n",
        "    # Sum up all the absolute differences to produce the final loss\n",
        "    loss = torch.sum(similarity_differences)\n",
        "    \n",
        "    return loss\n",
        "\n",
        "# Equation 2 in paper\n",
        "def topk_similarity_loss(original_embeddings, matryoshka_embeddings, k=5):\n",
        "    \"\"\"\n",
        "    Computes the top-k similarity loss between original embeddings and matryoshka embeddings.\n",
        "    \n",
        "    Args:\n",
        "        original_embeddings: A tensor of shape (batch_size, embedding_dim) representing the original embeddings.\n",
        "        matryoshka_embeddings: A tensor of shape (batch_size, mat_embedding_dim) representing the matryoshka embeddings.\n",
        "        k: The number of top similarities to consider (default is 5).\n",
        "        \n",
        "    Returns:\n",
        "        loss: A scalar tensor representing the top-k similarity loss.\n",
        "    \"\"\"\n",
        "    \n",
        "    # Normalize the embeddings along the embedding dimension to get the cosine similarity\n",
        "    normalized_original_embeddings = F.normalize(original_embeddings, p=2, dim=1)\n",
        "    normalized_matryoshka_embeddings = F.normalize(matryoshka_embeddings, p=2, dim=1)\n",
        "    \n",
        "    # Compute the cosine similarity matrices\n",
        "    original_similarity_matrix = torch.matmul(normalized_original_embeddings, normalized_original_embeddings.T)\n",
        "    matryoshka_similarity_matrix = torch.matmul(normalized_matryoshka_embeddings, normalized_matryoshka_embeddings.T)\n",
        "    \n",
        "    # Exclude self-similarity by setting the diagonal to a very low value\n",
        "    batch_size = original_embeddings.size(0)\n",
        "    original_similarity_matrix.fill_diagonal_(-float('inf'))\n",
        "    matryoshka_similarity_matrix.fill_diagonal_(-float('inf'))\n",
        "    \n",
        "    # For each embedding, get the top-k similarities and their corresponding indices\n",
        "    original_topk_values, _ = torch.topk(original_similarity_matrix, k, dim=1)\n",
        "    matryoshka_topk_values, _ = torch.topk(matryoshka_similarity_matrix, k, dim=1)\n",
        "    \n",
        "    # Compute the absolute difference between the top-k similarities\n",
        "    similarity_differences = torch.abs(original_topk_values - matryoshka_topk_values)\n",
        "    \n",
        "    # Sum up all the absolute differences to produce the final loss\n",
        "    loss = torch.sum(similarity_differences)\n",
        "    \n",
        "    return loss\n",
        "\n",
        "\n",
        "# Equation 3 in paper\n",
        "def regularization_loss(original_embeddings, matryoshka_embeddings, alpha=1.0):\n",
        "    \"\"\"\n",
        "    Computes the regularization loss to ensure the matryoshka embeddings do not deviate\n",
        "    significantly from the original embeddings.\n",
        "    \n",
        "    Args:\n",
        "        original_embeddings: A tensor of shape (batch_size, embedding_dim) representing the original embeddings.\n",
        "        matryoshka_embeddings: A tensor of shape (batch_size, embedding_dim) representing the matryoshka embeddings.\n",
        "        alpha: A regularization coefficient that controls the weight of the regularization term.\n",
        "        \n",
        "    Returns:\n",
        "        loss: A scalar tensor representing the regularization loss.\n",
        "    \"\"\"\n",
        "    # Compute the difference between original and matryoshka embeddings\n",
        "    diff = original_embeddings - matryoshka_embeddings\n",
        "    \n",
        "    # Compute the L2 norm of the difference\n",
        "    loss = torch.norm(diff, p=2, dim=1)\n",
        "    \n",
        "    # Return the mean loss over the batch, scaled by alpha\n",
        "    return alpha * loss.mean()\n",
        "\n",
        "\n",
        "# Equation 4 in paper\n",
        "def unsupervised_objective_fn_loss(original_embeddings, matryoshka_embeddings, \n",
        "                                   k=5, alpha=1.0, beta=1.0):\n",
        "    \"\"\"\n",
        "    Computes the overall unsupervised objective function loss as a combination of top-k similarity loss,\n",
        "    alpha-scaled pairwise similarity loss, and beta-scaled regularization loss.\n",
        "    \n",
        "    Args:\n",
        "        original_embeddings: A tensor of shape (batch_size, embedding_dim) representing the original embeddings.\n",
        "        matryoshka_embeddings: A tensor of shape (batch_size, mat_embedding_dim) representing the matryoshka embeddings.\n",
        "        k: The number of top similar embeddings to consider for the top-k similarity loss.\n",
        "        alpha: A scaling factor for the pairwise similarity loss.\n",
        "        beta: A scaling factor for the regularization loss.\n",
        "        \n",
        "    Returns:\n",
        "        total_loss: A scalar tensor representing the combined unsupervised objective function loss.\n",
        "    \"\"\"\n",
        "    # Compute the individual loss components\n",
        "    topk_loss = topk_similarity_loss(original_embeddings, matryoshka_embeddings, k)\n",
        "    pairwise_loss = pairwise_similarity_loss(original_embeddings, matryoshka_embeddings)\n",
        "    reg_loss = regularization_loss(original_embeddings, matryoshka_embeddings, beta)\n",
        "    \n",
        "    # Combine the losses with the given scaling factors\n",
        "    total_loss = topk_loss + alpha * pairwise_loss + beta * reg_loss\n",
        "    \n",
        "    return total_loss"
      ]
    },
    {
      "cell_type": "markdown",
      "metadata": {
        "id": "_q9GK1c80AGX"
      },
      "source": [
        "## Training of Adaptor"
      ]
    },
    {
      "cell_type": "markdown",
      "metadata": {
        "id": "Qsb8bFydrejN"
      },
      "source": [
        "### Unsupervised Implementation"
      ]
    },
    {
      "cell_type": "markdown",
      "metadata": {
        "id": "4wfOS9tZEgZ0"
      },
      "source": [
        "#### Prepare datasets\n",
        "\n",
        "We will use BEIR's NFCorpus and stick to the same train-test split pairs as in the paper"
      ]
    },
    {
      "cell_type": "code",
      "execution_count": 15,
      "metadata": {
        "id": "Tf7kTmMfsrUM"
      },
      "outputs": [
        {
          "name": "stdout",
          "output_type": "stream",
          "text": [
            "['Background: Despite safety reports of the artificial sweetener aspartame, health-related concerns remain. Objective: We prospectively evaluated whether the consumption of aspartame- and sugar-containing soda is associated with risk of hematopoetic cancers. Design: We repeatedly assessed diet in the Nurses’ Health Study (NHS) and Health Professionals Follow-Up Study (HPFS). Over 22 y, we identified 1324 non-Hodgkin lymphomas (NHLs), 285 multiple myelomas, and 339 leukemias. We calculated incidence RRs and 95% CIs by using Cox proportional hazards models. Results: When the 2 cohorts were combined, there was no significant association between soda intake and risks of NHL and multiple myeloma. However, in men, ≥1 daily serving of diet soda increased risks of NHL (RR: 1.31; 95% CI: 1.01, 1.72) and multiple myeloma (RR: 2.02; 95% CI: 1.20, 3.40) in comparison with men who did not consume diet soda. We observed no increased risks of NHL and multiple myeloma in women. We also observed an unexpected elevated risk of NHL (RR: 1.66; 95% CI: 1.10, 2.51) with a higher consumption of regular, sugar-sweetened soda in men but not in women. In contrast, when sexes were analyzed separately with limited power, neither regular nor diet soda increased risk of leukemia but were associated with increased leukemia risk when data for men and women were combined (RR for consumption of ≥1 serving of diet soda/d when the 2 cohorts were pooled: 1.42; 95% CI: 1.00, 2.02). Conclusion: Although our findings preserve the possibility of a detrimental effect of a constituent of diet soda, such as aspartame, on select cancers, the inconsistent sex effects and occurrence of an apparent cancer risk in individuals who consume regular soda do not permit the ruling out of chance as an explanation.', 'Vascular endothelial function is declines with aging and is associated with an increased risk of cardiovascular disease. Lifestyle modification, particularly aerobic exercise and dietary adjustment, has a favorable effect on vascular aging. Curcumin is a major component of turmeric with known anti-inflammatory and anti-oxidative effects. We investigated the effects of curcumin ingestion and aerobic exercise training on flow-mediated dilation as an indicator endothelial function in postmenopausal women. A total of 32 postmenopausal women were assigned to 3 groups: control, exercise, and curcumin groups. The curcumin group ingested curcumin orally for 8 weeks. The exercise group underwent moderate aerobic exercise training for 8 weeks. Before and after each intervention, flow-mediated dilation was measured. No difference in baseline flow-mediated dilation or other key dependent variables were detected among the groups. Flow-mediated dilation increased significantly and equally in the curcumin and exercise groups, whereas no changes were observed in the control group. Our results indicated that curcumin ingestion and aerobic exercise training can increase flow-mediated dilation in postmenopausal women, suggesting that both can potentially improve the age-related decline in endothelial function. Copyright © 2012 Elsevier Inc. All rights reserved.', 'This review focuses on the possible role in human health of the consumption of lignan-rich foods. Most of the plant lignans in human foods are converted by the intestinal microflora in the upper part of the large bowel to enterolactone and enterodiol, called mammalian or enterolignans. The protective role of these compounds, particularly in chronic Western diseases, is discussed. Evidence suggests that fiber- and lignan-rich whole-grain cereals, beans, berries, nuts, and various seeds are the main protective foods. Many factors, in addition to diet, such as intestinal microflora, smoking, antibiotics, and obesity affect circulating lignan levels in the body. Lignan-rich diets may be beneficial, particularly if consumed for life. Experimental evidence in animals has shown clear anticarcinogenic effects of flaxseed or pure lignans in many types of cancer. Many epidemiological results are controversial, partly because the determinants of plasma enterolactone are very different in different countries. The source of the lignans seems to play a role because other factors in the food obviously participate in the protective effects. The results are promising, but much work is still needed in this area of medicine.', 'To clarify the role of the faecal flora in the diet-induced decrease of rheumatoid arthritis (RA) activity, 43 RA patients were randomized into two groups: the test group to receive living food, a form of uncooked vegan diet rich in lactobacilli, and the control group to continue their ordinary omnivorous diets. Based on clinical assessments before, during and after the intervention period, a disease improvement index was constructed for each patient. According to the index, patients were assigned either to a group with a high improvement index (HI) or to a group with a low improvement index (LO). Stool samples collected from each patient before the intervention and at 1 month were analysed by direct stool sample gas-liquid chromatography of bacterial cellular fatty acids. This method has proved to be a simple and sensitive way to detect changes and differences in the faecal microbial flora between individual stool samples or groups of them. A significant, diet-induced change in the faecal flora (P = 0.001) was observed in the test group, but not in the control group. Further, in the test group, a significant (P = 0.001) difference was detected between the HI and LO categories at 1 month, but not in the pre-test samples. We conclude that a vegan diet changes the faecal microbial flora in RA patients, and changes in the faecal flora are associated with improvement in RA activity.', 'Twenty-five patients living in a tick-endemic region of Sydney, New South Wales developed red meat allergy after experiencing large local reactions to tick bites. This represents a potentially novel cross-reaction between an arthropod and a food protein. (MJA 2009; 190: 510-511).', 'Vegetarians have an apparent diminished risk for the development of ischemic coronary heart disease. This may be secondary to dietary effects of plasma lipids and lipoproteins, but platelets, which may also play a role, have also been observed to have aberrant functions in vegetarians. We measured plasma lipid and lipoprotein levels, platelet function, platelet fatty acid levels, and platelet active prostaglandins in ten strict vegetarians (vegans), 15 lactovegetarians, and 25 age- and sex-matched omnivorous controls. The most striking observations were a highly significant rise in platelet linoleic acid concentration and a decline in platelet arachidonic acid concentration in both vegetarian subgroups as compared with omnivorous controls. Serum thromboxane and prostacyclin levels as well as results of platelet aggregation studies did not differ among the groups tested. Cholesterol levels were significantly lower in both vegetarian groups as compared with controls, but plasma high- and low-density lipoprotein levels were lower only in the vegan subgroup as compared with omnivores. If diet produces these changes in platelet fatty acid and plasma lipid levels it may contribute to the decreased risk of coronary heart disease and possibly atherosclerosis in vegetarians.', 'BACKGROUND: Gallstone disease known as cholelithiasis is the most common digestive surgical disorder and account for an important part of health care expenditure. Attempt was made to analyse the gallstone for typing depending upon the composition. AIMS & OBJECTIVES: The main objective of this study was to see the prevalence of different types of gallstone in Nepal and to correlate them with the clinical findings. MATERIALS & METHODS: Gallstones of 80 different patients who underwent cholecystectomy for cholelithiasis were collected from 20th January 2005 to 16th May 2006 in Department of Pathology, Kathmandu Medical College Teaching Hospital. Detailed history was taken. Stones were analyzed with chemical and enzymatic methods using clinical spectrophotometer. RESULTS & CONCLUSION: The most commonly involved age group for cholelithiasis (32.5%) is found to be 30-39 years with a female predominance (M: F=1:3.2). Cholelithiasis was found more commonly among non-vegetarian with the vegetarian: non-vegetarian ratio 1:9. Mixed type stone was found to be the most common type of stone comprising 78.75%, followed by cholesterol stone 12.5%, Brown pigment stone 7.5% and Black pigment stone 1.25%.', 'Background Several components of dairy products have been linked to earlier menarche. Methods/Findings This study assessed whether positive associations exist between childhood milk consumption and age at menarche or the likelihood of early menarche (<12 yrs) in a U.S sample. Data derive from the National Health and Nutrition Examination Survey (NHANES) 1999–2004. Two samples were utilized: 2657 women age 20–49 yrs and 1008 girls age 9–12 yrs. In regression analysis, a weak negative relationship was found between frequency of milk consumption at 5–12 yrs and age at menarche (daily milk intake β\\u200a=\\u200a−0.32, P<0.10; “sometimes/variable milk intake” β\\u200a=\\u200a−0.38, P<0.06, each compared to intake rarely/never). Cox regression yielded no greater risk of early menarche among those who drank milk “sometimes/varied” or daily vs. never/rarely (HR: 1.20, P<0.42, HR: 1.25, P<0.23, respectively). Among the 9–12 yr olds, Cox regression indicated that neither total dairy kcal, calcium and protein, nor daily milk intake in the past 30 days contributed to early menarche. Girls in the middle tertile of milk intake had a marginally lower risk of early menarche than those in the highest tertile (HR: 0.6, P<0.06). Those in the lowest tertiles of dairy fat intake had a greater risk of early menarche than those in the highest (HR: 1.5, P<0.05, HR: 1.6, P<0.07, lowest and middle tertile, respectively), while those with the lowest calcium intake had a lower risk of early menarche (HR: 0.6, P<0.05) than those in the highest tertile. These relationships remained after adjusting for overweight or overweight and height percentile; both increased the risk of earlier menarche. Blacks were more likely than Whites to reach menarche early (HR: 1.7, P<0.03), but not after controlling for overweight. Conclusions There is some evidence that greater milk intake is associated with an increased risk of early menarche, or a lower age at menarche.', 'Glyphosate is an active ingredient of the most widely used herbicide and it is believed to be less toxic than other pesticides. However, several recent studies showed its potential adverse health effects to humans as it may be an endocrine disruptor. This study focuses on the effects of pure glyphosate on estrogen receptors (ERs) mediated transcriptional activity and their expressions. Glyphosate exerted proliferative effects only in human hormone-dependent breast cancer, T47D cells, but not in hormone-independent breast cancer, MDA-MB231 cells, at 10⁻¹² to 10⁻⁶M in estrogen withdrawal condition. The proliferative concentrations of glyphosate that induced the activation of estrogen response element (ERE) transcription activity were 5-13 fold of control in T47D-KBluc cells and this activation was inhibited by an estrogen antagonist, ICI 182780, indicating that the estrogenic activity of glyphosate was mediated via ERs. Furthermore, glyphosate also altered both ERα and β expression. These results indicated that low and environmentally relevant concentrations of glyphosate possessed estrogenic activity. Glyphosate-based herbicides are widely used for soybean cultivation, and our results also found that there was an additive estrogenic effect between glyphosate and genistein, a phytoestrogen in soybeans. However, these additive effects of glyphosate contamination in soybeans need further animal study. Copyright © 2013 Elsevier Ltd. All rights reserved.', 'BACKGROUND: Certain foods may increase or decrease the risk of developing asthma, rhinoconjunctivitis and eczema. We explored the impact of the intake of types of food on these diseases in Phase Three of the International Study of Asthma and Allergies in Childhood. METHODS: Written questionnaires on the symptom prevalence of asthma, rhinoconjunctivitis and eczema and types and frequency of food intake over the past 12 months were completed by 13-14-year-old adolescents and by the parents/guardians of 6-7-year-old children. Prevalence ORs were estimated using logistic regression, adjusting for confounders, and using a random (mixed) effects model. RESULTS: For adolescents and children, a potential protective effect on severe asthma was associated with consumption of fruit ≥3 times per week (OR 0.89, 95% CI 0.82 to 0.97; OR 0.86, 95% CI 0.76 to 0.97, respectively). An increased risk of severe asthma in adolescents and children was associated with the consumption of fast food ≥3 times per week (OR 1.39, 95% CI 1.30 to 1.49; OR 1.27, 95% CI 1.13 to 1.42, respectively), as well as an increased risk of severe rhinoconjunctivitis and severe eczema. Similar patterns for both ages were observed for regional analyses, and were consistent with gender and affluence categories and with current symptoms of all three conditions. CONCLUSIONS: If the association between fast foods and the symptom prevalence of asthma, rhinoconjunctivitis and eczema is causal, then the findings have major public health significance owing to the rising consumption of fast foods globally.', 'Male reproductive disorders that are of interest from an environmental point of view include sexual dysfunction, infertility, cryptorchidism, hypospadias and testicular cancer. Several reports suggest declining sperm counts and increase of these reproductive disorders in some areas during some time periods past 50 years. Except for testicular cancer this evidence is circumstantial and needs cautious interpretation. However, the male germ line is one of the most sensitive tissues to the damaging effects of ionizing radiation, radiant heat and a number of known toxicants. So far occupational hazards are the best documented risk factors for impaired male reproductive function and include physical exposures (radiant heat, ionizing radiation, high frequency electromagnetic radiation), chemical exposures (some solvents as carbon disulfide and ethylene glycol ethers, some pesticides as dibromochloropropane, ethylendibromide and DDT/DDE, some heavy metals as inorganic lead and mercury) and work processes such as metal welding. Improved working conditions in affluent countries have dramatically decreased known hazardous workplace exposures, but millions of workers in less affluent countries are at risk from reproductive toxicants. New data show that environmental low-level exposure to biopersistent pollutants in the diet may pose a risk to people in all parts of the world. For other toxicants the evidence is only suggestive and further evaluation is needed before conclusions can be drawn. Whether compounds as phthalates, bisphenol A and boron that are present in a large number of industrial and consumer products entails a risk remains to be established. The same applies to psychosocial stressors and use of mobile phones. Finally, there are data indicating a particular vulnerability of the fetal testis to toxicants—for instance maternal tobacco smoking. Time has come where male reproductive toxicity should be addressed form entirely new angles including exposures very early in life.', 'BACKGROUND: Enhanced oxidative stress or defective anti-oxidant defenses are related to the pathogenesis of depressive symptoms. Lycopene is the most powerful antioxidant amongst the carotenoids. The aim of this study was to investigate the relationship between different vegetables, including tomatoes/tomato products (a major source of lycopene), and depressive symptoms in a community-based elderly population. METHODS: We analyzed a cross-sectional survey including 986 community-dwelling elderly Japanese individuals aged 70 years and older. Dietary intake was assessed using a valid self-administered diet-history questionnaire, and depressive symptoms were evaluated using the 30-item Geriatric Depression Scale with 2 cut-off points: 11 (mild and severe) and 14 (severe) or use of anti-depressive agents. RESULTS: The prevalence of mild and severe and severe depressive symptoms was 34.9% and 20.2%, respectively. After adjustments for potentially confounding factors, the odds ratios of having mild and severe depressive symptoms by increasing levels of tomatoes/tomato products were 1.00, 0.54, and 0.48 (p for trend <0.01). Similar relationships were also observed in the case of severe depressive symptoms. In contrast, no relationship was observed between intake of other kinds of vegetables and depressive symptoms. LIMITATIONS: This is a cross-sectional study, and not for making a clinical diagnosis of depressive episodes. CONCLUSIONS: This study demonstrated that a tomato-rich diet is independently related to lower prevalence of depressive symptoms. These results suggest that a tomato-rich diet may have a beneficial effect on the prevention of depressive symptoms. Further studies are needed to confirm these findings. Copyright © 2012 Elsevier B.V. All rights reserved.', 'Swine confinement buildings in eastern Canada are enclosed and equipped with modern production systems to manage waste. Bioaerosols of these swine confinement buildings could be contaminated by human pathogens and antimicrobial resistant bacteria which could colonize exposed workers. We therefore wanted to analyze bioaerosols of swine confinement buildings and nasal flora of Canadian hog producers to evaluate possible colonization with human pathogens and tetracycline-resistant bacteria. Culturable and non-culturable human pathogens and tet genes were investigated in the bioaerosols of 18 barns. The nasal passages of 35 hog producers were sampled and total DNA was extracted from the calcium-alginate swabs to detect, by PCR, Campylobacter, C. perfringens, Enterococcus, E. coli, Y. enterocolitica, tetA/tetC, tetG and ribosomal protection protein genes. Airborne culturable C. perfringens, Enterococcus, E. coli, and Y. enterocolitica were present in the bioaerosols of 16, 17, 11 and 6 of the 18 facilities. Aerosolized total (culturable/non culturable) Campylobacter, C. perfringens, Enterococcus, E. coli and Y. enterocolitica were detected in 10, 6, 15, 18 and 2 barns, respectively. Tet genes were found in isolates of culturable human pathogens. TetA/tetC, tetG and ribosomal protection protein genes were detected in the bioaerosols of all 18 studied buildings. Campylobacter, C. perfringens, Enterococcus, E. coli, and Y. enterocolitica were found respectively in 4, 9, 17, 14 and one nasal flora of workers. One and 10 workers were positive for tetA/tetC and tetG genes, respectively. In swine confinement buildings, hog producers are exposed to aerosolized human pathogens and tetracycline-resistant bacteria that can contaminate the nasal flora. Copyright © 2010 Elsevier GmbH. All rights reserved.', 'Breakfasts of lentils or wholemeal bread of identical carbohydrate content were taken by seven healthy volunteers. The lentils produced a significant 71% (p less than 0.001) reduction in the blood glucose area and flattened the plasma insulin and gastric inhibitory polypeptide responses by comparison with the bread. In addition, the lentil breakfast was followed by a significantly flatter blood glucose response to the standard bread lunch which followed 4 h later (by 38%, p less than 0.01). The blood glucose pattern was mimicked by feeding the bread breakfast slowly over the 4 h before lunch. Giving a bread breakfast containing a quarter of the carbohydrate reduced the breakfast glucose profile but resulted in a significantly impaired blood glucose response to lunch (168% of control, p less than 0.01). These results, together with breath hydrogen studies, performed on a separate group of four volunteers, indicate that the flattened response to lentils is not due to carbohydrate malabsorption. Slow release or \"lente\" carbohydrate foods such as lentils may form a useful part of the diets of those with impaired carbohydrate tolerance.', 'The antioxidant properties of dietary phenolics are believed to be reduced in vivo because of their affinity for proteins. In this study we assessed the bioavailability of phenolics and the in vivo plasma antioxidant capacity after the consumption of blueberries (Vaccinium corymbosum L.) with and without milk. In a crossover design, 11 healthy human volunteers consumed either (a) 200 g of blueberries plus 200 ml of water or (b) 200 g of blueberries plus 200 ml of whole milk. Venous samples were collected at baseline and at 1, 2, and 5 h postconsumption. Ingestion of blueberries increased plasma levels of reducing and chain-breaking potential (+6.1%, p<0.001; +11.1%, p<0.05) and enhanced plasma concentrations of caffeic and ferulic acid. When blueberries and milk were ingested there was no increase in plasma antioxidant capacity. There was a reduction in the peak plasma concentrations of caffeic and ferulic acid (-49.7%, p<0.001, and -19.8%, p<0.05, respectively) as well as the overall absorption (AUC) of caffeic acid (p<0.001). The ingestion of blueberries in association with milk, thus, impairs the in vivo antioxidant properties of blueberries and reduces the absorption of caffeic acid.', \"BACKGROUND: Reduction or modification of dietary fat can improve total cholesterol levels, but may also have a variety of effects, both positive and negative, on other cardiovascular risk factors. OBJECTIVES: The aim of this systematic review was to assess the effect of reduction or modification of dietary fats on total and cardiovascular mortality and cardiovascular morbidity over at least 6 months, using all available randomized clinical trials. SEARCH STRATEGY: The Cochrane Library, MEDLINE, EMBASE, CAB s, CVRCT registry and related Cochrane Groups' trial registers were searched through spring 1998, SIGLE to January 1999. Trials known to experts in the field and biographies were included through May 1999. SELECTION CRITERIA: Trials fulfilled the following criteria: 1) randomized with appropriate control group, 2) intention to reduce or modify fat or cholesterol intake (excluding exclusively omega-3 fat interventions), 3) not multi factorial, 4) healthy adult humans, 5) intervention at least six months, 6) mortality or cardiovascular morbidity data available. Inclusion decisions were duplicated, disagreement resolved by discussion or a third party. DATA COLLECTION AND ANALYSIS: Rate data were extracted by two independent reviewers and meta-analysis performed using random effects methodology. Meta-regression and funnel plots were used. MAIN RESULTS: Twenty seven studies were included (40 intervention arms, 30,901 person-years). There was no significant effect on total mortality (rate ratio 0.98, 95% CI 0.86 to 1.12), a trend towards protection form cardiovascular mortality (rate ratio 0.91, 95% CI 0.77 to 1.07), and significant protection from cardiovascular events (rate ratio 0.84, 95% CI 0.72 to 0.99). The latter became non-significant on sensitivity analysis. Trials where participants were involved for more than 2 years showed significant reductions in the rate of cardiovascular events and a suggestion of protection from total mortality. The degree of protection from cardiovascular events appeared similar in high and low risk groups, but was statistically significant only in the former. REVIEWER'S CONCLUSIONS: The findings are suggestive of a small but potentially important reduction in cardiovascular risk in trials longer than two years. Lifestyle advice to all those at high risk of cardiovascular disease (especially where statins are unavailable or rationed), and to lower risk population groups, should continue to include permanent reduction of dietary saturated fat and partial replacement by unsaturates.\", 'An evidence-based systematic review of acai (Euterpe oleracea) by the Natural Standard Research Collaboration consolidates the safety and efficacy data available in the scientific literature using a validated, reproducible grading rationale. This article includes written and statistical analysis of clinical trials, plus a compilation of expert opinion, folkloric precedent, history, pharmacology, kinetics/dynamics, interactions, adverse effects, toxicology, and dosing.', 'Background Around the world, beans and rice are commonly consumed together as a meal. With type 2 diabetes increasing, the effect of this traditional diet pattern on glycemic response has not been studied fully. Methods We evaluated the glycemic response of bean and rice traditional meals compared to rice alone in adults with type 2 diabetes. Seventeen men and women with type 2 diabetes controlled by metformin (n\\u2009=\\u200914) or diet/exercise (n\\u2009=\\u20093) aged 35–70\\u2009years participated in the randomized 4\\u2009×\\u20094 crossover trial. The white long grain rice control, pinto beans/rice, black beans/rice, red kidney beans/rice test meals, matched for 50 grams of available carbohydrate, were consumed at breakfast after a 12 hour fast. Capillary blood glucose concentrations at baseline and at 30 minute intervals up to 180 minutes postprandial were collected. MANOVA for repeated measures established glucose differences between treatments. Paired t tests identified differences between bean types and the rice control following a significant MANOVA. Results Postprandial net glucose values were significantly lower for the three bean/rice treatments in contrast to the rice control at 90, 120 and 150 minutes. Incremental area under the curve values were significantly lower for the pinto and black bean/rice meals compared to rice alone, but not for kidney beans. Conclusions Pinto, dark red kidney and black beans with rice attenuate the glycemic response compared to rice alone. Promotion of traditional foods may provide non-pharmaceutical management of type 2 diabetes and improve dietary adherence with cultural groups. Trial registration Clinical Trials number NCT01241253', 'Although the hormone melatonin is a key factor for the proper functioning of the circadian timing system (CTS) and exogenous melatonin has been shown to be beneficial in cases of CTS disturbances, a deficit of melatonin has yet to be defined as a disorder. The aim of our study was to collect a normative data set on 24-h melatonin excretion in healthy human adults living in a natural environment. Urine samples were collected from 75 healthy subjects (45 women/30 men; mean age 47.2, SD 19.5, range 20-84) after five consecutive periods: 2300-0700, 0700-1100, 1100-1800, 1800-2300 and 2300-0700 h. 6-Sulfatoxymelatonin (aMT6s) concentrations were analyzed in duplicate by IBL (Hamburg) using a highly sensitive, competitive ELISA kit. Twenty-four hour-aMT6s total amount (rho=-0.68, p<0.001), aMT6s nighttime excretion (rho=-0.69, p<0.001), aMT6s morning excretion (rho=-0.66, p<0.001) and evening excretion (r=-0.26, p=0.023) were negatively associated with age, whereas daytime excretion (r=-0.17, p=0.15) was not. The intra-subject night-day ratio varied up to 10.5 (mean 6.0) in young subjects (aged 20-35) and up to 5.4 (mean 2.8) in older individuals (age>65). The total amount of 24 h-aMT6s (range 7.5-58 microg) as well as the amount of aMT6s excreted during the nighttime period (range 327-6.074 ng/h) varied as much as 20-fold between individuals. Our data show an age-related decline in melatonin excretion in healthy subjects living in a natural environment. The high inter-individual variability of excretion rates may explain why a normative data set is of no use in replacement strategies.', 'Preliminary studies have shown that repeated nasal applications of capsaicin prevented the occurrence of cluster headache attacks. The present study was designed to verify the difference in efficacy of treatment with nasal capsaicin, depending on the side of application. Fifty-two patients affected by episodic form were divided into 2 groups, one receiving the treatment on the same side where the attacks occurred (ipsilateral side), the other on the controlateral side. Eighteen patients with a chronic form alternately received both ipsilateral and controlateral treatments. Seventy percent of the episodic patients, treated on the ipsilateral side, showed a marked amelioration whereas no improvement was noted in the patients treated on the contralateral side. The efficacy of ipsilateral treatment was emphasized by the results obtained in chronic patients. However, in these patients, the maximum period of amelioration lasted no more than 40 days. The difference between the effects of the 2 treatments (contralateral and ipsilateral) was statistically significant in both episodic and chronic sufferers. The efficacy of repeated nasal applications of capsaicin in cluster headache is congruent with previous reports on the therapeutic effect of capsaicin in other pain syndromes (post-herpetic neuralgia, diabetic neuropathy, trigeminal neuralgia) and supports the use of the drug to produce a selective analgesia.', 'Chamomile (Matricaria chamomilla), a popular herb valued for centuries as a traditional medicine, has been used to treat various human ailments; however, its anticancer activity is unknown. We evaluated the anticancer properties of aqueous and methanolic extracts of chamomile against various human cancer cell lines. Exposure of chamomile extracts caused minimal growth inhibitory responses in normal cells, whereas a significant decrease in cell viability was observed in various human cancer cell lines. Chamomile exposure resulted in differential apoptosis in cancer cells but not in normal cells at similar doses. HPLC analysis of chamomile extract confirmed apigenin 7-O-glucoside as the major constituent of chamomile; some minor glycoside components were also observed. Apigenin glucosides inhibited cancer cell growth but to a lesser extent than the parent aglycone, apigenin. Ex vivo experiments suggest that deconjugation of glycosides occurs in vivo to produce aglycone, especially in the small intestine. This study represents the first reported demonstration of the anticancer effects of chamomile. Further investigations of the mechanism of action of chamomile are warranted in evaluating the potential usefulness of this herbal remedy in the management of cancer patients.', 'Objectives To gauge the frequency and circumstances of use of placebo in clinical practice and the attitudes towards its use among those who administer it. Design Retrospective questionnaire. Setting Two large hospitals and various community clinics in the Jerusalem area. Participants 31 physicians working in hospital inpatient and outpatient departments, 31 head nurses working in hospital inpatient departments, and 27 family physicians working in community clinics. Main outcome measures Self report of frequency and circumstances of, and attitudes towards, use of placebo. Results Among the 89 respondents, 53 (60%) used placebos (95% confidence interval 49% to 70%). Among users, 33 (62%) prescribed a placebo as often as once a month or more; 36 (68%) told patients they were receiving actual medication; 15 (28%) considered that placebos were a diagnostic tool; and 48/51 (94%) reported that they found placebos generally or occasionally effective. Conclusion Most practitioners questioned in this study continue to use placebos. Used wisely, placebos might have a legitimate place in therapeutics. Wider recognition of the practice and debate about its implications are imperative.', 'Objective To examine the associations of a vegetarian diet and dietary fibre intake with risk of diverticular disease. Design Prospective cohort study. Setting The EPIC-Oxford study, a cohort of mainly health conscious participants recruited from around the United Kingdom. Participants 47\\u2009033 men and women living in England or Scotland of whom 15\\u2009459 (33%) reported consuming a vegetarian diet. Main outcome measures Diet group was assessed at baseline; intake of dietary fibre was estimated from a 130 item validated food frequency questionnaire. Cases of diverticular disease were identified through linkage with hospital records and death certificates. Hazard ratios and 95% confidence intervals for the risk of diverticular disease by diet group and fifths of intake of dietary fibre were estimated with multivariate Cox proportional hazards regression models. Results After a mean follow-up time of 11.6 years, there were 812 cases of diverticular disease (806 admissions to hospital and six deaths). After adjustment for confounding variables, vegetarians had a 31% lower risk (relative risk 0.69, 95% confidence interval 0.55 to 0.86) of diverticular disease compared with meat eaters. The cumulative probability of admission to hospital or death from diverticular disease between the ages of 50 and 70 for meat eaters was 4.4% compared with 3.0% for vegetarians. There was also an inverse association with dietary fibre intake; participants in the highest fifth (≥25.5 g/day for women and ≥26.1 g/day for men) had a 41% lower risk (0.59, 0.46 to 0.78; P<0.001 trend) compared with those in the lowest fifth (<14 g/day for both women and men). After mutual adjustment, both a vegetarian diet and a higher intake of fibre were significantly associated with a lower risk of diverticular disease. Conclusions Consuming a vegetarian diet and a high intake of dietary fibre were both associated with a lower risk of admission to hospital or death from diverticular disease.', 'In Japan, the number of patients with both chronic pancreatitis (CP) and pancreatic cancer (PC) is increasing. A nationwide survey on CP revealed that the total number of patients treated for CP in Japan in 2002 was estimated as 45,200 (95% confidence interval, 35,600-54,700), and 20,137 patients died of PC in 2002. Alcoholic pancreatitis was the most common type of pancreatitis (67.5 %). Cigarette smoking was an independent and significant risk factor for CP. The risks of pancreatic and nonpancreatic cancers increased in the course of CP. While alcohol consumption may increase the risk of PC via CP, smoking was important as a risk factor for both CP and PC. The increasing incidence of PC was closely related to the increasing intake of animal fat. Lifestyle in patients with CP appeared to be the same as that in patients with PC. Environmental factors such as lifestyle in combination with genetic factors may increase the risk for both CP and PC. Therefore, changing and improving lifestyle habits such as drinking, smoking and nutrition may reduce the risks for both CP and PC.', 'The U.S. Food and Drug Administration (FDA) terminated the use of ball clay from a mine in Mississippi as an additive in animal feed after discovering nanogram per gram concentrations of 2,3,7,8-tetrachlorodibenzo-p-dioxin (2,3,7,8-TCDD). The FDA collected chicken eggs and farm-raised catfish in affected areas and throughout the remaining continental United States to assess levels of 2,3,7,8-TCDD. A new method using quadrupole ion storage tandem-in-time mass spectrometry (QISTMS) measured the 2,3,7,8-TCDD levels in 42 catfish fillet composites, 3 Tilapia fillet composites, 46 chicken egg samples, and 6 chicken feeds. Six catfish composites and 20 egg samples had 2,3,7,8-TCDD concentrations significantly above 1.0 pg/g wet weight of fillet or whole egg. Farm-raised catfish not exposed to feed containing ball clay had a mean 2,3,7,8-TCDD concentration of 0.12 pg/g. The TCDD isomer pattern in ball clay differed from the TCDD isomer pattern in a fly ash sample and from the \"chick edema factor\" TCDD pattern in a sample of reference toxic fat used as a feed ingredient in the 1950s.', \"In this study, we examined the association between meat and fish intake and the risk of various cancers. Mailed questionnaires were completed by 19,732 incident, histologically confirmed cases of cancer of the stomach, colon, rectum, pancreas, lung, breast, ovary, prostate, testis, kidney, bladder, brain, non-Hodgkin's lymphomas (NHL), and leukemia and 5,039 population controls between 1994 and 1997 in 8 Canadian provinces. Measurement included information on socioeconomic status, lifestyle habits, and diet. A 69-item food frequency questionnaire provided data on eating habits 2 yr before data collection. Odds ratios and 95% confidence intervals were derived through unconditional logistic regression. Total meat and processed meat were directly related to the risk of stomach, colon, rectum, pancreas, lung, breast (mainly postmenopausal), prostate, testis, kidney, bladder, and leukemia. Red meat was significantly associated with colon, lung (mainly in men), and bladder cancer. No relation was observed for cancer of the ovary, brain, and NHL. No consistent excess risk emerged for fish and poultry, which were inversely related to the risk of a number of cancer sites. These findings add further evidence that meat, specifically red and processed meat, plays an unfavorable role in the risk of several cancers. Fish and poultry appear to be favorable diet indicators.\", 'Background Some persistent environmental chemicals are suspected of causing an increased risk of type 2 diabetes mellitus, a disease particularly common after age 70. This concern was examined in a cross-sectional study of elderly subjects in a population with elevated contaminant exposures from seafood species high in the food chain. Methods Clinical examinations of 713 Faroese residents aged 70-74 years (64% of eligible population) included fasting plasma concentrations of glucose and insulin, and glycosylated hemoglobin. Lifetime exposure to persistent environmental chemicals from pilot whale and other traditional food was estimated from a dietary questionnaire and by analysis of blood samples for polychlorinated biphenyls (PCBs) and related food contaminants. Results Septuagenarians with type 2 diabetes or impaired fasting glycemia tended to have higher PCB concentrations and higher past intake of traditional foods, especially during childhood and adolescence. In non-diabetic subjects, the fasting insulin concentration decreased by 7% (95% CI= −12% to −2%) for each doubling of the PCB concentration after adjustment for sex and body mass index at age 20. Conversely, the fasting glucose concentration increased by 6% (−1% to 13%) for each doubling in PCB. Similar associations were seen in subjects without impaired fasting glycemia, while further adjustment for current body mass index and lipid metabolism parameters attenuated some of the associations. Conclusions Impaired insulin secretion appears to constitute an important part of the type 2 diabetes pathogenesis associated with exposure to persistent lipophilic food contaminants.', \"Background Knowledge of the number of deaths caused by risk factors is needed for health policy and priority setting. Our aim was to estimate the mortality effects of the following 12 modifiable dietary, lifestyle, and metabolic risk factors in the United States (US) using consistent and comparable methods: high blood glucose, low-density lipoprotein (LDL) cholesterol, and blood pressure; overweight–obesity; high dietary trans fatty acids and salt; low dietary polyunsaturated fatty acids, omega-3 fatty acids (seafood), and fruits and vegetables; physical inactivity; alcohol use; and tobacco smoking. Methods and Findings We used data on risk factor exposures in the US population from nationally representative health surveys and disease-specific mortality statistics from the National Center for Health Statistics. We obtained the etiological effects of risk factors on disease-specific mortality, by age, from systematic reviews and meta-analyses of epidemiological studies that had adjusted (i) for major potential confounders, and (ii) where possible for regression dilution bias. We estimated the number of disease-specific deaths attributable to all non-optimal levels of each risk factor exposure, by age and sex. In 2005, tobacco smoking and high blood pressure were responsible for an estimated 467,000 (95% confidence interval [CI] 436,000–500,000) and 395,000 (372,000–414,000) deaths, accounting for about one in five or six deaths in US adults. Overweight–obesity (216,000; 188,000–237,000) and physical inactivity (191,000; 164,000–222,000) were each responsible for nearly 1 in 10 deaths. High dietary salt (102,000; 97,000–107,000), low dietary omega-3 fatty acids (84,000; 72,000–96,000), and high dietary trans fatty acids (82,000; 63,000–97,000) were the dietary risks with the largest mortality effects. Although 26,000 (23,000–40,000) deaths from ischemic heart disease, ischemic stroke, and diabetes were averted by current alcohol use, they were outweighed by 90,000 (88,000–94,000) deaths from other cardiovascular diseases, cancers, liver cirrhosis, pancreatitis, alcohol use disorders, road traffic and other injuries, and violence. Conclusions Smoking and high blood pressure, which both have effective interventions, are responsible for the largest number of deaths in the US. Other dietary, lifestyle, and metabolic risk factors for chronic diseases also cause a substantial number of deaths in the US. Please see later in the article for Editors' Summary Editors' Summary A number of modifiable factors are responsible for many premature or preventable deaths. For example, being overweight or obese shortens life expectancy, while half of all long-term tobacco smokers in Western populations will die prematurely from a disease directly related to smoking. Modifiable risk factors fall into three main groups. First, there are lifestyle risk factors. These include tobacco smoking, physical inactivity, and excessive alcohol use (small amounts of alcohol may actually prevent diabetes and some types of heart disease and stroke). Second, there are dietary risk factors such as a high salt intake and a low intake of fruits and vegetables. Finally, there are “metabolic risk factors,” which shorten life expectancy by increasing a person's chances of developing cardiovascular disease (in particular, heart problems and strokes) and diabetes. Metabolic risk factors include having high blood pressure or blood cholesterol and being overweight or obese. Why Was This Study Done? It should be possible to reduce preventable deaths by changing modifiable risk factors through introducing public health policies, programs and regulations that reduce exposures to these risk factors. However, it is important to know how many deaths are caused by each risk factor before developing policies and programs that aim to improve a nation's health. Although previous studies have provided some information on the numbers of premature deaths caused by modifiable risk factors, there are two problems with these studies. First, they have not used consistent and comparable methods to estimate the number of deaths attributable to different risk factors. Second, they have rarely considered the effects of dietary and metabolic risk factors. In this new study, the researchers estimate the number of deaths due to 12 different modifiable dietary, lifestyle, and metabolic risk factors for the United States population. They use a method called “comparative risk assessment.” This approach estimates the number of deaths that would be prevented if current distributions of risk factor exposures were changed to hypothetical optimal distributions. What Did the Researchers Do and Find? The researchers extracted data on exposures to these 12 selected risk factors from US national health surveys, and they obtained information on deaths from difference diseases for 2005 from the US National Center for Health Statistics. They used previously published studies to estimate how much each risk factor increases the risk of death from each disease. The researchers then used a mathematical formula to estimate the numbers of deaths caused by each risk factor. Of the 2.5 million US deaths in 2005, they estimate that nearly half a million were associated with tobacco smoking and about 400,000 were associated with high blood pressure. These two risk factors therefore each accounted for about 1 in 5 deaths in US adults. Overweight–obesity and physical inactivity were each responsible for nearly 1 in 10 deaths. Among the dietary factors examined, high dietary salt intake had the largest effect, being responsible for 4% of deaths in adults. Finally, while alcohol use prevented 26,000 deaths from ischemic heart disease, ischemic stroke, and diabetes, the researchers estimate that it caused 90,000 deaths from other types of cardiovascular diseases, other medical conditions, and road traffic accidents and violence. What Do These Findings Mean? These findings indicate that smoking and high blood pressure are responsible for the largest number of preventable deaths in the US, but that several other modifiable risk factors also cause many deaths. Although the accuracy of some of the estimates obtained in this study will be affected by the quality of the data used, these findings suggest that targeting a handful of risk factors could greatly reduce premature mortality in the US. The findings might also apply to other countries, although the risk factors responsible for most preventable deaths may vary between countries. Importantly, effective individual-level and population-wide interventions are already available to reduce people's exposure to the two risk factors responsible for most preventable deaths in the US. The researchers also suggest that combinations of regulation, pricing, and education have the potential to reduce the exposure of US residents to other risk factors that are likely to shorten their lives. Additional Information Please access these Web sites via the online version of this summary at http://dx.doi.org/10.1371/journal.pmed.1000058.\", 'Because of volatilization and leaching from their application in consumer and personal care products, phthalate esters are ubiquitous contaminants in the indoor environment. In this study, we measured concentrations and profiles of 9 phthalate esters in indoor dust samples collected from six cities in China (n = 75). For comparison, we also analyzed samples collected from Albany, New York, USA (n = 33). The results indicated that concentrations, except for dicyclohexyl phthalate (DCHP) and bis(2-ethylhexyl) phthalate (DEHP), and profiles of phthalate esters varied significantly between the two countries. Concentrations of diethyl phthalate (DEP), di-n-hexyl phthalate (DNHP), and benzyl butyl phthalate (BzBP) were 5 to 10 times higher in dust samples collected from Albany than those from the Chinese cities. In contrast, concentrations of di-iso-butyl phthalate (DIBP) in dust samples from Albany were 5 times lower than those from the Chinese cities. We estimated the daily intake (DI) of phthalate esters through the routes of dust ingestion and dermal dust absorption. The extent of contribution of indoor dust to human exposures varied, depending on the type of phthalate esters. The contribution of dust to DEHP exposure was 2-5% and 10-58% of the estimated total DIs in China and the USA, respectively. On the basis of the estimates of total DIs of phthalates, extrapolated from urinary metabolite concentrations, the contributions of inhalation, dermal absorption, and dietary intake to total DIs were estimated. The results indicated that dietary intake is the main source of exposure to DEHP (especially in China), whereas dermal exposure was a major source for DEP. This is the first study to elucidate sources of human exposure to phthalates among the general population in China.', \"A 5-year-old boy with autism developed dry eye and xerophthalmia. Serum vitamin A was undetectable. Dietary history revealed a markedly altered intake consisting of only fried potatoes and rice balls for 2 years. Fried potatoes contain no vitamin A. Autism is a multifaceted developmental disorder infrequently accompanied by abnormal eating practices. To the authors' knowledge, most children with autism who develop dietary vitamin A deficiency have consumed an excess of fried potatoes. Attention to possible vitamin A deficiency is essential when fried potatoes are consumed exclusively.\", 'To investigate whether systemic acid-base equilibrium changes with aging in normal adult humans, we reviewed published articles reporting the acid-base composition of arterial, arterialized venous, or capillary blood in age-identified healthy subjects. We extracted or calculated blood hydrogen ion concentration ([H+]), plasma bicarbonate concentration ([HCO3(-)]), blood PCO2, and age, and computed a total of 61 age-group means, distributed among eight 10-year intervals from age 20 to 100 years. Using linear regression analysis, we found that with increasing age, there is a significant increase in the steady-state blood [H+] (p < .001), and reduction in steady-state plasma [HCO3(-)] (p < .001), indicative of a progressively worsening low-level metabolic acidosis. Blood PCO2 decreased with age (p < .05), in keeping with the expected respiratory adaptation to metabolic acidosis. Such age-related increasing metabolic acidosis may reflect in part the normal decline of renal function with increasing age. The role of age-related metabolic acidosis in the pathogenesis of the degenerative diseases of aging warrants consideration.', 'STUDY DESIGN: A cross-sectional analysis of the feeding arteries of the lumbar spine and cholesterol levels on patients with long-term nonspecific lower back pain. OBJECTIVES: To evaluate whether occlusion of lumbar and middle sacral arteries or serum cholesterol levels are associated with lower back pain and/or with disc degeneration. SUMMARY OF BACKGROUND DATA: Atherosclerosis in the wall of the abdominal aorta usually develops at the ostia of branching arteries and the bifurcation, and may obliterate orifices of lumbar and middle sacral arteries. Obstruction of these arteries causes ischemia in the lumbar spine and may result in back symptoms and disc degeneration. METHODS: MR aortography and cholesterol blood tests were performed on 51 patients with long-term lower back pain without specific findings (i.e., spinal or nerve root compression) in regular lumbar MR images. The patients ranged from 35 to 70 years of age (mean age, 56 years). Serum cholesterol and low-density lipoprotein (LDL) cholesterol levels were measured. To assess symptoms and disability NASS low back Outcome Instrument was used. RESULTS: Twenty-nine (78%) of 37 men and 11 (77%) of 14 women showed occluded lumbar and/or middle sacral arteries. The prevalence of occluded arteries was 2.5 times more than in subjects of corresponding age group in a Finnish necropsy material. Twenty-three (62%) men and seven (50%) women had significant disc degeneration. Disc degeneration was associated with occluded lumbar/middle sacral arteries (P = 0.035). Patients with occluded arteries or significant disc degeneration did not complain more severe symptoms than those without, whereas patients with above normal serum LDL cholesterol scored higher in neurogenic symptoms (P = 0.031) and complained more often severe pain (P = 0.049) than those with normal LDL cholesterol. CONCLUSIONS: The study indicates that lumbar and middle sacral arteries are often occluded in patients with nonspecific long-term lower back pain. Occlusion of these arteries may also be associated with disc degeneration.']\n",
            "['A method based on solid phase extraction followed by derivatization and gas chromatography-mass spectrometry analysis was validated for the determination of bisphenol A (BPA) in canned food products. This method was used to analyze 78 canned food products for BPA. Concentrations of BPA in canned food products differed considerably among food types, but all were below the specific migration limit of 0.6 mg/kg set by the European Commission Directive for BPA in food or food simulants. Canned tuna products had the highest BPA concentrations in general, with mean and maximum values of 137 and 534 ng/g, respectively. BPA concentrations in the condensed soup products were considerably higher than those in the ready-to-serve soup products, with mean and maximum values of 105 and 189 ng/g, respectively, for the condensed soups and 15 and 34 ng/g, respectively, for the ready-to-serve soups. BPA concentrations in canned vegetable products were relatively low; about 60% of the products had BPA concentrations of less than 10 ng/g. Canned tomato paste products had lower BPA concentrations than did canned pure tomato products. The mean and maximum BPA concentrations were 1.1 and 2.1 ng/g, respectively, for tomato paste products and 9.3 and 23 ng/g, respectively, for the pure tomato products.', 'Many articles have summarized the changing epidemiology of Clostridium difficile infections (CDI) in humans, but the emerging presence of C. difficile in foods and animals and possible measures to reduce human exposure to this important pathogen have been infrequently addressed. CDIs have traditionally been assumed to be restricted to health-care settings. However, recent molecular studies indicate that this is no longer the case; animals and foods might be involved in the changing epidemiology of CDIs in humans; and genome sequencing is disproving person-to-person transmission in hospitals. Although zoonotic and foodborne transmission have not been confirmed, it is evident that susceptible people can be inadvertently exposed to C. difficile from foods, animals, or their environment. Strains of epidemic clones present in humans are common in companion and food animals, raw meats, poultry products, vegetables, and ready-to-eat foods, including salads. In order to develop science-based prevention strategies, it is critical to understand how C. difficile reaches foods and humans. This review contextualizes the current understanding of CDIs in humans, animals, and foods. Based on available information, we propose a list of educational measures that could reduce the exposure of susceptible people to C. difficile. Enhanced educational efforts and behavior change targeting medical and non-medical personnel are needed.', 'BACKGROUND: Impaired glucose tolerance (IGT) and impaired fasting glucose (IFG) are pre-diabetic states, treatment of which may prevent or delay the onset of overt diabetes and thus potentially reduce major cardiovascular (CV) events. We therefore sought to determine whether interventions (including diet, exercise and pharmacological therapy), altered all-cause and cardiovascular related mortality in such subjects. METHODS: We performed a meta-analysis of prospective, randomised controlled trials (RCTs) that were identified in the medical literature and databases. Trials were eligible for inclusion if they reported all-cause mortality rates (at a minimum), recruited approximately 100 patients and had a minimum follow-up of one year. Interventions were divided into pharmacological and non-pharmacological. RESULTS: Ten RCTs that enrolled 23,152 patients met the above entry criteria. Trials ran for an average of 3.75 years. Diabetes was delayed or prevented by these interventions vs control (risk ratio 0.83, 95%CI 0.80-0.86). Non-drug approaches (n\\u2009=\\u20093495) were superior to drug-based approaches (n\\u2009=\\u200920,872) in diabetes prevention (0.52, 0.46-0.58 vs 0.70, 0.58-0.85, P\\u2009<\\u20090.05). There was no difference in risk of all-cause mortality in the intervention versus control group (0.96, 0.84-1.10) and no difference in CV death (1.04, 0.61-1.78). There was a non-significant trend towards reduction in fatal and non-fatal myocardial infarction (0.59, 0.23-1.50). Fatal and non-fatal stroke was borderline reduced (0.76, 0.58-0.99) with intervention versus control. CONCLUSIONS: Despite interventions being mostly successful in retarding progression to overt diabetes, this did not result in reductions in all-cause or cardiovascular mortality, or myocardial infarction, with the possible exception of stroke.', 'Low fecal weight and slow bowel transit time are thought to be associated with bowel cancer risk, but few published data defining bowel habits in different communities exist. Therefore, data on stool weight were collected from 20 populations in 12 countries to define this risk more accurately, and the relationship between stool weight and dietary intake of nonstarch polysaccharides (NSP) (dietary fiber) was quantified. In 220 healthy U.K. adults undertaking careful fecal collections, median daily stool weight was 106 g/day (men, 104 g/day; women, 99 g/day; P = 0.02) and whole-gut transit time was 60 hours (men, 55 hours; women, 72 hours; P = 0.05); 17% of women, but only 1% of men, passed < 50 g stool/day. Data from other populations of the world show average stool weight to vary from 72 to 470 g/day and to be inversely related to colon cancer risk (r = -0.78). Meta-analysis of 11 studies in which daily fecal weight was measured accurately in 26 groups of people (n = 206) on controlled diets of known NSP content shows a significant correlation between fiber intake and mean daily stool weight (r = 0.84). Stool weight in many Westernized populations is low (80-120 g/day), and this is associated with increased colon cancer risk. Fecal output is increased by dietary NSP. Diets characterized by high NSP intake (approximately 18 g/day) are associated with stool weights of 150 g/day and should reduce the risk of bowel cancer.', 'OBJECTIVE: To describe food and beverage types offered and consumed during classroom celebrations at an elementary school in a low-income, urban community. In addition, to report student intake of fresh fruit provided alongside other party foods. METHODS: Observations held during 4 classroom celebrations. Food and beverage items were measured and counted before and after each celebration. Consumption data were recorded in aggregate for the entire classroom and later adjusted to mean intake per student. RESULTS: Majority of items offered were low-nutrient, energy-dense foods. Mean caloric intake during celebrations ranged from 259 to 455 cal. Fruit provided during 2 of the 4 classroom celebrations resulted in a mean intake of 1 full serving per student. CONCLUSIONS AND IMPLICATIONS: Caloric intake from low-nutrient, energy-dense foods and beverages offered during classroom celebrations contributed 20% or more of daily caloric needs. However, fresh fruit may be a reasonable addition to the party food table. Copyright © 2012 Society for Nutrition Education and Behavior. Published by Elsevier Inc. All rights reserved.', 'OBJECTIVE—To examine the acute effects of consumption of monounsaturated (MUFAs) and saturated fatty acids (SAFAs) on endothelial function in subjects with type 2 diabetes. RESEARCH DESIGN AND METHODS—A total of 33 participants were examined after consumption of two different isocaloric meals: one rich in MUFA and one rich in SAFA, in the form of extra-virgin olive oil and butter, respectively. Endothelial function was assessed by determination of flow-mediated dilatation (FMD). RESULTS—FMD did not change significantly after the MUFA-rich meal but declined after the SAFA-rich meal. The FMD during the experiment, expressed as incremental area under the curve, increased after the MUFA-rich meal by 5.2 ± 2.5% and decreased after the SAFA-rich meal by 16.7 ± 6.0% (Δ = −11.5 ± 6.4%; P = 0.008). CONCLUSIONS—Consumption of an SAFA-rich meal is harmful for the endothelium, while a MUFA-rich meal does not impair endothelial function in subjects with type 2 diabetes.', 'Recent case-control studies suggested that dairy product consumption is an important risk factor for testicular cancer. We examined the association between consumption of dairy products, especially milk, milk fat, and galactose, and testicular cancer in a population-based case-control study including 269 case and 797 controls (response proportions of 76% and 46%, respectively). Dietary history was assessed by food frequency questions for the index persons and through their mothers including diet 1 year before interview and diet at age 17 years. We used conditional logistic regression to calculate odds ratios as estimates of the relative risk (RR), 95% confidence intervals (95% CI), and to control for social status and height. The RR of testicular cancer was 1.37 (95% CI, 1.12-1.68) per additional 20 servings of milk per month (each 200 mL) in adolescence. This elevated overall risk was mainly due to an increased risk for seminoma (RR, 1.66; 95% CI, 1.30-2.12) per additional 20 milk servings per month. The RR for seminoma was 1.30 (95% CI, 1.15-1.48) for each additional 200 g milk fat per month and was 2.01 (95% CI, 1.41-2.86) for each additional 200 g galactose per month during adolescence. Our results suggest that milk fat and/or galactose may explain the association between milk and dairy product consumption and seminomatous testicular cancer.', 'Context Ionizing radiation is a consistently identified and potentially modifiable risk factor for meningioma, the most frequently reported primary brain tumor in the United States. Objective To examine the association between dental x-rays, the most common artificial source of ionizing radiation, and risk of intra-cranial meningioma. Design and Setting Population-based case-control study design. Participants The study includes 1433 intra-cranial meningioma cases aged 29-79 years diagnosed among residents of the states of Connecticut, Massachusetts, North Carolina, the San Francisco Bay Area and eight Houston, Texas counties between May 1, 2006 and April 28, 2011 and 1350 controls that were frequency-matched on age, sex and geography. Main Outcome Measure The association of intra-cranial meningioma diagnosis with self-report of bitewing, full-mouth, and panorex dental x-rays. Results Over a lifetime, cases were more than twice (Odds ratio (OR) = 2.0, 95% confidence interval (CI), 1.4-2.9) as likely as controls to report having ever had a bitewing exam. Regardless of the age at which the films were received, persons who reported receiving bitewing films on a yearly or greater frequency had an elevated risk with odds ratios of 1.4 (95%CI: 1.0-1.8), 1.6 (95%CI: 1.2-2.0), 1.9 (95%CI: 1.4-2.6), and 1.5 (95%CI: 1.1-2.0) for ages <10, 10-19, 20-49, and 50+ years, respectively. Increased risk of meningioma was also associated with panorex films taken at a young age or on a yearly or greater frequency with persons reporting receiving such films under the age of 10 years at 4.9 times (95%CI: 1.8-13.2) increased risk of meningioma. No association was appreciated with location of tumor above or below the tentorium. Conclusion Exposure to some dental x-rays performed in the past, when radiation exposure was greater than in the current era, appears to be associated with increased risk of intra-cranial meningioma. As with all sources of artificial ionizing radiation, considered use of this modifiable risk factor may be of benefit to patients.', 'The Diet and Reinfarction Trial (DART) involved 2033 men (mean age 56.5 years) recovering from myocardial infarction. They were randomly allocated to receive advice or to receive no advice on each of three dietary factors: an increase in fatty fish intake; a reduction in fat intake with an increase in polyunsaturated fat:saturated fat; an increased intake of cereal fibre. Compliance was satisfactory with the fish and fibre advice, but less so with the fat advice. The men given fish advice had 29% lower 2-year all-cause mortality; the other forms of advice did not have any significant effects. The Diet and Angina Randomized Trial (DART-2) involved 3114 men (mean age 61.1 years) with stable angina, who were followed up for 3-9 years. Advice to eat oily fish or take fish oil did not affect all-cause mortality, but it was associated with a significant increase in sudden cardiac death (P=0.018), and this effect was largely confined to the subgroup given fish oil capsules. Advice to eat more fruit and vegetables had no effect, probably because of poor compliance. The outcome of DART-2 appears to conflict with that of DART and some other studies; various possible explanations are considered. Nutritional interventions are not equally acceptable and should be tailored to the individuals for whom they are intended. Various distinct groups have a raised risk of CHD, and it cannot be assumed that the same nutritional interventions are appropriate to them all. Nutritional supplements do not necessarily have the same effects as the foods from which they are derived.', 'OBJECTIVE: Probiotic consumption effects on cold and influenza-like symptom incidence and duration were evaluated in healthy children during the winter season. METHODS: In this double-blind, placebo-controlled study, 326 eligible children (3-5 years of age) were assigned randomly to receive placebo (N = 104), Lactobacillus acidophilus NCFM (N = 110), or L acidophilus NCFM in combination with Bifidobacterium animalis subsp lactis Bi-07 (N = 112). Children were treated twice daily for 6 months. RESULTS: Relative to the placebo group, single and combination probiotics reduced fever incidence by 53.0% (P = .0085) and 72.7% (P = .0009), coughing incidence by 41.4% (P = .027) and 62.1% (P = .005), and rhinorrhea incidence by 28.2% (P = .68) and 58.8% (P = .03), respectively. Fever, coughing, and rhinorrhea duration was decreased significantly, relative to placebo, by 32% (single strain; P = .0023) and 48% (strain combination; P < .001). Antibiotic use incidence was reduced, relative to placebo, by 68.4% (single strain; P = .0002) and 84.2% (strain combination; P < .0001). Subjects receiving probiotic products had significant reductions in days absent from group child care, by 31.8% (single strain; P = .002) and 27.7% (strain combination; P < .001), compared with subjects receiving placebo treatment. CONCLUSION: Daily dietary probiotic supplementation for 6 months was a safe effective way to reduce fever, rhinorrhea, and cough incidence and duration and antibiotic prescription incidence, as well as the number of missed school days attributable to illness, for children 3 to 5 years of age.', 'Amid soaring health spending, there is growing interest in workplace disease prevention and wellness programs to improve health and lower costs. In a critical meta-analysis of the literature on costs and savings associated with such programs, we found that medical costs fall by about $3.27 for every dollar spent on wellness programs and that absenteeism costs fall by about $2.73 for every dollar spent. Although further exploration of the mechanisms at work and broader applicability of the findings is needed, this return on investment suggests that the wider adoption of such programs could prove beneficial for budgets and productivity as well as health outcomes.', 'INTRODUCTION: Previous cross-sectional studies have suggested that erectile dysfunction (ED) represents an independent risk factor for future cardiovascular events. However, very few studies have attempted to examine the association between ED and subsequent stroke. AIM: The aim of this study is to estimate the risk of stroke during a 5-year follow-up period after the first ambulatory care visit for the treatment of ED using nationwide, population-based data and a retrospective case-control cohort design in Taiwan. METHODS: This study used data sourced from the \"Longitudinal Health Insurance Database.\" The study cohort comprised 1,501 patients who received a principal diagnosis of ED between 1997 and 2001 and 7,505 randomly selected subjects as the comparison cohort. Each patient (N = 9,006) was then individually tracked for 5 years from their index ambulatory care visit to identify those who had diagnosed episodes of stroke. MAIN OUTCOME MEASURE: Stratified Cox proportional hazard regressions were performed as a means of comparing the 5-year stroke-free survival rate for the two cohorts. RESULTS: Of the sampled patients, 918 (10.2%) developed stroke within the 5-year follow-up period, that is, 188 individuals (12.5% of the patients with ED) from the study cohort and 730 individuals (9.7% of patients in the comparison cohort) from the comparison cohort. The log-rank test indicated that patients with ED had significantly lower 5-year stroke-free survival rates than those in the comparison cohort (P < 0.001). After adjusting for the patient\\'s monthly income, geographical location, hypertension, diabetes, coronary heart disease, peripheral vascular disease, atrial fibrillation, and hyperlipidemia, patients with ED were more likely to have a stroke during the 5-year follow-up period than patients in the comparison cohort (hazard ratio = 1.29, 95% confidence interval = 1.08 - 1.54, P < 0.01). CONCLUSIONS: These results suggest that ED is a surrogate marker for future stroke in men. © 2010 International Society for Sexual Medicine.', 'The effects of 50 mg naltrexone on eating and subjective appetite were assessed in a double-blind placebo-controlled study with 20 male volunteers. Appetite was monitored using a disguised digital balance connected to a micro-computer, which constantly monitored the amount of food remaining, and which automatically interrupted feeding for 30 s after every 50 g consumed to allow appetite ratings to be made. Half the subjects ate pasta with a cheese sauce, and the remainder pasta with a tomato sauce. Subjects ate significantly less of both foods after 50 mg naltrexone than in either the placebo condition or on the initial (familiarisation) day. Naltrexone also reduced the rated pleasantness of both foods, and reduced overall eating rate. When best-fit quadratic functions were used to describe changes in rated hunger in relation to intake within the meal, naltrexone abolished the positive linear component reflecting the initial stimulation of appetite without altering either intercept or the negative quadratic function. Although mood ratings suggested that naltrexone had a mild sedative effect, mood changes alone could not explain the effects of naltrexone on appetite. Overall, these data suggest a specific role for opioids in the stimulation of appetite through palatability.', 'Aging is not and cannot be programmed. Instead, aging is a continuation of developmental growth, driven by genetic pathways such as mTOR. Ironically, this is often misunderstood as a sort of programmed aging. In contrast, aging is a purposeless quasi-program or, figuratively, a shadow of actual programs. “The brightest flame casts the darkest shadow.” -George Martin', 'Prenatal exposure to polybrominated diphenyl ethers (PBDEs) may disrupt thyroid function and contribute to adverse neurodevelopmental outcomes. We conducted a pilot study to explore the relationship between serum concentrations of lower-brominated PBDEs (BDE-17 to -154), higher-brominated PBDEs (BDE-183 to -209), and hydroxylated PBDE metabolites (OH-PBDEs) with measures of thyroid function in pregnant women. Concentrations of PBDEs, OH-PBDEs, thyroid-stimulating hormone (TSH), total thyroxine (T4), and free T4 were measured in serum samples collected between 2008 and 2009 from 25 second trimester pregnant women in California. Median concentrations of lower-brominated PBDEs and OH-PBDEs were the highest reported to date in pregnant women. Median concentrations of BDE-47 and the sum of lower-brominated PBDEs (ΣPBDE5) were 43.1 ng/g lipid and 85.8 ng/g lipid; and 0.084 ng/mL for the sum of OH-PBDEs (ΣOH-PBDE4). We observed a positive association between the weighted sum of chemicals known to bind to transthyretin (ΣTTR binders) and TSH levels. We also found positive associations between TSH and ΣPBDE5, ΣOH-PBDE4, BDE-47, BDE-85, 5-OH-BDE47, and 4′-OH-BDE49; and an inverse association with BDE-207. Relationships with free and total T4 were weak and inconsistent. Our results indicate that PBDE exposures are elevated in pregnant women in California, and suggest a relationship with thyroid function. Further investigation is warranted to characterize the risks of PBDE exposures during pregnancy.', 'Background Low back pain (LBP) is common in children and adolescents, and it is becoming a public health concern. In recent years there has been a considerable increase in research studies that examine the prevalence of LBP in this population, but studies exhibit great variability in the prevalence rates reported. The purpose of this research was to examine, by means of a meta-analytic investigation, the prevalence rates of LBP in children and adolescents. Methods Studies were located from computerized databases (ISI Web of Knowledge, MedLine, PEDro, IME, LILACS, and CINAHL) and other sources. The search period extended to April 2011. To be included in the meta-analysis, studies had to report a prevalence rate (whether point, period or lifetime prevalence) of LBP in children and/or adolescents (≤ 18 years old). Two independent researchers coded the moderator variables of the studies, and extracted the prevalence rates. Separate meta-analyses were carried out for the different types of prevalence in order to avoid dependence problems. In each meta-analysis, a random-effects model was assumed to carry out the statistical analyses. Results A total of 59 articles fulfilled the selection criteria. The mean point prevalence obtained from 10 studies was 0.120 (95% CI: 0.09 and 0.159). The mean period prevalence at 12 months obtained from 13 studies was 0.336 (95% CI: 0.269 and 0.410), whereas the mean period prevalence at one week obtained from six studies was 0.177 (95% CI: 0.124 and 0.247). The mean lifetime prevalence obtained from 30 studies was 0.399 (95% CI: 0.342 and 0.459). Lifetime prevalence exhibited a positive, statistically significant relationship with the mean age of the participants in the samples and with the publication year of the studies. Conclusions The most recent studies showed higher prevalence rates than the oldest ones, and studies with a better methodology exhibited higher lifetime prevalence rates than studies that were methodologically poor. Future studies should report more information regarding the definition of LBP and there is a need to improve the methodological quality of studies.', \"BACKGROUND & AIMS: Coffee consumption has been suggested to reduce the risk for hepatocellular carcinoma (HCC). We performed a meta-analysis of epidemiological studies to provide updated information on how coffee drinking affects HCC risk. METHODS: We performed a PubMed/MEDLINE search of the original articles published in English from 1966 through September 2012, on case-control or cohort studies that associated coffee consumption with liver cancer or HCC. We calculated the summary relative risk (RR) for any, low, and high consumption of coffee vs no consumption. The cut-off point for low vs high consumption was set to 3 cups per day in 9 studies and 1 cup per day in 5\\xa0studies. RESULTS: The summary RR for any coffee consumption vs no consumption was 0.60 from 16 studies, comprising a total of 3153 HCC cases (95% confidence interval [CI], 0.50-0.71); the RRs were\\xa00.56 from 8 case-control studies (95% CI, 0.42-0.75) and 0.64 from 8 cohort studies (95% CI, 0.52-0.78). Compared with no coffee consumption, the summary RR was 0.72 (95% CI, 0.61-0.84) for low consumption and 0.44 (95% CI, 0.39-0.50) for high consumption. The summary RR was 0.80 (95% CI, 0.77-0.84) for an increment of 1 cup of coffee per day. The inverse relationship between coffee and HCC risk was consistent regardless of the subjects' sex, alcohol drinking, or history of hepatitis or liver disease. CONCLUSIONS: From this meta-analysis, the risk of HCC is reduced by 40% for any coffee consumption vs no consumption. The inverse association might partly or largely exist because patients with liver and digestive diseases reduce their coffee intake. However, coffee has been shown to affect liver enzymes and development of cirrhosis, and therefore could protect against liver carcinogenesis. Copyright © 2013 AGA Institute. Published by Elsevier Inc. All rights reserved.\", 'Objectives Polyphenols, natural compounds found in plant-based foods, possess special properties that can battle oxidative stress and stimulate the activation of molecules that aid in synaptic plasticity, a process that underlies cognitive function. Unlike many traditional treatments, polyphenols affect a broad range of mechanisms in the brain that can assist in the maintenance of cognitive and mental health, as well as the recovery from neurodegenerative diseases. Examining the molecular basis underlying the link between food intake and brain function has presented the exciting possibility of using diet as a viable method to battle cognitive and psychiatric disorders. Methods We will discuss the molecular systems that link polyphenols, the gut, and the brain, as well as introduce published human and animal studies demonstrating the effects of polyphenol consumption on brain plasticity and cognition. Results By influencing cellular energy metabolism and modulating the signaling pathways of molecules involved with brain plasticity, dietary factors – formerly recognized for just their effects on bodily systems – have emerged as affecters of the brain. Conclusion Thus, the consumption of diets enriched with polyphenols may present the potential of dietary manipulation as a non-invasive, natural, and inexpensive therapeutic means to support a healthy brain.', \"BACKGROUND AND OVERVIEW: The National Council on Radiation Protection & Measurements updated its recommendations on radiation protection in dentistry in 2003, the Centers for Disease Control and Prevention published its Guidelines for Infection Control in Dental Health-Care Settings in 2003, and the U.S. Food and Drug Administration updated its selection criteria for dental radiographs in 2004. This report summarizes the recommendations presented in these documents and addresses additional topics such as patient selection criteria, film selection for conventional radiographs, collimation, beam filtration, patient protective equipment, film holders, operator protection, film exposure and processing, infection control, quality assurance, image viewing, direct digital radiography and continuing education of dental health care workers who expose radiographs. CONCLUSIONS: This report discusses implementation of proper radiographic practices. In addition to these guidelines, dentists should be aware of, and comply with, applicable federal and state regulations. CLINICAL IMPLICATIONS: Dentists should weigh the benefits of dental radiographs against the consequences of increasing a patient's exposure to radiation and implement appropriate radiation control procedures.\", 'BACKGROUND: Epidemiological studies suggest that tea consumption decreases cardiovascular risk, but the mechanisms of benefit remain undefined. Endothelial dysfunction has been associated with coronary artery disease and increased oxidative stress. Some antioxidants have been shown to reverse endothelial dysfunction, and tea contains antioxidant flavonoids. Methods and Results-- To test the hypothesis that tea consumption will reverse endothelial dysfunction, we randomized 66 patients with proven coronary artery disease to consume black tea and water in a crossover design. Short-term effects were examined 2 hours after consumption of 450 mL tea or water. Long-term effects were examined after consumption of 900 mL tea or water daily for 4 weeks. Vasomotor function of the brachial artery was examined at baseline and after each intervention with vascular ultrasound. Fifty patients completed the protocol and had technically suitable ultrasound measurements. Both short- and long-term tea consumption improved endothelium- dependent flow-mediated dilation of the brachial artery, whereas consumption of water had no effect (P<0.001 by repeated-measures ANOVA). Tea consumption had no effect on endothelium-independent nitroglycerin-induced dilation. An equivalent oral dose of caffeine (200 mg) had no short-term effect on flow-mediated dilation. Plasma flavonoids increased after short- and long-term tea consumption. CONCLUSIONS: Short- and long-term black tea consumption reverses endothelial vasomotor dysfunction in patients with coronary artery disease. This finding may partly explain the association between tea intake and decreased cardiovascular disease events.', 'PURPOSE: Because they have large variations in consumption, Asian countries are suitable settings for studies of the effect of relatively high-dose isoflavone intake on breast cancer risk. Nevertheless, no prospective study from Asia has assessed blood or urine levels as biomarkers of isoflavone intake. PATIENTS AND METHODS: A total of 24,226 women ages 40 to 69 years in the Japan Public Health Center-based prospective study who responded to the baseline questionnaire and provided blood in 1990 to 1995 were observed to December 2002. During a mean 10.6 years of follow-up, 144 patients newly diagnosed with breast cancer were identified. Two matched controls for each patient were selected from the cohort. Isoflavone levels were assessed by plasma level and food frequency questionnaire, and the odds ratio of breast cancer according to isoflavone level was estimated using a conditional logistic regression model. RESULTS: We found a statistically significant inverse association between plasma genistein and risk of breast cancer, but no association for plasma daidzein. Adjusted odds ratios for the highest versus lowest quartile of plasma level were 0.34 for genistein (95% CI, 0.16 to 0.74; P for trend, .02) and 0.71 for daidzein (95% CI, 0.35 to 1.44; P for trend, .54). Median plasma genistein values in the control group were 31.9 ng/mL for the lowest and 353.9 ng/mL for the highest quartile groups. Regarding dietary intake of isoflavones, nonsignificant inverse associations were observed for both genistein and daidzein. CONCLUSION: This nested case-control study found an inverse association between plasma genistein and the risk of breast cancer in Japan.', 'The relationship between uric acid and cardiovascular disease has been known since the 19th century, after that many authors reported the classical association of gout, hypertension, obesity and cardiovascular disease. With the exception of specific genetic defects in purine metabolism, increased uric acid is generally associated with important risk factors for atherosclerosis like hypertension, abdominal obesity, insulin resistance, the metabolic syndrome and renal failure. Studies have clearly shown an association between increased uric acid concentrations with oxidative stress, endothelial dysfunction, inflammation, subclinical atherosclerosis and an increased risk of cardiovascular events. Increased uric acid levels are independent markers of cardiovascular disease risk. Prospective studies are necessary to show that reduction of uric acid levels prevent cardiovascular events.', '4-Methylimidazole (4-MEI) is found in a wide array of food products. The National Toxicology Program (NTP) recently conducted a two-year feeding cancer bioassay of 4-MEI in B6C3F(1) mice and F344/N rats. In rats, NTP found \"equivocal evidence of carcinogenic activity\" in females based on increased incidences of mononuclear cell leukemia and \"no evidence of carcinogenic activity\" in males. However, dose-related, statistically significant decreases in multiple tumors were observed in both male and female rats exposed to 4-MEI in the NTP bioassay. For example, 4-MEI was associated with a 25-fold decrease in the incidence of mammary tumors among high dose females. NTP noted briefly that the decreases in certain tumors, including mammary tumors, were greater than could be attributed to body weight alone. The present paper provides a more detailed evaluation of the evidence that 4-MEI exhibits tumor preventive activity in the rat based upon the results of the NTP bioassay. Reduced body weight offers a partial explanation for the reduction in tumors, but does not appear to be the primary cause of the decreased tumor incidences, indicating that 4-MEI itself may possess an ability to prevent tumor formation. Copyright © 2010 Elsevier Ltd. All rights reserved.', 'EMBO J (2012) 31 19, 3795–3808 doi:10.1038/emboj.2012.207; published online July312012 Ciguatera is one of the most common forms of food poisoning, occurring after consumption of fish contaminated with ciguatoxins. New work by Vetter et al (2012) reveals the key molecular players that underlie the altered temperature sensation associated with ciguatera. In particular, they show that ciguatoxins act on sensory neurons that express TRPA1, an ion channel implicated in the detection of noxious cold.', 'OBJECTIVES: Patients with chronic constipation due to food hypersensitivity (FH) had an elevated anal sphincter resting pressure. No studies have investigated a possible role of FH in anal fissures (AFs). We aimed to evaluate (1) the effectiveness of diet in curing AFs and to evaluate (2) the clinical effects of a double-blind placebo-controlled (DBPC) challenge, using cow\\'s milk protein or wheat. METHODS: One hundred and sixty-one patients with AFs were randomized to receive a \"true-elimination diet\" or a \"sham-elimination diet\" for 8 weeks; both groups also received topical nifedipine and lidocaine. Sixty patients who were cured with the \"true-elimination diet\" underwent DBPC challenge in which cow\\'s milk and wheat were used. RESULTS: At the end of the study, 69% of the \"true-diet group\" and 45% of the \"sham-diet group\" showed complete healing of AFs (P<0.0002). Thirteen of the 60 patients had AF recurrence during the 2-week cow\\'s milk DBPC challenge and 7 patients had AF recurrence on wheat challenge. At the end of the challenge, anal sphincter resting pressure significantly increased in the patients who showed AF reappearance (P<0.0001), compared with the baseline values. The patients who reacted to the challenges had a significantly higher number of eosinophils in the lamina propria and intraepithelial lymphocytes than those who did not react to the challenges. CONCLUSIONS: An oligo-antigenic diet combined with medical treatment improved the rate of chronic AF healing. In more than 20% of the patients receiving medical and dietary treatment, AFs recurred on DBPC food challenge.', \"Mean blood cadmium (B-Cd) concentrations are two- to threefold higher in smokers than in nonsmokers. The basis for this phenomenon is not well understood. We conducted a detailed, multifaceted study of cadmium exposure in smokers. Groups were older smokers (62±4 years, n = 25, 20% male) and nonsmokers (62±3 years, n = 16, 31% male). Each subject's cigarettes were machine smoked, generating individually paired measures of inhaled cadmium (I-Cd) versus B-Cd; I-Cd and B-Cd were each evaluated three times, at monthly intervals. Urine cadmium (U-Cd) was analyzed for comparison. In four smokers, a duplicate-diet study was conducted, along with a kinetic study of plasma cadmium versus B-Cd. Female smokers had a mean B-Cd of 1.21ng Cd/ml, with a nearly 10-fold range (0.29-2.74ng Cd/ml); nonsmokers had a lower mean B-Cd, 0.35ng Cd/ml (p < 0.05), and narrower range (0.20-0.61ng Cd/ml). Means and ranges for males were similar. Estimates of cadmium amounts inhaled daily for our subjects smoking ≥ 20 cigarettes/day were far less than the 15 µg Cd reported to be ingested daily via diet. This I-Cd amount was too low to alone explain the 3.5-fold elevation of B-Cd in our smokers, even assuming greater cadmium absorption via lungs than gastrointestinal tract; cadmium accumulated in smokers' lungs may provide the added cadmium. Finally, B-Cd appeared to be linearly related to I-Cd values in 75% of smokers, whereas 25% had far higher B-Cd, implying a possible heterogeneity among smokers regarding circulating cadmium concentrations and potentially cadmium toxicity.\", '[3H]CP 55,940, a radiolabeled synthetic cannabinoid, which is 10-100 times more potent in vivo than delta 9-tetrahydrocannabinol, was used to characterize and localize a specific cannabinoid receptor in brain sections. The potencies of a series of natural and synthetic cannabinoids as competitors of [3H]CP 55,940 binding correlated closely with their relative potencies in several biological assays, suggesting that the receptor characterized in our in vitro assay is the same receptor that mediates behavioral and pharmacological effects of cannabinoids, including human subjective experience. Autoradiography of cannabinoid receptors in brain sections from several mammalian species, including human, reveals a unique and conserved distribution; binding is most dense in outflow nuclei of the basal ganglia--the substantia nigra pars reticulata and globus pallidus--and in the hippocampus and cerebellum. Generally high densities in forebrain and cerebellum implicate roles for cannabinoids in cognition and movement. Sparse densities in lower brainstem areas controlling cardiovascular and respiratory functions may explain why high doses of delta 9-tetrahydrocannabinol are not lethal.', \"BACKGROUND: In a cross-sectional case-control study conducted in northern Italy, 64 former aluminium dust-exposed workers were compared with 32 unexposed controls from other companies matched for age, professional training, economic status, educational and clinical features. The findings lead the authors to suggest a possible role of the inhalation of aluminium dust in pre-clinical mild cognitive disorder which might prelude Alzheimer's disease (AD) or AD-like neurological deterioration. METHODS: The investigation involved a standardised occupational and medical history with particular attention to exposure and symptoms, assessments of neurotoxic metals in serum: aluminium (Al-s), copper (Cu-s) and zinc (Zn-s), and in blood: manganese (Mn-b), lead (Pb-b) and iron (Fe-b). Cognitive functions were assessed by the Mini Mental State Examination (MMSE), the Clock Drawing Test (CDT) and auditory evoked Event-Related Potential (ERP-P300). To detect early signs of mild cognitive impairment (MCI), the time required to solve the MMSE (MMSE-time) and CDT (CDT-time) was also measured. RESULTS: Significantly higher internal doses of Al-s and Fe-b were found in the ex-employees compared to the control group. The neuropsychological tests showed a significant difference in the latency of P300, MMSE score, MMSE-time, CDT score and CDT-time between the exposed and the control population. P300 latency was found to correlate positively with Al-s and MMSE-time. Al-s has significant effects on all tests: a negative relationship was observed between internal Al concentrations, MMSE score and CDT score; a positive relationship was found between internal Al concentrations, MMSE-time and CDT-time. All the potential confounders such as age, height, weight, blood pressure, schooling years, alcohol, coffee consumption and smoking habit were taken into account. CONCLUSIONS: These findings suggest a role of aluminium in early neurotoxic effects that can be detected at a pre-clinical stage by P300, MMSE, MMSE-time, CDT-time and CDT score, considering a 10 micrograms/l cut-off level of serum aluminium, in aluminium foundry workers with concomitant high blood levels of iron. The authors raise the question whether pre-clinical detection of aluminium neurotoxicity and consequent early treatment might help to prevent or retard the onset of AD or AD-like pathologies.\", \"The objective of this study was to investigate the antiproliferative effect and the mechanism of trypsin inhibitor (TI) from sweet potato [Ipomoea batatas (L.) Lam. 'Tainong 57'] storage roots on NB4 promyelocytic leukemia cells. The results showed that TI inhibited cellular growth of NB4 promyelocytic leukemia cells in a time-dependent and dose-dependent manner, and treatment for 72 h induced a marked inhibition of cellular growth, showing an IC50 of 57.1 +/- 8.26 microg/mL. TI caused cell cycle arrest at the G1 phase as determined by flow cytometric analysis and apoptosis as shown by DNA laddering. TI-induced cell apoptosis involved p53, Bcl-2, Bax, and cytochrome c protein in NB4 cells. P53 and Bax proteins were accumulated, and antiapoptotic molecule Bcl-2 was decreased in the tested cells in a time-dependent manner during TI treatment. TI also induced a substantial release of cytochrome c from the mitochondria into the cytosol. Hence, TI induced apoptosis in NB4 cells through a mitochondria-dependent pathway, which was associated with the activation of caspase-3 and -8. These results demonstrated that TI induces NB4 cell apoptosis through the inhibition of cell growth and the activation of the pathway of caspase-3 and -8 cascades.\", 'The first infants to experience modern pre- and neonatal care are now in their thirties, an age at which the incidence of cardiometabolic disease is low. However, data from cohorts born preterm prior to the introduction of modern care suggest an increased risk of type 2 diabetes. For young adult cohorts of former very small or very preterm infants, there is accumulating evidence of increased risk factors for later cardiovascular disease, including higher blood pressure, lower lean body mass, impaired glucose regulation, and perhaps a more atherogenic lipid profile. Regarding lifestyle, adults born very small or very preterm undertake less non-conditioning physical activity and may have a lower intake of fruit and milk products. Any intervention reducing risk factors, in particular blood pressure and low physical activity, would have a substantial potential to reduce the lifetime disease burden in small preterm infants. There are now enough data to warrant an expert evaluation of the level of evidence for cardiometabolic disease in individuals born very small or very preterm, which has possible public health implications. Copyright © 2013 Elsevier Ltd. All rights reserved.', 'BACKGROUND AND AIMS: Nuts have been part of the human diet since prehistoric times. The aim of the present article is to describe the most important historical and cultural aspects of nut consumption throughout history. DATA SYNTHESIS: We discuss the following historical aspects of nuts originating in the Mediterranean: prehistory, the Egyptian civilization, their spread through the Mediterranean region by the Greek, Phoenician and Roman civilizations, and their reintroduction into Europe by means of the Al-Andalus culture. Particular emphasis is placed on the healthy and nutritional attributes that nuts have had throughout history. We also consider the role of the first globalization of food--the exchange of nuts between continents--and discuss the symbolism that nuts have had for humans throughout history in the context of cultural aspects of the Mediterranean region. CONCLUSIONS: Nuts and fruits are probably the earliest foods consumed by humans and are considered to be important because of their nutritional properties. Nuts have also been used in the past by different civilizations as drugs to prevent or treat several diseases. Copyright © 2010 Elsevier B.V. All rights reserved.', 'BACKGROUND: Although previous randomized, double-blind, placebo-controlled trials reported the efficacy of omega-3 fatty acid supplements in the secondary prevention of cardiovascular disease (CVD), the evidence remains inconclusive. Using a meta-analysis, we investigated the efficacy of eicosapentaenoic acid and docosahexaenoic acid in the secondary prevention of CVD. METHODS: We searched PubMed, EMBASE, and the Cochrane Library in April 2011. Two of us independently reviewed and selected eligible randomized controlled trials. RESULTS: Of 1007 articles retrieved, 14 randomized, double-blind, placebo-controlled trials (involving 20 485 patients with a history of CVD) were included in the final analyses. Supplementation with omega-3 fatty acids did not reduce the risk of overall cardiovascular events (relative risk, 0.99; 95% CI, 0.89-1.09), all-cause mortality, sudden cardiac death, myocardial infarction, congestive heart failure, or transient ischemic attack and stroke. There was a small reduction in cardiovascular death (relative risk, 0.91; 95% CI, 0.84-0.99), which disappeared when we excluded a study with major methodological problems. Furthermore, no significant preventive effect was observed in subgroup analyses by the following: country location, inland or coastal geographic area, history of CVD, concomitant medication use, type of placebo material in the trial, methodological quality of the trial, duration of treatment, dosage of eicosapentaenoic acid or docosahexaenoic acid, or use of fish oil supplementation only as treatment. CONCLUSION: Our meta-analysis showed insufficient evidence of a secondary preventive effect of omega-3 fatty acid supplements against overall cardiovascular events among patients with a history of cardiovascular disease.']\n"
          ]
        }
      ],
      "source": [
        "from datasets import load_dataset\n",
        "from torch.utils.data import DataLoader, random_split\n",
        "import torch\n",
        "\n",
        "# Load the dataset\n",
        "corpus_ds = load_dataset(\"BeIR/nfcorpus\", \"corpus\")\n",
        "\n",
        "# Access the 'corpus' dataset\n",
        "dataset = corpus_ds['corpus']['text']\n",
        "\n",
        "# Define the split sizes\n",
        "train_size = int(0.7 * len(dataset))\n",
        "test_size = len(dataset) - train_size\n",
        "\n",
        "# Split the dataset\n",
        "train_dataset, test_dataset = random_split(dataset, [train_size, test_size])\n",
        "\n",
        "# Define batch size\n",
        "batch_size = 32  # Adjust this as needed\n",
        "\n",
        "# Create DataLoader for train and test datasets\n",
        "train_dataloader = DataLoader(train_dataset, batch_size=batch_size, shuffle=True)\n",
        "test_dataloader = DataLoader(test_dataset, batch_size=batch_size, shuffle=False)\n",
        "\n",
        "# Example of iterating through the dataloaders\n",
        "for batch in train_dataloader:\n",
        "    print(batch)\n",
        "    break  # Just for demonstration, remove this in actual training\n",
        "\n",
        "for batch in test_dataloader:\n",
        "    print(batch)\n",
        "    break  # Just for demonstration, remove this in actual testing"
      ]
    },
    {
      "cell_type": "markdown",
      "metadata": {},
      "source": [
        "#### Prepare Embedding Model and Matryoshka-Adaptor"
      ]
    },
    {
      "cell_type": "code",
      "execution_count": 18,
      "metadata": {
        "colab": {
          "base_uri": "https://localhost:8080/",
          "height": 216
        },
        "id": "ccU_oZwyPQ37",
        "outputId": "8da10a58-7ccc-49bb-ef60-c1ff58a6a939"
      },
      "outputs": [],
      "source": [
        "from sentence_transformers import SentenceTransformer\n",
        "\n",
        "# Embedding Model\n",
        "model = SentenceTransformer('sentence-transformers/all-MiniLM-L6-v2')\n",
        "\n",
        "# Matryoshka-Adaptor\n",
        "input_output_dim = model.get_sentence_embedding_dimension() # Embedding dimension for model (d in paper)\n",
        "hidden_dim = input_output_dim # Let hidden layer dimension equal the embedding model dimension\n",
        "mat_adaptor = MatryoshkaAdaptor(input_output_dim, hidden_dim)"
      ]
    },
    {
      "cell_type": "markdown",
      "metadata": {},
      "source": [
        "#### Train Matryoshka-Adaptor"
      ]
    },
    {
      "cell_type": "code",
      "execution_count": 24,
      "metadata": {},
      "outputs": [],
      "source": [
        "import torch\n",
        "from torch.optim import Adam\n",
        "\n",
        "def train(model, mat_adaptor, train_loader, loss_fn, kwargs):\n",
        "    \"\"\"\n",
        "    Trains the MatryoshkaAdaptor module using the provided training data.\n",
        "\n",
        "    Args:\n",
        "        model: A SentenceTransformer model to generate embeddings.\n",
        "        mat_adaptor: A MatryoshkaAdaptor module to adapt the embeddings.\n",
        "        train_loader: A DataLoader object for the training dataset.\n",
        "        loss_fn: A loss function to compute the loss between original and matryoshka embeddings.\n",
        "        kwargs: A dictionary containing hyperparameters for training.\n",
        "\n",
        "    Returns:\n",
        "        None\n",
        "    \"\"\"\n",
        "\n",
        "    # Unpack the hyperparameters\n",
        "    epochs = kwargs.get('epochs', 5)\n",
        "    lr = kwargs.get('lr', 1e-3)\n",
        "    k = kwargs.get('k', 5) # Top-k similarity loss\n",
        "    m = kwargs.get('m', 128) # Matryoshka embedding dimension\n",
        "    alpha = kwargs.get('alpha', 1.0) # Pairwise similarity loss scaling factor (alpha in paper)\n",
        "    beta = kwargs.get('beta', 1.0)  # Regularization loss scaling factor (beta in paper)\n",
        "\n",
        "\n",
        "    # Define an optimizer for the MatryoshkaAdaptor parameters\n",
        "    optimizer = Adam(mat_adaptor.parameters(), lr=lr)\n",
        "    \n",
        "    # Set MatryoshkaAdaptor to training mode\n",
        "    mat_adaptor.train()\n",
        "\n",
        "    for epoch in range(epochs):\n",
        "        total_loss = 0\n",
        "        for batch in train_loader:\n",
        "            # Generate embeddings for both texts\n",
        "            ori_embeddings = model.encode(batch, convert_to_tensor=True)  # model batched embeddings\n",
        "\n",
        "            # Forward pass embedding through the MatryoshkaAdaptor\n",
        "            mat_embeddings = mat_adaptor(ori_embeddings)\n",
        "\n",
        "            # Compute loss\n",
        "            loss = loss_fn(ori_embeddings, mat_embeddings, k=k, alpha=alpha, beta=beta)\n",
        "\n",
        "            # Backpropagation\n",
        "            optimizer.zero_grad()  # Clear previous gradients\n",
        "            loss.backward()        # Compute gradients\n",
        "            optimizer.step()        # Update weights\n",
        "\n",
        "            total_loss += loss.item()\n",
        "            \n",
        "            break\n",
        "\n",
        "        # Print average loss for the epoch\n",
        "        avg_loss = total_loss / len(train_loader)\n",
        "        print(f\"Epoch {epoch + 1}/{epochs}, Loss: {avg_loss:.4f}\")"
      ]
    },
    {
      "cell_type": "code",
      "execution_count": 25,
      "metadata": {},
      "outputs": [
        {
          "name": "stdout",
          "output_type": "stream",
          "text": [
            "Epoch 1/5, Loss: 1.7495\n",
            "Epoch 2/5, Loss: 1.0474\n",
            "Epoch 3/5, Loss: 0.2633\n",
            "Epoch 4/5, Loss: 0.3473\n",
            "Epoch 5/5, Loss: 0.3356\n"
          ]
        }
      ],
      "source": [
        "hyperparams = {\n",
        "    'epochs': 5,\n",
        "    'lr': 1e-3,\n",
        "    'k': 5,  # Top-k similarity loss\n",
        "    'm': 128,  # Matryoshka embedding dimension\n",
        "    'alpha': 1.0,  # Pairwise similarity loss scaling factor (alpha in paper)\n",
        "    'beta': 1.0  # Regularization loss scaling factor (beta in paper)\n",
        "}\n",
        "\n",
        "train(model, mat_adaptor, train_dataloader, unsupervised_objective_fn_loss, hyperparams)"
      ]
    },
    {
      "cell_type": "code",
      "execution_count": null,
      "metadata": {
        "colab": {
          "base_uri": "https://localhost:8080/"
        },
        "id": "gPOTm9ZEPz5O",
        "outputId": "0887eace-9229-4fa0-ed68-6d048bf3ef1d"
      },
      "outputs": [],
      "source": [
        "from transformers import AutoTokenizer, AutoModel\n",
        "import torch\n",
        "import torch.nn.functional as F\n",
        "\n",
        "#Mean Pooling - Take attention mask into account for correct averaging\n",
        "def mean_pooling(model_output, attention_mask):\n",
        "    token_embeddings = model_output[0] #First element of model_output contains all token embeddings\n",
        "    input_mask_expanded = attention_mask.unsqueeze(-1).expand(token_embeddings.size()).float()\n",
        "    return torch.sum(token_embeddings * input_mask_expanded, 1) / torch.clamp(input_mask_expanded.sum(1), min=1e-9)\n",
        "\n",
        "\n",
        "# Sentences we want sentence embeddings for\n",
        "sentences = ['This is an example sentence', 'Each sentence is converted']\n",
        "\n",
        "# Load model from HuggingFace Hub\n",
        "tokenizer = AutoTokenizer.from_pretrained('sentence-transformers/all-MiniLM-L6-v2')\n",
        "model = AutoModel.from_pretrained('sentence-transformers/all-MiniLM-L6-v2')\n",
        "\n",
        "# Tokenize sentences\n",
        "encoded_input = tokenizer(sentences, padding=True, truncation=True, return_tensors='pt')\n",
        "\n",
        "# Compute token embeddings\n",
        "with torch.no_grad():\n",
        "    model_output = model(**encoded_input)\n",
        "\n",
        "# Perform pooling\n",
        "sentence_embeddings = mean_pooling(model_output, encoded_input['attention_mask'])\n",
        "\n",
        "# Normalize embeddings\n",
        "sentence_embeddings = F.normalize(sentence_embeddings, p=2, dim=1)\n",
        "\n",
        "print(\"Sentence embeddings:\")\n",
        "print(sentence_embeddings)"
      ]
    },
    {
      "cell_type": "markdown",
      "metadata": {
        "id": "vhFgceqlt8xx"
      },
      "source": [
        "## BEIR Evaluation"
      ]
    },
    {
      "cell_type": "markdown",
      "metadata": {
        "id": "84bFC2eMSAQW"
      },
      "source": [
        "### Unmodified Model Performance for all-MiniLM-L6-v2\n",
        "\n",
        "> Add blockquote\n",
        "\n"
      ]
    },
    {
      "cell_type": "code",
      "execution_count": null,
      "metadata": {
        "colab": {
          "base_uri": "https://localhost:8080/",
          "height": 275
        },
        "id": "LlrIjQBAs7b2",
        "outputId": "d7589094-fb96-42d5-b90a-59ca05231210"
      },
      "outputs": [],
      "source": [
        "import mteb\n",
        "from sentence_transformers import SentenceTransformer\n",
        "\n",
        "model = SentenceTransformer('sentence-transformers/all-MiniLM-L6-v2')\n",
        "model_name = 'all-MiniLM-L6-v2_BASE'\n",
        "\n",
        "# Define the BEIR tasks you want to evaluate on\n",
        "tasks = mteb.get_tasks(tasks=[\"NFCorpus\"])\n",
        "\n",
        "# Evaluate the model on the benchmark\n",
        "evaluation = mteb.MTEB(tasks=tasks)\n",
        "results = evaluation.run(model, output_folder=f\"results/{model_name}\")\n"
      ]
    }
  ],
  "metadata": {
    "accelerator": "GPU",
    "colab": {
      "gpuType": "T4",
      "provenance": [],
      "toc_visible": true
    },
    "kernelspec": {
      "display_name": "Python 3",
      "name": "python3"
    },
    "language_info": {
      "codemirror_mode": {
        "name": "ipython",
        "version": 3
      },
      "file_extension": ".py",
      "mimetype": "text/x-python",
      "name": "python",
      "nbconvert_exporter": "python",
      "pygments_lexer": "ipython3",
      "version": "3.12.4"
    }
  },
  "nbformat": 4,
  "nbformat_minor": 0
}
