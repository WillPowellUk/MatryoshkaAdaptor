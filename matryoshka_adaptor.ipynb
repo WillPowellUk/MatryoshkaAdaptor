{
  "cells": [
    {
      "cell_type": "markdown",
      "metadata": {
        "id": "pdg4efAmPQ32"
      },
      "source": [
        "## Structure\n"
      ]
    },
    {
      "cell_type": "markdown",
      "metadata": {
        "id": "aT1EJEfjPQ34"
      },
      "source": [
        "## Setup"
      ]
    },
    {
      "cell_type": "code",
      "execution_count": 1,
      "metadata": {
        "colab": {
          "base_uri": "https://localhost:8080/"
        },
        "id": "NNO5WkvKPQ35",
        "outputId": "decd2625-7e24-422e-e478-3f20bada4688"
      },
      "outputs": [
        {
          "name": "stdout",
          "output_type": "stream",
          "text": [
            "Requirement already satisfied: sentence-transformers in /home/fsociety/anaconda3/envs/ML_Dev/lib/python3.12/site-packages (from -r requirements.txt (line 1)) (3.0.1)\n",
            "Requirement already satisfied: mteb in /home/fsociety/anaconda3/envs/ML_Dev/lib/python3.12/site-packages (from -r requirements.txt (line 2)) (1.14.9)\n",
            "Requirement already satisfied: beir in /home/fsociety/anaconda3/envs/ML_Dev/lib/python3.12/site-packages (from -r requirements.txt (line 3)) (2.0.0)\n",
            "Requirement already satisfied: datasets in /home/fsociety/anaconda3/envs/ML_Dev/lib/python3.12/site-packages (from -r requirements.txt (line 4)) (2.20.0)\n",
            "Requirement already satisfied: wandb in /home/fsociety/anaconda3/envs/ML_Dev/lib/python3.12/site-packages (from -r requirements.txt (line 5)) (0.17.3)\n",
            "Collecting sklearn (from -r requirements.txt (line 6))\n",
            "  Using cached sklearn-0.0.post12.tar.gz (2.6 kB)\n",
            "  Preparing metadata (setup.py) ... \u001b[?25lerror\n",
            "  \u001b[1;31merror\u001b[0m: \u001b[1msubprocess-exited-with-error\u001b[0m\n",
            "  \n",
            "  \u001b[31m×\u001b[0m \u001b[32mpython setup.py egg_info\u001b[0m did not run successfully.\n",
            "  \u001b[31m│\u001b[0m exit code: \u001b[1;36m1\u001b[0m\n",
            "  \u001b[31m╰─>\u001b[0m \u001b[31m[15 lines of output]\u001b[0m\n",
            "  \u001b[31m   \u001b[0m The 'sklearn' PyPI package is deprecated, use 'scikit-learn'\n",
            "  \u001b[31m   \u001b[0m rather than 'sklearn' for pip commands.\n",
            "  \u001b[31m   \u001b[0m \n",
            "  \u001b[31m   \u001b[0m Here is how to fix this error in the main use cases:\n",
            "  \u001b[31m   \u001b[0m - use 'pip install scikit-learn' rather than 'pip install sklearn'\n",
            "  \u001b[31m   \u001b[0m - replace 'sklearn' by 'scikit-learn' in your pip requirements files\n",
            "  \u001b[31m   \u001b[0m   (requirements.txt, setup.py, setup.cfg, Pipfile, etc ...)\n",
            "  \u001b[31m   \u001b[0m - if the 'sklearn' package is used by one of your dependencies,\n",
            "  \u001b[31m   \u001b[0m   it would be great if you take some time to track which package uses\n",
            "  \u001b[31m   \u001b[0m   'sklearn' instead of 'scikit-learn' and report it to their issue tracker\n",
            "  \u001b[31m   \u001b[0m - as a last resort, set the environment variable\n",
            "  \u001b[31m   \u001b[0m   SKLEARN_ALLOW_DEPRECATED_SKLEARN_PACKAGE_INSTALL=True to avoid this error\n",
            "  \u001b[31m   \u001b[0m \n",
            "  \u001b[31m   \u001b[0m More information is available at\n",
            "  \u001b[31m   \u001b[0m https://github.com/scikit-learn/sklearn-pypi-package\n",
            "  \u001b[31m   \u001b[0m \u001b[31m[end of output]\u001b[0m\n",
            "  \n",
            "  \u001b[1;35mnote\u001b[0m: This error originates from a subprocess, and is likely not a problem with pip.\n",
            "\u001b[?25h\u001b[1;31merror\u001b[0m: \u001b[1mmetadata-generation-failed\u001b[0m\n",
            "\n",
            "\u001b[31m×\u001b[0m Encountered error while generating package metadata.\n",
            "\u001b[31m╰─>\u001b[0m See above for output.\n",
            "\n",
            "\u001b[1;35mnote\u001b[0m: This is an issue with the package mentioned above, not pip.\n",
            "\u001b[1;36mhint\u001b[0m: See above for details.\n"
          ]
        }
      ],
      "source": [
        "!pip install -r requirements.txt\n",
        "# !pip install sentence-transformers\n",
        "# !pip install mteb\n",
        "# !pip install beir\n",
        "# !pip install datasets\n",
        "# !pip install wandb\n",
        "# !pip install tqdm"
      ]
    },
    {
      "cell_type": "markdown",
      "metadata": {
        "id": "cEwnKu7oPQ36"
      },
      "source": [
        "## Matryoshka-Adaptor Implementation"
      ]
    },
    {
      "cell_type": "markdown",
      "metadata": {
        "id": "IuuAdgX7sD00"
      },
      "source": [
        "### Architecture"
      ]
    },
    {
      "cell_type": "code",
      "execution_count": 2,
      "metadata": {
        "id": "rpi5vvq4sH80"
      },
      "outputs": [],
      "source": [
        "import torch\n",
        "import torch.nn.functional as F\n",
        "\n",
        "# Define MatryoshkaAdaptor module - a simple MLP with skip connection which adapts the output of an embedding model\n",
        "class MatryoshkaAdaptor(torch.nn.Module):\n",
        "    \"\"\"\n",
        "    A PyTorch neural network module that adapts the output of an embedding model\n",
        "    into a desired output dimension using two linear transformations with a ReLU activation in between.\n",
        "    Includes a skip connection from input to output.\n",
        "    \"\"\"\n",
        "    def __init__(self, input_output_dim, hidden_dim):\n",
        "        \"\"\"\n",
        "        Initializes the MatryoshkaAdaptor module.\n",
        "        \n",
        "        Args:\n",
        "            input_output_dim: An integer representing the input and output dimension of the module which are equal.\n",
        "            hidden_dim: An integer representing the hidden dimension of the module.\n",
        "            \n",
        "        Returns:\n",
        "            None\n",
        "        \"\"\"\n",
        "        super(MatryoshkaAdaptor, self).__init__()\n",
        "        self.input_output_dim = input_output_dim\n",
        "        self.hidden_dim = hidden_dim\n",
        "        \n",
        "        # First linear layer to transform the input dimension to a hidden dimension\n",
        "        self.linear1 = torch.nn.Linear(input_output_dim, hidden_dim)\n",
        "        # Second linear layer to transform the hidden dimension to the output dimension which is same as input dimension\n",
        "        self.linear2 = torch.nn.Linear(hidden_dim, input_output_dim)\n",
        "        # Activation function to introduce non-linearity\n",
        "        self.activation = torch.nn.ReLU()\n",
        "\n",
        "    def forward(self, embedding):\n",
        "        \"\"\"\n",
        "        Forward pass of the MatryoshkaAdaptor module.\n",
        "\n",
        "        Args:\n",
        "            embedding: A torch.Tensor of shape (batch_size, input_output_dim) representing the input embeddings.\n",
        "\n",
        "        Returns:\n",
        "            output: A torch.Tensor of shape (batch_size, input_output_dim) representing the matryoshka embeddings.\n",
        "        \"\"\"\n",
        "        # Apply the first linear transformation followed by the activation function\n",
        "        hidden_embedding = self.activation(self.linear1(embedding))\n",
        "        \n",
        "        # Apply the second linear transformation to get the final adapted embedding\n",
        "        adapted_embedding = self.linear2(hidden_embedding)\n",
        "        \n",
        "        # Add the skip connection by adding the original embedding to the adapted embedding\n",
        "        mat_embedding = adapted_embedding + embedding\n",
        "\n",
        "        return mat_embedding"
      ]
    },
    {
      "cell_type": "markdown",
      "metadata": {
        "id": "0i3hyw53tnoz"
      },
      "source": [
        "### Loss Functions"
      ]
    },
    {
      "cell_type": "code",
      "execution_count": 3,
      "metadata": {
        "id": "X_inssTutsBl"
      },
      "outputs": [],
      "source": [
        "import torch\n",
        "import torch.nn.functional as F\n",
        "\n",
        "# Equation 1 in paper\n",
        "def pairwise_similarity_loss(ori_corpus_embeddings, mat_corpus_embeddings, m_dims):\n",
        "    \"\"\"\n",
        "    Computes the pairwise similarity loss between original embeddings and matryoshka embeddings.\n",
        "    \n",
        "    Args:\n",
        "        ori_corpus_embeddings: A tensor of shape (batch_size, embedding_dim) representing the original embeddings.\n",
        "        mat_corpus_embeddings: A tensor of shape (batch_size, embedding_dim) representing the matryoshka/adapted embeddings.\n",
        "        m_dims: List of reduced matryoshka dimensionality values.\n",
        "        \n",
        "    Returns:\n",
        "        loss: A scalar tensor representing the mean pairwise similarity loss.\n",
        "    \"\"\"\n",
        "\n",
        "    # Original embeddings only need to be normalized and computed once: \n",
        "\n",
        "    # Normalize the embeddings along the embedding dimension to get the cosine similarity\n",
        "    normalized_ori_corpus_embeddings = F.normalize(ori_corpus_embeddings, p=2, dim=1)\n",
        "    # Compute the cosine similarity matrices\n",
        "    original_similarity_matrix = torch.matmul(normalized_ori_corpus_embeddings, normalized_ori_corpus_embeddings.T)\n",
        "\n",
        "    # Get the indices of the upper triangle of the matrices, excluding the diagonal\n",
        "    batch_size = ori_corpus_embeddings.size(0)\n",
        "    i, j = torch.triu_indices(batch_size, batch_size, offset=1)\n",
        "\n",
        "    # Compute the pairwise cosine similarities\n",
        "    original_pairwise_similarities = original_similarity_matrix[i, j]\n",
        "\n",
        "    loss = 0.0\n",
        "    for m in m_dims:\n",
        "        # Reduce the matryoshka embeddings to m dimensions\n",
        "        reduced_mat_corpus_embeddings = mat_corpus_embeddings[:, :m]\n",
        "\n",
        "        # Normalize the embeddings along the embedding dimension to get the cosine similarity\n",
        "        normalized_mat_corpus_embeddings = F.normalize(mat_corpus_embeddings, p=2, dim=1)\n",
        "        \n",
        "        # Compute the cosine similarity matrices\n",
        "        matryoshka_similarity_matrix = torch.matmul(normalized_mat_corpus_embeddings, normalized_mat_corpus_embeddings.T)\n",
        "        \n",
        "        # Compute the pairwise cosine similarities\n",
        "        matryoshka_pairwise_similarities = matryoshka_similarity_matrix[i, j]\n",
        "        \n",
        "        # Compute the absolute difference between corresponding pairwise similarities\n",
        "        similarity_differences = torch.abs(original_pairwise_similarities - matryoshka_pairwise_similarities)\n",
        "        \n",
        "        # Sum up all the absolute differences to produce the final loss\n",
        "        loss += torch.sum(similarity_differences)\n",
        "    \n",
        "    return loss\n",
        "\n",
        "# Equation 2 in paper\n",
        "def topk_similarity_loss(ori_corpus_embeddings, mat_corpus_embeddings, m_dims, k=10):\n",
        "    \"\"\"\n",
        "    Computes the top-k similarity loss between original embeddings and matryoshka embeddings.\n",
        "    \n",
        "    Args:\n",
        "        ori_corpus_embeddings: A tensor of shape (batch_size, embedding_dim) representing the original embeddings.\n",
        "        mat_corpus_embeddings: A tensor of shape (batch_size, embedding_dim) representing the matryoshka/adapted embeddings.\n",
        "        m_dims: List of reduced matryoshka dimensionality values.\n",
        "        k: The number of top similarities to consider (default is 10).\n",
        "        \n",
        "    Returns:\n",
        "        loss: A scalar tensor representing the top-k similarity loss.\n",
        "    \"\"\"\n",
        "    \n",
        "    # Normalize the original embeddings to get cosine similarity\n",
        "    normalized_ori_corpus_embeddings = F.normalize(ori_corpus_embeddings, p=2, dim=1)\n",
        "    \n",
        "    # Compute the original cosine similarity matrix\n",
        "    original_similarity_matrix = torch.matmul(normalized_ori_corpus_embeddings, normalized_ori_corpus_embeddings.T)\n",
        "    \n",
        "    # Exclude self-similarity by setting the diagonal to a very low value\n",
        "    original_similarity_matrix.fill_diagonal_(-float('inf'))\n",
        "    \n",
        "    # For each embedding, get the top-k similarities for the original embeddings\n",
        "    original_topk_values, _ = torch.topk(original_similarity_matrix, k, dim=1)\n",
        "    \n",
        "    loss = 0.0\n",
        "    for m in m_dims:\n",
        "        # Reduce the matryoshka embeddings to m dimensions\n",
        "        reduced_mat_corpus_embeddings = mat_corpus_embeddings[:, :m]\n",
        "\n",
        "        # Normalize the reduced matryoshka embeddings to get cosine similarity\n",
        "        normalized_mat_corpus_embeddings = F.normalize(reduced_mat_corpus_embeddings, p=2, dim=1)\n",
        "        \n",
        "        # Compute the cosine similarity matrix for the reduced embeddings\n",
        "        matryoshka_similarity_matrix = torch.matmul(normalized_mat_corpus_embeddings, normalized_mat_corpus_embeddings.T)\n",
        "        \n",
        "        # Exclude self-similarity by setting the diagonal to a very low value\n",
        "        matryoshka_similarity_matrix.fill_diagonal_(-float('inf'))\n",
        "        \n",
        "        # For each embedding, get the top-k similarities for the matryoshka embeddings\n",
        "        matryoshka_topk_values, _ = torch.topk(matryoshka_similarity_matrix, k, dim=1)\n",
        "        \n",
        "        # Compute the absolute difference between the top-k similarities\n",
        "        similarity_differences = torch.abs(original_topk_values - matryoshka_topk_values)\n",
        "        \n",
        "        # Sum up all the absolute differences to accumulate the final loss\n",
        "        loss += torch.sum(similarity_differences)\n",
        "    \n",
        "    return loss\n",
        "\n",
        "\n",
        "# Equation 3 in paper\n",
        "def reconstruction_loss(ori_corpus_embeddings, mat_corpus_embeddings):\n",
        "    \"\"\"\n",
        "    Computes the reconstruction loss to ensure the matryoshka embeddings do not deviate\n",
        "    significantly from the original embeddings, and thus act as a regularizer.\n",
        "    \n",
        "    Args:\n",
        "        ori_corpus_embeddings: A tensor of shape (batch_size, embedding_dim) representing the original embeddings.\n",
        "        mat_corpus_embeddings: A tensor of shape (batch_size, embedding_dim) representing the matryoshka/adapted embeddings.\n",
        "        \n",
        "    Returns:\n",
        "        loss: A scalar tensor representing the reconstruction loss.\n",
        "    \"\"\"\n",
        "    # Compute the absolute difference between embeddings\n",
        "    abs_diff = torch.abs(ori_corpus_embeddings - mat_corpus_embeddings)\n",
        "    \n",
        "    # Sum over all dimensions\n",
        "    loss = abs_diff.sum()\n",
        "\n",
        "    return loss\n",
        "\n",
        "\n",
        "# Equation 4 in paper\n",
        "def unsupervised_objective_fn_loss(ori_corpus_embeddings, mat_corpus_embeddings, m_dims,\n",
        "                                   k=10, alpha=1.0, beta=1.0):\n",
        "    \"\"\"\n",
        "    Computes the overall unsupervised objective function loss as a combination of top-k similarity loss,\n",
        "    alpha-scaled pairwise similarity loss, and beta-scaled reconstruction loss.\n",
        "    \n",
        "    Args:\n",
        "        ori_corpus_embeddings: A tensor of shape (batch_size, embedding_dim) representing the original embeddings.\n",
        "        mat_corpus_embeddings: A tensor of shape (batch_size, mat_embedding_dim) representing the matryoshka/adapted embeddings.\n",
        "        m_dims: List of reduced matryoshka dimensionality values.\n",
        "        k: The number of top similar embeddings to consider for the top-k similarity loss.\n",
        "        alpha: A scaling factor for the pairwise similarity loss.\n",
        "        beta: A scaling factor for the reconstruction loss.\n",
        "        \n",
        "    Returns:\n",
        "        total_loss: A scalar tensor representing the combined unsupervised objective function loss.\n",
        "    \"\"\"\n",
        "    # Compute the individual loss components\n",
        "    topk_loss = topk_similarity_loss(ori_corpus_embeddings, mat_corpus_embeddings, m_dims, k)\n",
        "    pairwise_loss = pairwise_similarity_loss(ori_corpus_embeddings, mat_corpus_embeddings, m_dims)\n",
        "    rec_loss = reconstruction_loss(ori_corpus_embeddings, mat_corpus_embeddings)\n",
        "    \n",
        "    # Combine the losses with the given scaling factors\n",
        "    total_loss = topk_loss + alpha * pairwise_loss + beta * rec_loss\n",
        "    \n",
        "    return total_loss\n",
        "\n",
        "\n",
        "# Equation 5 in paper\n",
        "def matryoshka_ranking_loss(query_embeddings, corpus_embeddings, relevance_scores, m_dims, k=10):\n",
        "    \"\"\"\n",
        "    Computes the Matryoshka Ranking Loss using optimized matrix operations and normalization.\n",
        "    \n",
        "    Args:\n",
        "        query_embeddings (torch.Tensor): Query embeddings of shape (num_queries, embedding_dim).\n",
        "        corpus_embeddings (torch.Tensor): Corpus embeddings of shape (num_docs, embedding_dim).\n",
        "        relevance_scores (torch.Tensor): Relevance scores of shape (num_queries, num_docs).\n",
        "        m_dims (List[int]): List of reduced dimensionality values.\n",
        "        k (int): Number of top similar documents to consider for the loss.\n",
        "    \n",
        "    Returns:\n",
        "        torch.Tensor: The computed Matryoshka Ranking Loss.\n",
        "    \"\"\"\n",
        "    \n",
        "    total_loss = 0.0\n",
        "    num_queries = query_embeddings.size(0)\n",
        "    \n",
        "    for m in m_dims:\n",
        "        # Reduce embeddings to m dimensions\n",
        "        reduced_query_embeddings = query_embeddings[:, :m]\n",
        "        reduced_corpus_embeddings = corpus_embeddings[:, :m]\n",
        "        \n",
        "        # Normalize the embeddings to unit vectors\n",
        "        reduced_query_embeddings = F.normalize(reduced_query_embeddings, p=2, dim=1)\n",
        "        reduced_corpus_embeddings = F.normalize(reduced_corpus_embeddings, p=2, dim=1)\n",
        "        \n",
        "        # Compute cosine similarities\n",
        "        similarities = torch.matmul(reduced_query_embeddings, reduced_corpus_embeddings.T)\n",
        "        \n",
        "        # Get the top k most similar documents for each query\n",
        "        top_k_similarities, top_k_indices = torch.topk(similarities, k, dim=1, largest=True)\n",
        "        \n",
        "        # Gather the corresponding relevance scores\n",
        "        top_k_relevance = torch.gather(relevance_scores, 1, top_k_indices)\n",
        "        \n",
        "        # Calculate pairwise differences for the top-k relevance scores and similarities\n",
        "        relevance_diff = top_k_relevance.unsqueeze(2) - top_k_relevance.unsqueeze(1)\n",
        "        sim_diff = top_k_similarities.unsqueeze(2) - top_k_similarities.unsqueeze(1)\n",
        "        \n",
        "        # Only consider pairs where the relevance score difference is positive\n",
        "        positive_diff_mask = (relevance_diff > 0).float()\n",
        "        \n",
        "        # Compute the logistic loss with a numerically stable softplus\n",
        "        log_loss = F.softplus(sim_diff)\n",
        "        \n",
        "        # Weight the loss by the relevance difference and accumulate\n",
        "        weighted_loss = positive_diff_mask * relevance_diff * log_loss\n",
        "        total_loss += weighted_loss.sum() / num_queries  # Normalize by the number of queries\n",
        "    \n",
        "    return total_loss\n",
        "\n",
        "\n",
        "\n",
        "# Equation 6 in paper\n",
        "def supervised_objective_fn_loss(ori_query_embeddings, ori_corpus_embeddings, mat_query_embeddings, mat_corpus_embeddings, relevance_scores, m_dims,\n",
        "                                   k=5, alpha=1.0, beta=1.0, gamma=1.0):\n",
        "    \"\"\"\n",
        "    Computes the overall supervised objective function loss as a combination of top-k similarity loss,\n",
        "    alpha-scaled pairwise similarity loss, beta-scaled reconstruction loss and gamma-scaled matryoshka ranking loss.\n",
        "    \n",
        "    Args:\n",
        "        ori_corpus_embeddings: A tensor of shape (batch_size, embedding_dim) representing the original embeddings.\n",
        "        mat_corpus_embeddings: A tensor of shape (batch_size, mat_embedding_dim) representing the matryoshka embeddings.\n",
        "        relevance_scores: A tensor of shape (batch_size, num_docs) representing the relevance scores.\n",
        "        m_dims: List of reduced matryoshka dimensionality values.\n",
        "        k: The number of top similar embeddings to consider for the top-k similarity loss.\n",
        "        alpha: A scaling factor for the pairwise similarity loss.\n",
        "        beta: A scaling factor for the reconstruction loss.\n",
        "        \n",
        "    Returns:\n",
        "        total_loss: A scalar tensor representing the combined unsupervised objective function loss.\n",
        "    \"\"\"\n",
        "    # Compute the individual loss components\n",
        "    topk_loss = topk_similarity_loss(ori_corpus_embeddings, mat_corpus_embeddings, m_dims, k)\n",
        "    pairwise_loss = pairwise_similarity_loss(ori_corpus_embeddings, mat_corpus_embeddings, m_dims)\n",
        "    rec_loss = reconstruction_loss(ori_corpus_embeddings, mat_corpus_embeddings, beta)\n",
        "    ranking_loss = matryoshka_ranking_loss(ori_corpus_embeddings, mat_corpus_embeddings, relevance_scores, m_dims)\n",
        "\n",
        "    # Combine the losses with the given scaling factors\n",
        "    total_loss = topk_loss + alpha * pairwise_loss + beta * rec_loss + gamma * ranking_loss\n",
        "    \n",
        "    return total_loss"
      ]
    },
    {
      "cell_type": "markdown",
      "metadata": {},
      "source": [
        "### Train Function\n",
        "\n",
        "This train function is designed for both unsupervised and supervised methods to train the Matryoshka Adaptor (not the embedding model)."
      ]
    },
    {
      "cell_type": "code",
      "execution_count": 4,
      "metadata": {},
      "outputs": [],
      "source": [
        "import torch\n",
        "from torch.optim import Adam\n",
        "import wandb\n",
        "from tqdm import tqdm\n",
        "\n",
        "def train(model, mat_adaptor, train_loader, loss_fn, config, run_name):\n",
        "    \"\"\"\n",
        "    Trains the MatryoshkaAdaptor module using the provided training data.\n",
        "\n",
        "    Args:\n",
        "        model: A SentenceTransformer model to generate embeddings.\n",
        "        mat_adaptor: A MatryoshkaAdaptor module to adapt the embeddings.\n",
        "        train_loader: A DataLoader object for the training dataset.\n",
        "        loss_fn: A loss function to compute the loss between original and matryoshka embeddings.\n",
        "        config: A dictionary containing hyperparameters for training.\n",
        "        run_name: A string representing the name of the save path run.\n",
        "    Returns:\n",
        "        None\n",
        "    \"\"\"\n",
        "\n",
        "    # Detect if CUDA is available and set the device accordingly\n",
        "    device = torch.device(\"cuda\" if torch.cuda.is_available() else \"cpu\")\n",
        "    \n",
        "    # Move the model and mat_adaptor to the device\n",
        "    model.to(device)\n",
        "    mat_adaptor.to(device)\n",
        "\n",
        "    # Unpack the hyperparameters\n",
        "    epochs = config.get('epochs', 5)\n",
        "    lr = config.get('lr', 1e-3)\n",
        "    k = config.get('k', 10)  # Top-k similarity loss\n",
        "    m_dims = config.get('m_dims', [64, 128, 256])  # Matryoshka embedding dimensions\n",
        "    alpha = config.get('alpha', 1.0)  # Pairwise similarity loss scaling factor (alpha in paper)\n",
        "    beta = config.get('beta', 1.0)  # Reconstruction loss scaling factor (beta in paper)\n",
        "    gamma = config.get('gamma', 1.0)  # Ranking loss scaling factor (gamma in paper)\n",
        "\n",
        "    # Initialize Weights & Biases\n",
        "    if config.get('wandb', False):\n",
        "        wandb.init(project=\"matryoshka-training\", config=config)\n",
        "        config = wandb.config\n",
        "\n",
        "    # Define an optimizer for the MatryoshkaAdaptor parameters\n",
        "    optimizer = Adam(mat_adaptor.parameters(), lr=lr)\n",
        "\n",
        "    # Set embedding model to eval mode (so that gradients only apply to the MatryoshkaAdaptor)\n",
        "    model.eval()\n",
        "    \n",
        "    # Set MatryoshkaAdaptor to training mode\n",
        "    mat_adaptor.train()\n",
        "\n",
        "    for epoch in tqdm(range(epochs), desc=\"Epochs\"):\n",
        "        total_loss = 0\n",
        "\n",
        "        # Loop over batches in the current epoch\n",
        "        for batch in tqdm(train_loader, desc=f\"Epoch {epoch+1}/{epochs}\", leave=False):\n",
        "            if isinstance(batch, list):\n",
        "                ori_embeddings = model.encode(batch, convert_to_tensor=True).to(device)  # model batched embeddings\n",
        "                mat_embeddings = mat_adaptor(ori_embeddings)\n",
        "                loss = loss_fn(ori_embeddings, mat_embeddings, m_dims, k=k, alpha=alpha, beta=beta)\n",
        "\n",
        "            elif isinstance(batch, dict):\n",
        "                queries, corpus, relevance_scores = batch['query'], batch['corpus'], batch['relevance'].to(device)\n",
        "                ori_query_embeddings = model.encode([queries, corpus], convert_to_tensor=True).to(device)\n",
        "                ori_corpus_embeddings = model.encode(corpus, convert_to_tensor=True).to(device)\n",
        "                mat_query_embeddings = mat_adaptor(ori_query_embeddings).to(device)\n",
        "                mat_corpus_embeddings = mat_adaptor(ori_corpus_embeddings).to(device)\n",
        "                loss = loss_fn(ori_query_embeddings, ori_corpus_embeddings, mat_query_embeddings, mat_corpus_embeddings, relevance_scores, m_dims, k=k, alpha=alpha, beta=beta, gamma=gamma)\n",
        "\n",
        "            else:\n",
        "                raise ValueError(\"Invalid batch format. Please provide a list or dictionary.\")\n",
        "\n",
        "            optimizer.zero_grad()  # Clear previous gradients\n",
        "            loss.backward()        # Compute gradients\n",
        "            optimizer.step()       # Update weights\n",
        "\n",
        "            print(F\"Loss: {loss.item():.4f}\")\n",
        "            total_loss += loss.item()\n",
        "\n",
        "        # Calculate average loss for the epoch\n",
        "        avg_loss = total_loss / len(train_loader)\n",
        "        \n",
        "        # Log the average loss to W&B\n",
        "        if config.get('wandb', False):\n",
        "            wandb.log({\"epoch\": epoch + 1, \"loss\": avg_loss})\n",
        "        \n",
        "        # Print average loss for the epoch\n",
        "        print(f\"Epoch {epoch + 1}/{epochs}, Loss: {avg_loss:.4f}\")\n",
        "\n",
        "        # Save model checkpoint every 5 epochs and on the final epoch\n",
        "        if (epoch + 1) % 5 == 0 or (epoch + 1) == epochs:\n",
        "            checkpoint_path = f\"{run_name}_epoch_{epoch+1}.pt\"\n",
        "            torch.save({\n",
        "                'epoch': epoch + 1,\n",
        "                'model_state_dict': mat_adaptor.state_dict(),\n",
        "                'input_output_dim': mat_adaptor.input_output_dim,\n",
        "                'hidden_dim': mat_adaptor.hidden_dim,\n",
        "                'optimizer_state_dict': optimizer.state_dict(),\n",
        "                'loss': avg_loss,\n",
        "            }, checkpoint_path)\n",
        "            print(f\"Checkpoint saved at {checkpoint_path}\")\n",
        "\n",
        "    # Final save (this is optional if the final epoch is a multiple of 5)\n",
        "    final_checkpoint_path = f\"{run_name}_epoch_{epochs}_final.pt\"\n",
        "    torch.save({\n",
        "        'epoch': epochs,\n",
        "        'model_state_dict': mat_adaptor.state_dict(),\n",
        "        'input_output_dim': mat_adaptor.input_output_dim,\n",
        "        'hidden_dim': mat_adaptor.hidden_dim,\n",
        "        'optimizer_state_dict': optimizer.state_dict(),\n",
        "        'loss': avg_loss,\n",
        "    }, final_checkpoint_path)\n",
        "    print(f\"Final checkpoint saved at {final_checkpoint_path}\")\n",
        "    \n",
        "\n",
        "    # Finish the W&B run\n",
        "    if config.get('wandb', False):\n",
        "        wandb.finish()\n"
      ]
    },
    {
      "cell_type": "markdown",
      "metadata": {
        "id": "_q9GK1c80AGX"
      },
      "source": [
        "## Training of Adaptor"
      ]
    },
    {
      "cell_type": "markdown",
      "metadata": {
        "id": "Qsb8bFydrejN"
      },
      "source": [
        "### Unsupervised Implementation"
      ]
    },
    {
      "cell_type": "markdown",
      "metadata": {
        "id": "4wfOS9tZEgZ0"
      },
      "source": [
        "#### Prepare Datasets \n",
        "\n",
        "We will use BEIR's NFCorpus, and train on the corpus only in an unsupervised manner, as detailed in the paper."
      ]
    },
    {
      "cell_type": "code",
      "execution_count": 5,
      "metadata": {
        "id": "Tf7kTmMfsrUM"
      },
      "outputs": [],
      "source": [
        "from datasets import load_dataset\n",
        "from torch.utils.data import DataLoader, random_split\n",
        "import torch\n",
        "\n",
        "# Load the dataset\n",
        "# ds = load_dataset(\"BeIR/nfcorpus\", \"corpus\")\n",
        "ds = load_dataset(\"BeIR/webis-touche2020\", \"corpus\")\n",
        "\n",
        "# Access the 'corpus' dataset\n",
        "dataset = ds['corpus']['text']\n",
        "\n",
        "# Define the split sizes\n",
        "train_size = int(0.7 * len(dataset))\n",
        "test_size = len(dataset) - train_size\n",
        "\n",
        "# Split the dataset\n",
        "train_dataset, test_dataset = random_split(dataset, [train_size, test_size])"
      ]
    },
    {
      "cell_type": "markdown",
      "metadata": {},
      "source": [
        "#### Prepare Embedding Model and Matryoshka-Adaptor"
      ]
    },
    {
      "cell_type": "code",
      "execution_count": 6,
      "metadata": {
        "colab": {
          "base_uri": "https://localhost:8080/",
          "height": 216
        },
        "id": "ccU_oZwyPQ37",
        "outputId": "8da10a58-7ccc-49bb-ef60-c1ff58a6a939"
      },
      "outputs": [],
      "source": [
        "from sentence_transformers import SentenceTransformer\n",
        "\n",
        "# Embedding Model\n",
        "model = SentenceTransformer('sentence-transformers/all-MiniLM-L6-v2')\n",
        "\n",
        "# Matryoshka-Adaptor\n",
        "input_output_dim = model.get_sentence_embedding_dimension() # Embedding dimension for model (d in paper)\n",
        "hidden_dim = input_output_dim # Let hidden layer dimension equal the embedding model dimension\n",
        "mat_adaptor = MatryoshkaAdaptor(input_output_dim, hidden_dim)"
      ]
    },
    {
      "cell_type": "markdown",
      "metadata": {},
      "source": [
        "#### Train Matryoshka-Adaptor"
      ]
    },
    {
      "cell_type": "code",
      "execution_count": 7,
      "metadata": {},
      "outputs": [
        {
          "name": "stderr",
          "output_type": "stream",
          "text": [
            "Epochs:   0%|          | 0/5 [01:54<?, ?it/s]\n"
          ]
        },
        {
          "ename": "KeyboardInterrupt",
          "evalue": "",
          "output_type": "error",
          "traceback": [
            "\u001b[0;31m---------------------------------------------------------------------------\u001b[0m",
            "\u001b[0;31mKeyboardInterrupt\u001b[0m                         Traceback (most recent call last)",
            "Cell \u001b[0;32mIn[7], line 16\u001b[0m\n\u001b[1;32m     13\u001b[0m train_dataloader \u001b[38;5;241m=\u001b[39m DataLoader(train_dataset, batch_size\u001b[38;5;241m=\u001b[39mhyperparams[\u001b[38;5;124m'\u001b[39m\u001b[38;5;124mbatch_size\u001b[39m\u001b[38;5;124m'\u001b[39m], shuffle\u001b[38;5;241m=\u001b[39m\u001b[38;5;28;01mTrue\u001b[39;00m)\n\u001b[1;32m     15\u001b[0m run_name \u001b[38;5;241m=\u001b[39m \u001b[38;5;124m\"\u001b[39m\u001b[38;5;124mckpts/unsupervised_ma\u001b[39m\u001b[38;5;124m\"\u001b[39m\n\u001b[0;32m---> 16\u001b[0m \u001b[43mtrain\u001b[49m\u001b[43m(\u001b[49m\u001b[43mmodel\u001b[49m\u001b[43m,\u001b[49m\u001b[43m \u001b[49m\u001b[43mmat_adaptor\u001b[49m\u001b[43m,\u001b[49m\u001b[43m \u001b[49m\u001b[43mtrain_dataloader\u001b[49m\u001b[43m,\u001b[49m\u001b[43m \u001b[49m\u001b[43munsupervised_objective_fn_loss\u001b[49m\u001b[43m,\u001b[49m\u001b[43m \u001b[49m\u001b[43mhyperparams\u001b[49m\u001b[43m,\u001b[49m\u001b[43m \u001b[49m\u001b[43mrun_name\u001b[49m\u001b[43m)\u001b[49m\n",
            "Cell \u001b[0;32mIn[4], line 59\u001b[0m, in \u001b[0;36mtrain\u001b[0;34m(model, mat_adaptor, train_loader, loss_fn, config, run_name)\u001b[0m\n\u001b[1;32m     57\u001b[0m     ori_embeddings \u001b[38;5;241m=\u001b[39m model\u001b[38;5;241m.\u001b[39mencode(batch, convert_to_tensor\u001b[38;5;241m=\u001b[39m\u001b[38;5;28;01mTrue\u001b[39;00m)\u001b[38;5;241m.\u001b[39mto(device)  \u001b[38;5;66;03m# model batched embeddings\u001b[39;00m\n\u001b[1;32m     58\u001b[0m     mat_embeddings \u001b[38;5;241m=\u001b[39m mat_adaptor(ori_embeddings)\n\u001b[0;32m---> 59\u001b[0m     loss \u001b[38;5;241m=\u001b[39m \u001b[43mloss_fn\u001b[49m\u001b[43m(\u001b[49m\u001b[43mori_embeddings\u001b[49m\u001b[43m,\u001b[49m\u001b[43m \u001b[49m\u001b[43mmat_embeddings\u001b[49m\u001b[43m,\u001b[49m\u001b[43m \u001b[49m\u001b[43mm_dims\u001b[49m\u001b[43m,\u001b[49m\u001b[43m \u001b[49m\u001b[43mk\u001b[49m\u001b[38;5;241;43m=\u001b[39;49m\u001b[43mk\u001b[49m\u001b[43m,\u001b[49m\u001b[43m \u001b[49m\u001b[43malpha\u001b[49m\u001b[38;5;241;43m=\u001b[39;49m\u001b[43malpha\u001b[49m\u001b[43m,\u001b[49m\u001b[43m \u001b[49m\u001b[43mbeta\u001b[49m\u001b[38;5;241;43m=\u001b[39;49m\u001b[43mbeta\u001b[49m\u001b[43m)\u001b[49m\n\u001b[1;32m     61\u001b[0m \u001b[38;5;28;01melif\u001b[39;00m \u001b[38;5;28misinstance\u001b[39m(batch, \u001b[38;5;28mdict\u001b[39m):\n\u001b[1;32m     62\u001b[0m     queries, corpus, relevance_scores \u001b[38;5;241m=\u001b[39m batch[\u001b[38;5;124m'\u001b[39m\u001b[38;5;124mquery\u001b[39m\u001b[38;5;124m'\u001b[39m], batch[\u001b[38;5;124m'\u001b[39m\u001b[38;5;124mcorpus\u001b[39m\u001b[38;5;124m'\u001b[39m], batch[\u001b[38;5;124m'\u001b[39m\u001b[38;5;124mrelevance\u001b[39m\u001b[38;5;124m'\u001b[39m]\u001b[38;5;241m.\u001b[39mto(device)\n",
            "Cell \u001b[0;32mIn[3], line 150\u001b[0m, in \u001b[0;36munsupervised_objective_fn_loss\u001b[0;34m(ori_corpus_embeddings, mat_corpus_embeddings, m_dims, k, alpha, beta)\u001b[0m\n\u001b[1;32m    148\u001b[0m topk_loss \u001b[38;5;241m=\u001b[39m topk_similarity_loss(ori_corpus_embeddings, mat_corpus_embeddings, m_dims, k)\n\u001b[1;32m    149\u001b[0m pairwise_loss \u001b[38;5;241m=\u001b[39m pairwise_similarity_loss(ori_corpus_embeddings, mat_corpus_embeddings, m_dims)\n\u001b[0;32m--> 150\u001b[0m rec_loss \u001b[38;5;241m=\u001b[39m \u001b[43mreconstruction_loss\u001b[49m\u001b[43m(\u001b[49m\u001b[43mori_corpus_embeddings\u001b[49m\u001b[43m,\u001b[49m\u001b[43m \u001b[49m\u001b[43mmat_corpus_embeddings\u001b[49m\u001b[43m)\u001b[49m\n\u001b[1;32m    152\u001b[0m \u001b[38;5;66;03m# Combine the losses with the given scaling factors\u001b[39;00m\n\u001b[1;32m    153\u001b[0m total_loss \u001b[38;5;241m=\u001b[39m topk_loss \u001b[38;5;241m+\u001b[39m alpha \u001b[38;5;241m*\u001b[39m pairwise_loss \u001b[38;5;241m+\u001b[39m beta \u001b[38;5;241m*\u001b[39m rec_loss\n",
            "Cell \u001b[0;32mIn[3], line 124\u001b[0m, in \u001b[0;36mreconstruction_loss\u001b[0;34m(ori_corpus_embeddings, mat_corpus_embeddings)\u001b[0m\n\u001b[1;32m    121\u001b[0m abs_diff \u001b[38;5;241m=\u001b[39m torch\u001b[38;5;241m.\u001b[39mabs(ori_corpus_embeddings \u001b[38;5;241m-\u001b[39m mat_corpus_embeddings)\n\u001b[1;32m    123\u001b[0m \u001b[38;5;66;03m# Sum over all dimensions\u001b[39;00m\n\u001b[0;32m--> 124\u001b[0m loss \u001b[38;5;241m=\u001b[39m \u001b[43mabs_diff\u001b[49m\u001b[38;5;241m.\u001b[39msum()\n\u001b[1;32m    126\u001b[0m \u001b[38;5;28;01mreturn\u001b[39;00m loss\n",
            "File \u001b[0;32m~/anaconda3/envs/ML_Dev/lib/python3.12/site-packages/debugpy/_vendored/pydevd/_pydevd_bundle/pydevd_frame.py:1197\u001b[0m, in \u001b[0;36mPyDBFrame.trace_dispatch\u001b[0;34m(self, frame, event, arg)\u001b[0m\n\u001b[1;32m   1195\u001b[0m \u001b[38;5;28;01mif\u001b[39;00m is_line:\n\u001b[1;32m   1196\u001b[0m     \u001b[38;5;28mself\u001b[39m\u001b[38;5;241m.\u001b[39mset_suspend(thread, step_cmd, original_step_cmd\u001b[38;5;241m=\u001b[39minfo\u001b[38;5;241m.\u001b[39mpydev_original_step_cmd)\n\u001b[0;32m-> 1197\u001b[0m     \u001b[38;5;28;43mself\u001b[39;49m\u001b[38;5;241;43m.\u001b[39;49m\u001b[43mdo_wait_suspend\u001b[49m\u001b[43m(\u001b[49m\u001b[43mthread\u001b[49m\u001b[43m,\u001b[49m\u001b[43m \u001b[49m\u001b[43mframe\u001b[49m\u001b[43m,\u001b[49m\u001b[43m \u001b[49m\u001b[43mevent\u001b[49m\u001b[43m,\u001b[49m\u001b[43m \u001b[49m\u001b[43marg\u001b[49m\u001b[43m)\u001b[49m\n\u001b[1;32m   1198\u001b[0m \u001b[38;5;28;01melif\u001b[39;00m is_return:  \u001b[38;5;66;03m# return event\u001b[39;00m\n\u001b[1;32m   1199\u001b[0m     back \u001b[38;5;241m=\u001b[39m frame\u001b[38;5;241m.\u001b[39mf_back\n",
            "File \u001b[0;32m~/anaconda3/envs/ML_Dev/lib/python3.12/site-packages/debugpy/_vendored/pydevd/_pydevd_bundle/pydevd_frame.py:165\u001b[0m, in \u001b[0;36mPyDBFrame.do_wait_suspend\u001b[0;34m(self, *args, **kwargs)\u001b[0m\n\u001b[1;32m    164\u001b[0m \u001b[38;5;28;01mdef\u001b[39;00m \u001b[38;5;21mdo_wait_suspend\u001b[39m(\u001b[38;5;28mself\u001b[39m, \u001b[38;5;241m*\u001b[39margs, \u001b[38;5;241m*\u001b[39m\u001b[38;5;241m*\u001b[39mkwargs):\n\u001b[0;32m--> 165\u001b[0m     \u001b[38;5;28;43mself\u001b[39;49m\u001b[38;5;241;43m.\u001b[39;49m\u001b[43m_args\u001b[49m\u001b[43m[\u001b[49m\u001b[38;5;241;43m0\u001b[39;49m\u001b[43m]\u001b[49m\u001b[38;5;241;43m.\u001b[39;49m\u001b[43mdo_wait_suspend\u001b[49m\u001b[43m(\u001b[49m\u001b[38;5;241;43m*\u001b[39;49m\u001b[43margs\u001b[49m\u001b[43m,\u001b[49m\u001b[43m \u001b[49m\u001b[38;5;241;43m*\u001b[39;49m\u001b[38;5;241;43m*\u001b[39;49m\u001b[43mkwargs\u001b[49m\u001b[43m)\u001b[49m\n",
            "File \u001b[0;32m~/anaconda3/envs/ML_Dev/lib/python3.12/site-packages/debugpy/_vendored/pydevd/pydevd.py:2070\u001b[0m, in \u001b[0;36mPyDB.do_wait_suspend\u001b[0;34m(self, thread, frame, event, arg, exception_type)\u001b[0m\n\u001b[1;32m   2067\u001b[0m             from_this_thread\u001b[38;5;241m.\u001b[39mappend(frame_custom_thread_id)\n\u001b[1;32m   2069\u001b[0m     \u001b[38;5;28;01mwith\u001b[39;00m \u001b[38;5;28mself\u001b[39m\u001b[38;5;241m.\u001b[39m_threads_suspended_single_notification\u001b[38;5;241m.\u001b[39mnotify_thread_suspended(thread_id, thread, stop_reason):\n\u001b[0;32m-> 2070\u001b[0m         keep_suspended \u001b[38;5;241m=\u001b[39m \u001b[38;5;28;43mself\u001b[39;49m\u001b[38;5;241;43m.\u001b[39;49m\u001b[43m_do_wait_suspend\u001b[49m\u001b[43m(\u001b[49m\u001b[43mthread\u001b[49m\u001b[43m,\u001b[49m\u001b[43m \u001b[49m\u001b[43mframe\u001b[49m\u001b[43m,\u001b[49m\u001b[43m \u001b[49m\u001b[43mevent\u001b[49m\u001b[43m,\u001b[49m\u001b[43m \u001b[49m\u001b[43marg\u001b[49m\u001b[43m,\u001b[49m\u001b[43m \u001b[49m\u001b[43msuspend_type\u001b[49m\u001b[43m,\u001b[49m\u001b[43m \u001b[49m\u001b[43mfrom_this_thread\u001b[49m\u001b[43m,\u001b[49m\u001b[43m \u001b[49m\u001b[43mframes_tracker\u001b[49m\u001b[43m)\u001b[49m\n\u001b[1;32m   2072\u001b[0m frames_list \u001b[38;5;241m=\u001b[39m \u001b[38;5;28;01mNone\u001b[39;00m\n\u001b[1;32m   2074\u001b[0m \u001b[38;5;28;01mif\u001b[39;00m keep_suspended:\n\u001b[1;32m   2075\u001b[0m     \u001b[38;5;66;03m# This means that we should pause again after a set next statement.\u001b[39;00m\n",
            "File \u001b[0;32m~/anaconda3/envs/ML_Dev/lib/python3.12/site-packages/debugpy/_vendored/pydevd/pydevd.py:2106\u001b[0m, in \u001b[0;36mPyDB._do_wait_suspend\u001b[0;34m(self, thread, frame, event, arg, suspend_type, from_this_thread, frames_tracker)\u001b[0m\n\u001b[1;32m   2103\u001b[0m         \u001b[38;5;28mself\u001b[39m\u001b[38;5;241m.\u001b[39m_call_input_hook()\n\u001b[1;32m   2105\u001b[0m     \u001b[38;5;28mself\u001b[39m\u001b[38;5;241m.\u001b[39mprocess_internal_commands()\n\u001b[0;32m-> 2106\u001b[0m     \u001b[43mtime\u001b[49m\u001b[38;5;241;43m.\u001b[39;49m\u001b[43msleep\u001b[49m\u001b[43m(\u001b[49m\u001b[38;5;241;43m0.01\u001b[39;49m\u001b[43m)\u001b[49m\n\u001b[1;32m   2108\u001b[0m \u001b[38;5;28mself\u001b[39m\u001b[38;5;241m.\u001b[39mcancel_async_evaluation(get_current_thread_id(thread), \u001b[38;5;28mstr\u001b[39m(\u001b[38;5;28mid\u001b[39m(frame)))\n\u001b[1;32m   2110\u001b[0m \u001b[38;5;66;03m# process any stepping instructions\u001b[39;00m\n",
            "\u001b[0;31mKeyboardInterrupt\u001b[0m: "
          ]
        }
      ],
      "source": [
        "hyperparams = {\n",
        "    'epochs': 5,\n",
        "    'lr': 1e-3,\n",
        "    'batch_size': 128,\n",
        "    'k': 5,  # Top-k similarity loss\n",
        "    'm_dims': [i for i in range(1, 385)],  # Matryoshka embedding dimensions up to the original embedding dimension\n",
        "    'alpha': 1.0,  # Pairwise similarity loss scaling factor (alpha in paper)\n",
        "    'beta': 1.0,  # reconstruction loss scaling factor (beta in paper)\n",
        "    'wandb': False\n",
        "}\n",
        "\n",
        "# Create DataLoader for train and test datasets\n",
        "train_dataloader = DataLoader(train_dataset, batch_size=hyperparams['batch_size'], shuffle=True)\n",
        "\n",
        "run_name = \"ckpts/unsupervised_ma\"\n",
        "train(model, mat_adaptor, train_dataloader, unsupervised_objective_fn_loss, hyperparams, run_name)"
      ]
    },
    {
      "cell_type": "markdown",
      "metadata": {},
      "source": [
        "### Supervised Implementation"
      ]
    },
    {
      "cell_type": "markdown",
      "metadata": {},
      "source": [
        "#### Prepare Datasets\n",
        "\n",
        "As before, we will use BEIR's NFCorpus, and train on the corpus-query pairs in a supervised manner, as detailed in the paper.\n",
        "We need to manually download the BEIR dataset since the qrels cannot be accessed on the huggingface dataset. "
      ]
    },
    {
      "cell_type": "code",
      "execution_count": null,
      "metadata": {},
      "outputs": [],
      "source": [
        "from beir import util, LoggingHandler\n",
        "from beir.datasets.data_loader import GenericDataLoader\n",
        "import torch\n",
        "from torch.utils.data import Dataset, DataLoader\n",
        "import logging\n",
        "\n",
        "# Set up logging\n",
        "logging.basicConfig(format='%(asctime)s - %(message)s', level=logging.INFO, handlers=[LoggingHandler()])\n",
        "\n",
        "# Define the dataset name and the path to store it\n",
        "dataset = \"nfcorpus\"\n",
        "url = f\"https://public.ukp.informatik.tu-darmstadt.de/thakur/BEIR/datasets/{dataset}.zip\"\n",
        "data_path = util.download_and_unzip(url, \"datasets\")\n",
        "\n",
        "# Load train and test data\n",
        "train_corpus, train_queries, train_qrels = GenericDataLoader(data_path).load(split=\"train\")\n",
        "dev_corpus, dev_queries, dev_qrels = GenericDataLoader(data_path).load(split=\"dev\")\n",
        "test_corpus, test_queries, test_qrels = GenericDataLoader(data_path).load(split=\"test\")\n",
        "\n",
        "class BEIRDataset(Dataset):\n",
        "    def __init__(self, query, corpus, qrels):\n",
        "        self.query = query\n",
        "        self.corpus = corpus\n",
        "        self.qrels = qrels\n",
        "        self.query_ids = list(query.keys())\n",
        "        \n",
        "    def __len__(self):\n",
        "        return len(self.query_ids)\n",
        "    \n",
        "    def __getitem__(self, idx):\n",
        "        query_id = self.query_ids[idx]\n",
        "        query = self.query[query_id]\n",
        "        \n",
        "        relevant_docs = self.qrels.get(query_id, {})\n",
        "        \n",
        "        # Get all document ids and relevance for this query\n",
        "        corpus_ids = list(relevant_docs.keys())\n",
        "        relevance = [relevant_docs[doc_id] for doc_id in corpus_ids]\n",
        "        \n",
        "        # Get document texts\n",
        "        corpus = [self.corpus[doc_id] for doc_id in corpus_ids]\n",
        "        \n",
        "        return {\n",
        "            'query_id': query_id,\n",
        "            'query': query,\n",
        "            'corpus_ids': corpus_ids,\n",
        "            'corpus': corpus,\n",
        "            'relevance': relevance\n",
        "        }\n",
        "    \n",
        "\n",
        "def collate_fn(batch):\n",
        "    query_ids = [item['query_id'] for item in batch]\n",
        "    query = [item['query'] for item in batch]\n",
        "    corpus_ids = [item['corpus_ids'] for item in batch]\n",
        "    corpus = [item['corpus'] for item in batch]\n",
        "    relevance = [item['relevance'] for item in batch]\n",
        "    \n",
        "    # Pad sequences if necessary\n",
        "    max_docs = max(len(docs) for docs in corpus_ids)\n",
        "    \n",
        "    padded_corpus_ids = [docs + [''] * (max_docs - len(docs)) for docs in corpus_ids]\n",
        "    padded_corpus = [texts + [''] * (max_docs - len(texts)) for texts in corpus]\n",
        "    padded_relevance = [s + [0] * (max_docs - len(s)) for s in relevance]\n",
        "    \n",
        "    return {\n",
        "        'query_ids': query_ids,\n",
        "        'query': query,\n",
        "        'corpus_ids': padded_corpus_ids,  # Keep as a list of lists\n",
        "        'corpus': padded_corpus,  # Keep as a list of lists\n",
        "        'relevance': torch.tensor(padded_relevance)  # Convert only relevance to tensor\n",
        "    }\n"
      ]
    },
    {
      "cell_type": "markdown",
      "metadata": {},
      "source": [
        "#### Prepare Embedding Model and Matryoshka-Adaptor"
      ]
    },
    {
      "cell_type": "code",
      "execution_count": null,
      "metadata": {},
      "outputs": [],
      "source": [
        "from sentence_transformers import SentenceTransformer\n",
        "\n",
        "# Embedding Model\n",
        "model = SentenceTransformer('sentence-transformers/all-MiniLM-L6-v2')\n",
        "\n",
        "# Matryoshka-Adaptor\n",
        "input_output_dim = model.get_sentence_embedding_dimension() # Embedding dimension for model (d in paper)\n",
        "hidden_dim = input_output_dim # Let hidden layer dimension equal the embedding model dimension\n",
        "mat_adaptor = MatryoshkaAdaptor(input_output_dim, hidden_dim)"
      ]
    },
    {
      "cell_type": "markdown",
      "metadata": {},
      "source": [
        "#### Train Matryoshka-Adaptor"
      ]
    },
    {
      "cell_type": "code",
      "execution_count": null,
      "metadata": {},
      "outputs": [],
      "source": [
        "hyperparams = {\n",
        "    'epochs': 5,\n",
        "    'lr': 5e-4,\n",
        "    'batch_size': 128,\n",
        "    'k': 5,  # Top-k similarity loss\n",
        "    'm_dims': [i for i in range(1, 385)],  # Matryoshka embedding dimensions up to the original embedding dimension\n",
        "    'alpha': 1.0,  # Pairwise similarity loss scaling factor (alpha in paper)\n",
        "    'beta': 1.0,  # reconstruction loss scaling factor (beta in paper)\n",
        "    'gamma': 1.0,  # Ranking loss scaling factor (gamma in paper)\n",
        "    'wandb': False,\n",
        "}\n",
        "\n",
        "train_dataset = BEIRDataset(train_queries, train_corpus, train_qrels)\n",
        "train_dataloader = DataLoader(train_dataset, batch_size=hyperparams['batch_size'], shuffle=True, collate_fn=collate_fn)\n",
        "    \n",
        "# dev_dataset = BEIRDataset(dev_queries, dev_corpus, dev_qrels)\n",
        "# dev_dataloader = DataLoader(dev_dataset, batch_size=hyperparams['batch_size'], shuffle=True, collate_fn=collate_fn)\n",
        "\n",
        "# test_dataset = BEIRDataset(test_queries, test_corpus, test_qrels)\n",
        "# test_dataloader = DataLoader(test_dataset, batch_size=hyperparams['batch_size'], shuffle=True, collate_fn=collate_fn)\n",
        "\n",
        "run_name = \"ckpts/supervised_ma\"\n",
        "train(model, mat_adaptor, train_dataloader, supervised_objective_fn_loss, hyperparams, run_name)"
      ]
    },
    {
      "cell_type": "markdown",
      "metadata": {
        "id": "vhFgceqlt8xx"
      },
      "source": [
        "## BEIR Evaluation using NFCorpus"
      ]
    },
    {
      "cell_type": "markdown",
      "metadata": {
        "id": "84bFC2eMSAQW"
      },
      "source": [
        "### Unmodified Model Performance for all-MiniLM-L6-v2"
      ]
    },
    {
      "cell_type": "code",
      "execution_count": null,
      "metadata": {},
      "outputs": [],
      "source": [
        "import torch\n",
        "from sentence_transformers import SentenceTransformer\n",
        "\n",
        "# Rudimentary SentenceTransformer subclass to crop embeddings\n",
        "class CropSentenceTransformer(SentenceTransformer):\n",
        "    def __init__(self, model_name_or_path, m):\n",
        "        super(CropSentenceTransformer, self).__init__(model_name_or_path)\n",
        "        self.model = SentenceTransformer(model_name_or_path)\n",
        "        self.m = m\n",
        "\n",
        "    def encode(self, sentences, **kwargs):\n",
        "        # Get the embeddings from the embedding model\n",
        "        embeddings = self.model.encode(sentences, **kwargs)\n",
        "\n",
        "        # Crop the embeddings to the desired dimension m\n",
        "        reduced_embeddings = embeddings[:, :self.m]\n",
        "        \n",
        "        return reduced_embeddings"
      ]
    },
    {
      "cell_type": "code",
      "execution_count": null,
      "metadata": {
        "colab": {
          "base_uri": "https://localhost:8080/",
          "height": 275
        },
        "id": "LlrIjQBAs7b2",
        "outputId": "d7589094-fb96-42d5-b90a-59ca05231210"
      },
      "outputs": [],
      "source": [
        "import mteb\n",
        "m_dims = [64, 128, 256, 384]\n",
        "for m in m_dims:\n",
        "    model = CropSentenceTransformer('sentence-transformers/all-MiniLM-L6-v2', m)\n",
        "    model_name = 'all-MiniLM-L6-v2_BASE'\n",
        "\n",
        "    # Define the BEIR tasks you want to evaluate on\n",
        "    tasks = mteb.get_tasks(tasks=[\"NFCorpus\"])\n",
        "\n",
        "    # Evaluate the model on the benchmark\n",
        "    evaluation = mteb.MTEB(tasks=tasks)\n",
        "    results = evaluation.run(model, output_folder=f\"results/NFCorpus/{model_name}/{m}\", eval_splits=[\"test\"])"
      ]
    },
    {
      "cell_type": "markdown",
      "metadata": {},
      "source": [
        "### all-MiniLM-L6-v2 + PCA"
      ]
    },
    {
      "cell_type": "code",
      "execution_count": null,
      "metadata": {},
      "outputs": [],
      "source": [
        "from sentence_transformers import SentenceTransformer\n",
        "from sklearn.decomposition import PCA\n",
        "import numpy as np\n",
        "\n",
        "class PCASentenceTransformer(SentenceTransformer):\n",
        "    \"\"\"\n",
        "    A SentenceTransformer model that applies PCA to reduce the dimensionality of the embeddings. \n",
        "    It serves as a wrapper to the inputted SentenceTransformer. \n",
        "    \"\"\"\n",
        "    def __init__(self, model_name_or_path, pca_components=128):\n",
        "        super().__init__(model_name_or_path)\n",
        "        self.pca_components = pca_components\n",
        "        self.pca = None\n",
        "\n",
        "    def fit_pca(self, embeddings):\n",
        "        \"\"\"Fits PCA on the provided embeddings.\"\"\"\n",
        "        self.pca = PCA(n_components=self.pca_components)\n",
        "        self.pca.fit(embeddings)\n",
        "\n",
        "    def encode(self, sentences, **kwargs):\n",
        "        \"\"\"Encodes the sentences and applies PCA to reduce dimensions.\"\"\"\n",
        "        # First, get the embeddings from the parent class method\n",
        "        embeddings = super().encode(sentences, **kwargs)\n",
        "\n",
        "        # If PCA is not fitted, fit it using the embeddings\n",
        "        if self.pca is None:\n",
        "            self.fit_pca(embeddings)\n",
        "\n",
        "        # Transform the embeddings using the fitted PCA model\n",
        "        reduced_embeddings = self.pca.transform(embeddings)\n",
        "        return reduced_embeddings"
      ]
    },
    {
      "cell_type": "code",
      "execution_count": null,
      "metadata": {},
      "outputs": [],
      "source": [
        "import mteb\n",
        "\n",
        "m_dims = [64, 128, 256, 384]\n",
        "for m in m_dims:\n",
        "    # Create PCA model\n",
        "    pca_model = PCASentenceTransformer('sentence-transformers/all-MiniLM-L6-v2', pca_components=m)\n",
        "    model_name = f'all-MiniLM-L6-v2_PCA'\n",
        "\n",
        "    # Ensure the model is on the right device\n",
        "    pca_model.to('cpu') # sklearn PCA does not support GPU\n",
        "\n",
        "    # Define the BEIR tasks you want to evaluate on\n",
        "    tasks = mteb.get_tasks(tasks=[\"NFCorpus\"])\n",
        "\n",
        "    # Evaluate the model on the benchmark\n",
        "    evaluation = mteb.MTEB(tasks=tasks)\n",
        "    \n",
        "    # Ensure the model's output is on the CPU before passing to numpy\n",
        "    results = evaluation.run(pca_model, output_folder=f\"results/NFCorpus/{model_name}/{m}\", eval_splits=[\"test\"])\n"
      ]
    },
    {
      "cell_type": "markdown",
      "metadata": {},
      "source": [
        "### all-MiniLM-L6-v2 + Unsupervised Matryoshka Adaptor"
      ]
    },
    {
      "cell_type": "code",
      "execution_count": 1,
      "metadata": {},
      "outputs": [],
      "source": [
        "import torch\n",
        "from sentence_transformers import SentenceTransformer\n",
        "\n",
        "class MASentenceTransformer(SentenceTransformer):\n",
        "    def __init__(self, model_name_or_path, ma_ckpt, m):\n",
        "        super(MASentenceTransformer, self).__init__(model_name_or_path)\n",
        "        self.model = SentenceTransformer(model_name_or_path)\n",
        "        self.m = m\n",
        "\n",
        "        # Matryoshka-Adaptor\n",
        "        self.mat_adaptor = MatryoshkaAdaptor(self.model.get_sentence_embedding_dimension(), self.model.get_sentence_embedding_dimension())\n",
        "\n",
        "        # Load the state dictionary from the checkpoint\n",
        "        self.mat_adaptor.load_state_dict(torch.load(ma_ckpt)['model_state_dict'])\n",
        "\n",
        "    def encode(self, sentences, **kwargs):\n",
        "        # Get the embeddings from the embedding model\n",
        "        embeddings = self.model.encode(sentences, **kwargs)\n",
        "\n",
        "        # Transform the embeddings using the Matryoshka Adaptor\n",
        "        reduced_embeddings = self.mat_adaptor(embeddings)\n",
        "\n",
        "        # Crop the embeddings to the desired dimension m\n",
        "        reduced_embeddings = reduced_embeddings[:, :self.m]\n",
        "        \n",
        "        return reduced_embeddings"
      ]
    },
    {
      "cell_type": "code",
      "execution_count": 7,
      "metadata": {},
      "outputs": [
        {
          "data": {
            "text/html": [
              "<pre style=\"white-space:pre;overflow-x:auto;line-height:normal;font-family:Menlo,'DejaVu Sans Mono',consolas,'Courier New',monospace\"><span style=\"color: #262626; text-decoration-color: #262626\">───────────────────────────────────────────────── </span><span style=\"font-weight: bold\">Selected tasks </span><span style=\"color: #262626; text-decoration-color: #262626\"> ─────────────────────────────────────────────────</span>\n",
              "</pre>\n"
            ],
            "text/plain": [
              "\u001b[38;5;235m───────────────────────────────────────────────── \u001b[0m\u001b[1mSelected tasks \u001b[0m\u001b[38;5;235m ─────────────────────────────────────────────────\u001b[0m\n"
            ]
          },
          "metadata": {},
          "output_type": "display_data"
        },
        {
          "data": {
            "text/html": [
              "<pre style=\"white-space:pre;overflow-x:auto;line-height:normal;font-family:Menlo,'DejaVu Sans Mono',consolas,'Courier New',monospace\"><span style=\"font-weight: bold\">Retrieval</span>\n",
              "</pre>\n"
            ],
            "text/plain": [
              "\u001b[1mRetrieval\u001b[0m\n"
            ]
          },
          "metadata": {},
          "output_type": "display_data"
        },
        {
          "data": {
            "text/html": [
              "<pre style=\"white-space:pre;overflow-x:auto;line-height:normal;font-family:Menlo,'DejaVu Sans Mono',consolas,'Courier New',monospace\">    - NFCorpus, <span style=\"color: #626262; text-decoration-color: #626262; font-style: italic\">s2p</span>\n",
              "</pre>\n"
            ],
            "text/plain": [
              "    - NFCorpus, \u001b[3;38;5;241ms2p\u001b[0m\n"
            ]
          },
          "metadata": {},
          "output_type": "display_data"
        },
        {
          "data": {
            "text/html": [
              "<pre style=\"white-space:pre;overflow-x:auto;line-height:normal;font-family:Menlo,'DejaVu Sans Mono',consolas,'Courier New',monospace\">\n",
              "\n",
              "</pre>\n"
            ],
            "text/plain": [
              "\n",
              "\n"
            ]
          },
          "metadata": {},
          "output_type": "display_data"
        },
        {
          "name": "stderr",
          "output_type": "stream",
          "text": [
            "Batches: 100%|██████████| 3/3 [00:01<00:00,  2.33it/s]\n",
            "Batches: 100%|██████████| 29/29 [04:53<00:00, 10.13s/it]\n"
          ]
        },
        {
          "name": "stdout",
          "output_type": "stream",
          "text": [
            "[MTEBResults(task_name=NFCorpus, scores=...)]\n"
          ]
        },
        {
          "data": {
            "text/html": [
              "<pre style=\"white-space:pre;overflow-x:auto;line-height:normal;font-family:Menlo,'DejaVu Sans Mono',consolas,'Courier New',monospace\"><span style=\"color: #262626; text-decoration-color: #262626\">───────────────────────────────────────────────── </span><span style=\"font-weight: bold\">Selected tasks </span><span style=\"color: #262626; text-decoration-color: #262626\"> ─────────────────────────────────────────────────</span>\n",
              "</pre>\n"
            ],
            "text/plain": [
              "\u001b[38;5;235m───────────────────────────────────────────────── \u001b[0m\u001b[1mSelected tasks \u001b[0m\u001b[38;5;235m ─────────────────────────────────────────────────\u001b[0m\n"
            ]
          },
          "metadata": {},
          "output_type": "display_data"
        },
        {
          "data": {
            "text/html": [
              "<pre style=\"white-space:pre;overflow-x:auto;line-height:normal;font-family:Menlo,'DejaVu Sans Mono',consolas,'Courier New',monospace\"><span style=\"font-weight: bold\">Retrieval</span>\n",
              "</pre>\n"
            ],
            "text/plain": [
              "\u001b[1mRetrieval\u001b[0m\n"
            ]
          },
          "metadata": {},
          "output_type": "display_data"
        },
        {
          "data": {
            "text/html": [
              "<pre style=\"white-space:pre;overflow-x:auto;line-height:normal;font-family:Menlo,'DejaVu Sans Mono',consolas,'Courier New',monospace\">    - NFCorpus, <span style=\"color: #626262; text-decoration-color: #626262; font-style: italic\">s2p</span>\n",
              "</pre>\n"
            ],
            "text/plain": [
              "    - NFCorpus, \u001b[3;38;5;241ms2p\u001b[0m\n"
            ]
          },
          "metadata": {},
          "output_type": "display_data"
        },
        {
          "data": {
            "text/html": [
              "<pre style=\"white-space:pre;overflow-x:auto;line-height:normal;font-family:Menlo,'DejaVu Sans Mono',consolas,'Courier New',monospace\">\n",
              "\n",
              "</pre>\n"
            ],
            "text/plain": [
              "\n",
              "\n"
            ]
          },
          "metadata": {},
          "output_type": "display_data"
        },
        {
          "name": "stderr",
          "output_type": "stream",
          "text": [
            "Batches: 100%|██████████| 3/3 [00:00<00:00,  3.54it/s]\n",
            "Batches: 100%|██████████| 29/29 [04:21<00:00,  9.03s/it]\n"
          ]
        },
        {
          "name": "stdout",
          "output_type": "stream",
          "text": [
            "[MTEBResults(task_name=NFCorpus, scores=...)]\n"
          ]
        },
        {
          "data": {
            "text/html": [
              "<pre style=\"white-space:pre;overflow-x:auto;line-height:normal;font-family:Menlo,'DejaVu Sans Mono',consolas,'Courier New',monospace\"><span style=\"color: #262626; text-decoration-color: #262626\">───────────────────────────────────────────────── </span><span style=\"font-weight: bold\">Selected tasks </span><span style=\"color: #262626; text-decoration-color: #262626\"> ─────────────────────────────────────────────────</span>\n",
              "</pre>\n"
            ],
            "text/plain": [
              "\u001b[38;5;235m───────────────────────────────────────────────── \u001b[0m\u001b[1mSelected tasks \u001b[0m\u001b[38;5;235m ─────────────────────────────────────────────────\u001b[0m\n"
            ]
          },
          "metadata": {},
          "output_type": "display_data"
        },
        {
          "data": {
            "text/html": [
              "<pre style=\"white-space:pre;overflow-x:auto;line-height:normal;font-family:Menlo,'DejaVu Sans Mono',consolas,'Courier New',monospace\"><span style=\"font-weight: bold\">Retrieval</span>\n",
              "</pre>\n"
            ],
            "text/plain": [
              "\u001b[1mRetrieval\u001b[0m\n"
            ]
          },
          "metadata": {},
          "output_type": "display_data"
        },
        {
          "data": {
            "text/html": [
              "<pre style=\"white-space:pre;overflow-x:auto;line-height:normal;font-family:Menlo,'DejaVu Sans Mono',consolas,'Courier New',monospace\">    - NFCorpus, <span style=\"color: #626262; text-decoration-color: #626262; font-style: italic\">s2p</span>\n",
              "</pre>\n"
            ],
            "text/plain": [
              "    - NFCorpus, \u001b[3;38;5;241ms2p\u001b[0m\n"
            ]
          },
          "metadata": {},
          "output_type": "display_data"
        },
        {
          "data": {
            "text/html": [
              "<pre style=\"white-space:pre;overflow-x:auto;line-height:normal;font-family:Menlo,'DejaVu Sans Mono',consolas,'Courier New',monospace\">\n",
              "\n",
              "</pre>\n"
            ],
            "text/plain": [
              "\n",
              "\n"
            ]
          },
          "metadata": {},
          "output_type": "display_data"
        },
        {
          "name": "stderr",
          "output_type": "stream",
          "text": [
            "Batches: 100%|██████████| 3/3 [00:01<00:00,  2.46it/s]\n",
            "Batches: 100%|██████████| 29/29 [04:18<00:00,  8.90s/it]\n"
          ]
        },
        {
          "name": "stdout",
          "output_type": "stream",
          "text": [
            "[MTEBResults(task_name=NFCorpus, scores=...)]\n"
          ]
        },
        {
          "data": {
            "text/html": [
              "<pre style=\"white-space:pre;overflow-x:auto;line-height:normal;font-family:Menlo,'DejaVu Sans Mono',consolas,'Courier New',monospace\"><span style=\"color: #262626; text-decoration-color: #262626\">───────────────────────────────────────────────── </span><span style=\"font-weight: bold\">Selected tasks </span><span style=\"color: #262626; text-decoration-color: #262626\"> ─────────────────────────────────────────────────</span>\n",
              "</pre>\n"
            ],
            "text/plain": [
              "\u001b[38;5;235m───────────────────────────────────────────────── \u001b[0m\u001b[1mSelected tasks \u001b[0m\u001b[38;5;235m ─────────────────────────────────────────────────\u001b[0m\n"
            ]
          },
          "metadata": {},
          "output_type": "display_data"
        },
        {
          "data": {
            "text/html": [
              "<pre style=\"white-space:pre;overflow-x:auto;line-height:normal;font-family:Menlo,'DejaVu Sans Mono',consolas,'Courier New',monospace\"><span style=\"font-weight: bold\">Retrieval</span>\n",
              "</pre>\n"
            ],
            "text/plain": [
              "\u001b[1mRetrieval\u001b[0m\n"
            ]
          },
          "metadata": {},
          "output_type": "display_data"
        },
        {
          "data": {
            "text/html": [
              "<pre style=\"white-space:pre;overflow-x:auto;line-height:normal;font-family:Menlo,'DejaVu Sans Mono',consolas,'Courier New',monospace\">    - NFCorpus, <span style=\"color: #626262; text-decoration-color: #626262; font-style: italic\">s2p</span>\n",
              "</pre>\n"
            ],
            "text/plain": [
              "    - NFCorpus, \u001b[3;38;5;241ms2p\u001b[0m\n"
            ]
          },
          "metadata": {},
          "output_type": "display_data"
        },
        {
          "data": {
            "text/html": [
              "<pre style=\"white-space:pre;overflow-x:auto;line-height:normal;font-family:Menlo,'DejaVu Sans Mono',consolas,'Courier New',monospace\">\n",
              "\n",
              "</pre>\n"
            ],
            "text/plain": [
              "\n",
              "\n"
            ]
          },
          "metadata": {},
          "output_type": "display_data"
        },
        {
          "name": "stderr",
          "output_type": "stream",
          "text": [
            "Batches: 100%|██████████| 3/3 [00:00<00:00,  4.68it/s]\n",
            "Batches: 100%|██████████| 29/29 [03:45<00:00,  7.76s/it]\n"
          ]
        },
        {
          "name": "stdout",
          "output_type": "stream",
          "text": [
            "[MTEBResults(task_name=NFCorpus, scores=...)]\n"
          ]
        }
      ],
      "source": [
        "import mteb\n",
        "\n",
        "ma_ckpt = \"ckpts/multi/text-only_epoch_1.pt\"\n",
        "m_dims = [64, 128, 256, 384]\n",
        "for m in m_dims:\n",
        "    ma_model = MASentenceTransformer('sentence-transformers/all-MiniLM-L6-v2', ma_ckpt=ma_ckpt, m=m)\n",
        "    ma_model.to('cuda')\n",
        "    model_name = f'all-MiniLM-L6-v2_MAT_ADAPTOR_UNSUPERVISED_Multi'\n",
        "\n",
        "    # Define the BEIR tasks you want to evaluate on\n",
        "    tasks = mteb.get_tasks(tasks=[\"NFCorpus\"])\n",
        "\n",
        "    # Evaluate the model on the benchmark\n",
        "    evaluation = mteb.MTEB(tasks=tasks)\n",
        "    results = evaluation.run(ma_model, output_folder=f\"results/NFCorpus/{model_name}/{m}\", eval_splits=[\"test\"])\n",
        "    print(results)\n"
      ]
    },
    {
      "cell_type": "markdown",
      "metadata": {},
      "source": [
        "### Visualize Results"
      ]
    },
    {
      "cell_type": "code",
      "execution_count": 9,
      "metadata": {},
      "outputs": [
        {
          "data": {
            "image/png": "[encoded data removed]",
            "text/plain": [
              "<Figure size 1000x600 with 1 Axes>"
            ]
          },
          "metadata": {},
          "output_type": "display_data"
        }
      ],
      "source": [
        "import json \n",
        "import matplotlib.pyplot as plt\n",
        "\n",
        "# BASE results\n",
        "base_result_paths = {\n",
        "    \"64\": \"results/NFCorpus/all-MiniLM-L6-v2_BASE/64/sentence-transformers__all-MiniLM-L6-v2/8b3219a92973c328a8e22fadcfa821b5dc75636a/NFCorpus.json\",\n",
        "    \"128\": \"results/NFCorpus/all-MiniLM-L6-v2_BASE/128/sentence-transformers__all-MiniLM-L6-v2/8b3219a92973c328a8e22fadcfa821b5dc75636a/NFCorpus.json\",\n",
        "    \"256\": \"results/NFCorpus/all-MiniLM-L6-v2_BASE/256/sentence-transformers__all-MiniLM-L6-v2/8b3219a92973c328a8e22fadcfa821b5dc75636a/NFCorpus.json\",\n",
        "    \"384\": \"results/NFCorpus/all-MiniLM-L6-v2_BASE/384/sentence-transformers__all-MiniLM-L6-v2/8b3219a92973c328a8e22fadcfa821b5dc75636a/NFCorpus.json\"\n",
        "}\n",
        "\n",
        "# PCA results\n",
        "pca_result_paths = {\n",
        "    \"64\": \"results/NFCorpus/all-MiniLM-L6-v2_PCA/64/sentence-transformers__all-MiniLM-L6-v2/8b3219a92973c328a8e22fadcfa821b5dc75636a/NFCorpus.json\",\n",
        "    \"128\": \"results/NFCorpus/all-MiniLM-L6-v2_PCA/128/sentence-transformers__all-MiniLM-L6-v2/8b3219a92973c328a8e22fadcfa821b5dc75636a/NFCorpus.json\",\n",
        "    \"256\": \"results/NFCorpus/all-MiniLM-L6-v2_PCA/256/sentence-transformers__all-MiniLM-L6-v2/8b3219a92973c328a8e22fadcfa821b5dc75636a/NFCorpus.json\",\n",
        "    \"384\": \"results/NFCorpus/all-MiniLM-L6-v2_BASE/384/sentence-transformers__all-MiniLM-L6-v2/8b3219a92973c328a8e22fadcfa821b5dc75636a/NFCorpus.json\",\n",
        "}\n",
        "\n",
        "# Unsupervised Matryoshka-Adaptor results\n",
        "# unsup_mat_adaptor_result_paths = {\n",
        "#     \"64\": \"results/NFCorpus/all-MiniLM-L6-v2_MAT_ADAPTOR_UNSUPERVISED/64/sentence-transformers__all-MiniLM-L6-v2/8b3219a92973c328a8e22fadcfa821b5dc75636a/NFCorpus.json\",\n",
        "#     \"128\": \"results/NFCorpus/all-MiniLM-L6-v2_MAT_ADAPTOR_UNSUPERVISED/128/sentence-transformers__all-MiniLM-L6-v2/8b3219a92973c328a8e22fadcfa821b5dc75636a/NFCorpus.json\",\n",
        "#     \"256\": \"results/NFCorpus/all-MiniLM-L6-v2_MAT_ADAPTOR_UNSUPERVISED/256/sentence-transformers__all-MiniLM-L6-v2/8b3219a92973c328a8e22fadcfa821b5dc75636a/NFCorpus.json\",\n",
        "#     # \"384\": \"results/NFCorpus/all-MiniLM-L6-v2_MAT_ADAPTOR_UNSUPERVISED/384/sentence-transformers__all-MiniLM-L6-v2/8b3219a92973c328a8e22fadcfa821b5dc75636a/NFCorpus.json\"\n",
        "# }\n",
        "\n",
        "# Multi\n",
        "\n",
        "unsup_mat_adaptor_result_paths = {\n",
        "    \"64\": \"results/NFCorpus/all-MiniLM-L6-v2_MAT_ADAPTOR_UNSUPERVISED_Multi/64/sentence-transformers__all-MiniLM-L6-v2/8b3219a92973c328a8e22fadcfa821b5dc75636a/NFCorpus.json\",\n",
        "    \"128\": \"results/NFCorpus/all-MiniLM-L6-v2_MAT_ADAPTOR_UNSUPERVISED_Multi/128/sentence-transformers__all-MiniLM-L6-v2/8b3219a92973c328a8e22fadcfa821b5dc75636a/NFCorpus.json\",\n",
        "    \"256\": \"results/NFCorpus/all-MiniLM-L6-v2_MAT_ADAPTOR_UNSUPERVISED_Multi/256/sentence-transformers__all-MiniLM-L6-v2/8b3219a92973c328a8e22fadcfa821b5dc75636a/NFCorpus.json\",\n",
        "    \"384\": \"results/NFCorpus/all-MiniLM-L6-v2_MAT_ADAPTOR_UNSUPERVISED_Multi/384/sentence-transformers__all-MiniLM-L6-v2/8b3219a92973c328a8e22fadcfa821b5dc75636a/NFCorpus.json\",\n",
        "}\n",
        "\n",
        "def load_results(result_paths):\n",
        "    dimensions = []\n",
        "    ndcg_at_10_values = []\n",
        "    \n",
        "    for dim, path in result_paths.items():\n",
        "        with open(path, 'r') as f:\n",
        "            data = json.load(f)\n",
        "            # Extract the NDCG@10 score\n",
        "            ndcg_at_10 = data['scores']['test'][0]['ndcg_at_10']\n",
        "            dimensions.append(int(dim))\n",
        "            ndcg_at_10_values.append(ndcg_at_10)\n",
        "    \n",
        "    return dimensions, ndcg_at_10_values\n",
        "\n",
        "# Load the results for each method\n",
        "base_dimensions, base_ndcg_at_10_values = load_results(base_result_paths)\n",
        "pca_dimensions, pca_ndcg_at_10_values = load_results(pca_result_paths)\n",
        "unsup_mat_adaptor_dimensions, unsup_mat_adaptor_ndcg_at_10_values = load_results(unsup_mat_adaptor_result_paths)\n",
        "\n",
        "# Plotting the results\n",
        "plt.figure(figsize=(10, 6))\n",
        "\n",
        "# Plot BASE\n",
        "plt.plot(base_dimensions, base_ndcg_at_10_values, marker='o', label='BASE')\n",
        "\n",
        "# Plot PCA\n",
        "plt.plot(pca_dimensions, pca_ndcg_at_10_values, marker='o', label='PCA')\n",
        "\n",
        "# Plot Unsupervised Matryoshka-Adaptor\n",
        "plt.plot(unsup_mat_adaptor_dimensions, unsup_mat_adaptor_ndcg_at_10_values, marker='o', label='MAT Adaptor (Unsupervised)')\n",
        "\n",
        "# Adding labels and title\n",
        "plt.xticks(range(0, max(base_dimensions) + 64, 64))\n",
        "plt.xlim(min(base_dimensions)-10, max(base_dimensions) + 10)\n",
        "plt.title('NDCG@10 vs Embedding Dimension For all-MiniLM-L6-v2')\n",
        "plt.xlabel('Embedding Dimension')\n",
        "plt.ylabel('NDCG@10')\n",
        "plt.grid(True)\n",
        "plt.legend()\n",
        "plt.show()\n"
      ]
    }
  ],
  "metadata": {
    "accelerator": "GPU",
    "colab": {
      "gpuType": "T4",
      "provenance": [],
      "toc_visible": true
    },
    "kernelspec": {
      "display_name": "Python 3",
      "name": "python3"
    },
    "language_info": {
      "codemirror_mode": {
        "name": "ipython",
        "version": 3
      },
      "file_extension": ".py",
      "mimetype": "text/x-python",
      "name": "python",
      "nbconvert_exporter": "python",
      "pygments_lexer": "ipython3",
      "version": "3.12.4"
    }
  },
  "nbformat": 4,
  "nbformat_minor": 0
}
